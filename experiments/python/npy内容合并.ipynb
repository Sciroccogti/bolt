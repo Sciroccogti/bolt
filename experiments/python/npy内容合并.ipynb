{
 "cells": [
  {
   "cell_type": "markdown",
   "metadata": {},
   "source": [
    "合并data_to_fc/feature训练数据集（e39_0-6999）,测试数据集（e39_7000-7999)"
   ]
  },
  {
   "cell_type": "code",
   "execution_count": 4,
   "metadata": {},
   "outputs": [],
   "source": [
    "import numpy as np\n",
    "import os"
   ]
  },
  {
   "cell_type": "code",
   "execution_count": 9,
   "metadata": {},
   "outputs": [],
   "source": [
    "dir0 = 'F:\\\\Projects\\\\python\\\\PQ\\\\intermediate8dbfc1\\\\'\n",
    "data_to_fcpath0= dir0 + 'data_to_fc_e39_0.npy'\n",
    "data_to_fc0 = np.load(data_to_fcpath0, mmap_mode=None, allow_pickle=False, fix_imports=True, encoding='ASCII')"
   ]
  },
  {
   "cell_type": "code",
   "execution_count": 10,
   "metadata": {},
   "outputs": [],
   "source": [
    "# 合并data_to_fc训练数据集（e39_0-6999）\n",
    "for i in range(1,7000):\n",
    "    data_to_fcpath1= dir0 + 'data_to_fc_e39_%i.npy' % i \n",
    "    data_to_fc1 = np.load(data_to_fcpath1, mmap_mode=None, allow_pickle=False, fix_imports=True, encoding='ASCII')\n",
    "    data_to_fc0 = np.append(data_to_fc0, data_to_fc1, axis=0)"
   ]
  },
  {
   "cell_type": "code",
   "execution_count": 13,
   "metadata": {},
   "outputs": [
    {
     "name": "stdout",
     "output_type": "stream",
     "text": [
      "(224000, 2048)\n"
     ]
    }
   ],
   "source": [
    "print(data_to_fc0.shape)\n",
    "np.save(dir0+'data_to_fc_train.npy', data_to_fc0) "
   ]
  },
  {
   "cell_type": "code",
   "execution_count": 15,
   "metadata": {},
   "outputs": [],
   "source": [
    "featurepath0= dir0 + 'feature_e39_0.npy'\n",
    "feature0 = np.load(featurepath0, mmap_mode=None, allow_pickle=False, fix_imports=True, encoding='ASCII')"
   ]
  },
  {
   "cell_type": "code",
   "execution_count": 16,
   "metadata": {},
   "outputs": [],
   "source": [
    "# 合并feature训练数据集（e39_0-6999）\n",
    "for i in range(1,7000):\n",
    "    featurepath1= dir0 + 'feature_e39_%i.npy' % i \n",
    "    feature1 = np.load(featurepath1, mmap_mode=None, allow_pickle=False, fix_imports=True, encoding='ASCII')\n",
    "    feature0 = np.append(feature0, feature1, axis=0)"
   ]
  },
  {
   "cell_type": "code",
   "execution_count": 17,
   "metadata": {},
   "outputs": [
    {
     "name": "stdout",
     "output_type": "stream",
     "text": [
      "(224000, 256)\n"
     ]
    }
   ],
   "source": [
    "print(feature0.shape)\n",
    "np.save(dir0+'feature_train.npy', feature0) "
   ]
  },
  {
   "cell_type": "code",
   "execution_count": null,
   "metadata": {},
   "outputs": [],
   "source": [
    "\n"
   ]
  },
  {
   "cell_type": "code",
   "execution_count": null,
   "metadata": {},
   "outputs": [],
   "source": []
  }
 ],
 "metadata": {
  "kernelspec": {
   "display_name": "Python 3.8.13 ('PQ')",
   "language": "python",
   "name": "python3"
  },
  "language_info": {
   "codemirror_mode": {
    "name": "ipython",
    "version": 3
   },
   "file_extension": ".py",
   "mimetype": "text/x-python",
   "name": "python",
   "nbconvert_exporter": "python",
   "pygments_lexer": "ipython3",
   "version": "3.8.13"
  },
  "orig_nbformat": 4,
  "vscode": {
   "interpreter": {
    "hash": "c58ec5320688f90a968f6b915ced038d1b61d036794cbc96752cb7f08b73ac5a"
   }
  }
 },
 "nbformat": 4,
 "nbformat_minor": 2
}
