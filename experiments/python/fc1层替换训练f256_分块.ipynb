{
 "cells": [
  {
   "cell_type": "code",
   "execution_count": 60,
   "metadata": {},
   "outputs": [],
   "source": [
    "import numpy as np\n",
    "import os\n",
    "import matmul as mm\n",
    "import math_util as mu\n",
    "import scipy.io as io\n",
    "from amm_methods import *\n",
    "import socket # Obtain the current host name, which can be used to select different data directories and result saving directories"
   ]
  },
  {
   "cell_type": "code",
   "execution_count": 61,
   "metadata": {},
   "outputs": [],
   "source": [
    "method = METHOD_MITHRAL\n",
    "# method = METHOD_PQ\n",
    "# method = METHOD_EXACT\n",
    "# method = METHOD_SCALAR_QUANTIZE"
   ]
  },
  {
   "cell_type": "code",
   "execution_count": 62,
   "metadata": {},
   "outputs": [],
   "source": [
    "feedback_bits = 256\n",
    "ncodebooks=128\n",
    "ncentroids=16\n",
    "train_sam_num = 3000 # 训练集样本数\n",
    "split_Br = 2 # A的列、B的行分割成split_br份\n",
    "split_Bc = 2 # B的列分割成split_bc份\n",
    "amm_ind_list = [(0, 1)]#[(0,0), (0, 1), (1, 0), (1, 1)] # 使用近似矩阵乘的小矩阵索引（针对矩阵B）\n",
    "amm_simple_ind_list = []\n",
    "for ind in amm_ind_list:\n",
    "    amm_simple_ind_list.append(ind[0]*split_Bc + ind[1])"
   ]
  },
  {
   "cell_type": "code",
   "execution_count": 63,
   "metadata": {},
   "outputs": [],
   "source": [
    "# zx = np.random.randint(1,100,(11,3))\n",
    "# print(zx)\n",
    "# mins_new, ranges_new = saturation_sort(zx)\n",
    "# print(mins_new, ranges_new)"
   ]
  },
  {
   "cell_type": "code",
   "execution_count": 76,
   "metadata": {},
   "outputs": [
    {
     "name": "stdout",
     "output_type": "stream",
     "text": [
      "/data/hdr/pq/res/Mithral\n"
     ]
    }
   ],
   "source": [
    "host_name = socket.gethostname()\n",
    "if host_name == 'DESKTOP-PLRL7TK':\n",
    "    dir_train = 'E:\\\\hdr\\\\研一\\\\华为-深度学习\\\\intermediate\\\\intermediate8dbfc1'\n",
    "    dir_result = ''\n",
    "elif host_name == 'DESKTOP-6FOH47P':\n",
    "    dir_train = 'F:\\\\Projects\\\\python\\\\PQ\\\\intermediate8dbfc1'\n",
    "    dir_result = 'F:\\\\Projects\\\\python\\\\PQ\\\\res'\n",
    "    data_to_fcpath_train= 'data_to_fc_e39_7999.npy'\n",
    "    featurepath_train= 'feature_e39_7999.npy'\n",
    "    data_to_fcpath_test = 'data_to_fc_e39_7999.npy'\n",
    "    featurepath_test = 'feature_e39_7999.npy'\n",
    "elif host_name == 'jm-System-Product-Name':\n",
    "    dir_train = '/data/hdr/transformer_data/joined'\n",
    "    dir_result = '/data/hdr/pq/res'\n",
    "    data_to_fcpath_train= 'data_to_fc_train_f%i_sam%i.npy' % (feedback_bits, train_sam_num)\n",
    "    y_train = 'y_train_f%i_sam%i.npy' % (feedback_bits, train_sam_num)\n",
    "    featurepath_train= 'feature_train_f%i_sam%i.npy' % (feedback_bits, train_sam_num)\n",
    "    data_to_fcpath_test = 'data_to_fc_test.npy'\n",
    "    featurepath_test = 'feature_test.npy'\n",
    "    y_test = 'y_test.npy'\n",
    "else:\n",
    "    raise NameError(\"You are running the script in a new computer, please define dir_train\")\n",
    "\n",
    "dir_train_split = os.path.join(dir_train, 'train', 'f'+str(feedback_bits), 'split_Br'+str(split_Br)+'_split_Bc'+str(split_Bc))\n",
    "try:\n",
    "    os.mkdir(dir_train_split)\n",
    "except FileExistsError:\n",
    "    pass\n",
    "# print(dir_train_split)\n",
    "dir_test_split = os.path.join(dir_train, 'test', 'f'+str(feedback_bits), 'split_Br'+str(split_Br)+'_split_Bc'+str(split_Bc))\n",
    "try:\n",
    "    os.mkdir(dir_test_split)\n",
    "except FileExistsError:\n",
    "    pass \n",
    "\n",
    "\n",
    "weightpath = 'encoder_fcw.npy'\n",
    "biaspath = 'encoder_fcb.npy'\n",
    "dir_result = os.path.join(dir_result, method)\n",
    "# print(dir_result)\n"
   ]
  },
  {
   "cell_type": "markdown",
   "metadata": {},
   "source": [
    "### 切分训练集"
   ]
  },
  {
   "cell_type": "markdown",
   "metadata": {},
   "source": [
    "切分训练集A矩阵"
   ]
  },
  {
   "cell_type": "code",
   "execution_count": 65,
   "metadata": {},
   "outputs": [
    {
     "name": "stdout",
     "output_type": "stream",
     "text": [
      "(96000, 2048)\n"
     ]
    }
   ],
   "source": [
    "data_to_fc_train = np.load(os.path.join(dir_train, data_to_fcpath_train))\n",
    "print(data_to_fc_train.shape)\n",
    "split_size_Ac = int(data_to_fc_train.shape[1] / split_Br) # split后单个训练集A的列数\n",
    "data_to_fc_train_split_path_list = []\n",
    "for i in range(split_Br):\n",
    "    data_to_fc_train_split_path_list.append(os.path.join(dir_train_split, 'data_to_fc1_train_f'+str(feedback_bits)+'_split'+str(split_Br)+'_'+str(i)+'.npy'))\n",
    "    np.save(data_to_fc_train_split_path_list[i], data_to_fc_train[np.ix_(range(data_to_fc_train.shape[0]), range(i*split_size_Ac,(i+1)*split_size_Ac))])"
   ]
  },
  {
   "cell_type": "markdown",
   "metadata": {},
   "source": [
    "切分训练集B矩阵"
   ]
  },
  {
   "cell_type": "code",
   "execution_count": 66,
   "metadata": {},
   "outputs": [
    {
     "name": "stdout",
     "output_type": "stream",
     "text": [
      "(2048, 256)\n"
     ]
    }
   ],
   "source": [
    "weight_train = np.load(os.path.join(dir_train, weightpath))\n",
    "print(weight_train.shape)\n",
    "split_size_Br = split_size_Ac # split后 B的行数\n",
    "split_size_Bc = int(weight_train.shape[1] / split_Bc) # split后B的列数\n",
    "split_total_num_B = split_size_Bc * split_size_Br # B矩阵分成了多少块\n",
    "weight_train_split_path_list = []\n",
    "B_split_ind = 0 # B的分块的序号，从0开始\n",
    "for i in range(split_Br):\n",
    "    for j in range(split_Bc):\n",
    "        weight_train_split_path_list.append(os.path.join(dir_train_split, 'weight_fc1_train_f'+str(feedback_bits)+'_sr'+str(split_Br)+'_'+str(i)+'_sc'+str(split_Bc)+'_'+str(j)+'.npy'))\n",
    "        np.save(weight_train_split_path_list[i*split_Bc + j], weight_train[np.ix_(range(i*split_size_Br,(i+1)*split_size_Br), range(j*split_size_Bc,(j+1)*split_size_Bc))])\n",
    "        "
   ]
  },
  {
   "cell_type": "markdown",
   "metadata": {},
   "source": [
    "训练集A与B相乘"
   ]
  },
  {
   "cell_type": "code",
   "execution_count": 67,
   "metadata": {},
   "outputs": [],
   "source": [
    "y_train_split_path_list = []\n",
    "for i in range(split_Br):\n",
    "    for j in range(split_Bc):\n",
    "        y_train_split_path_list.append(os.path.join(dir_train_split, 'y_fc1_train_f'+str(feedback_bits)+'_sr'+str(split_Br)+'_'+str(i)+'_sc'+str(split_Bc)+'_'+str(j)+'.npy'))\n",
    "        xx = np.load(data_to_fc_train_split_path_list[i])\n",
    "        ww = np.load(weight_train_split_path_list[i*split_Bc + j])\n",
    "        np.save(y_train_split_path_list[i*split_Bc + j], np.matmul(xx, ww))"
   ]
  },
  {
   "cell_type": "markdown",
   "metadata": {},
   "source": [
    "### 切分测试集"
   ]
  },
  {
   "cell_type": "code",
   "execution_count": 68,
   "metadata": {},
   "outputs": [
    {
     "name": "stdout",
     "output_type": "stream",
     "text": [
      "(32000, 2048)\n"
     ]
    }
   ],
   "source": [
    "data_to_fc_test = np.load(os.path.join(dir_train, data_to_fcpath_test))\n",
    "print(data_to_fc_test.shape)\n",
    "# split_size = int(data_to_fc_train.shape[1] / split) # split后单个训练集A的列数\n",
    "data_to_fc_test_split_path_list = []\n",
    "for i in range(split_Br):\n",
    "    data_to_fc_test_split_path_list.append(os.path.join(dir_test_split, 'data_to_fc1_test_f'+str(feedback_bits)+'_split'+str(split_Br)+'_'+str(i)+'.npy'))\n",
    "    np.save(data_to_fc_test_split_path_list[i], data_to_fc_test[np.ix_(range(data_to_fc_test.shape[0]), range(i*split_size_Ac,(i+1)*split_size_Ac))])"
   ]
  },
  {
   "cell_type": "code",
   "execution_count": 69,
   "metadata": {},
   "outputs": [],
   "source": [
    "# # 输入与weight相乘\n",
    "# y_test_split_path_list = []\n",
    "# for i in range(split):\n",
    "#     y_test_split_path_list.append(os.path.join(dir_test_split, 'y_fc1_test_f'+str(feedback_bits)+'_split'+str(split)+'_'+str(i)+'.npy'))\n",
    "#     xx = np.load(data_to_fc_test_split_path_list[i])\n",
    "#     ww = np.load(weight_train_split_path_list[i])\n",
    "#     np.save(y_test_split_path_list[i], np.matmul(xx, ww))"
   ]
  },
  {
   "cell_type": "markdown",
   "metadata": {},
   "source": [
    "### AMM训练"
   ]
  },
  {
   "cell_type": "code",
   "execution_count": 70,
   "metadata": {},
   "outputs": [
    {
     "name": "stdout",
     "output_type": "stream",
     "text": [
      "==============================\n",
      "running method:  Mithral\n",
      "==============================\n",
      "running method:  Mithral\n",
      "==============================\n",
      "running method:  Mithral\n",
      "==============================\n",
      "running method:  Mithral\n"
     ]
    }
   ],
   "source": [
    "est_list = []\n",
    "for i in range(split_Br):\n",
    "    for j in range(split_Bc):\n",
    "        if (i, j) in amm_ind_list:\n",
    "            dir_est, X_path = os.path.split(data_to_fc_train_split_path_list[i])\n",
    "            dir_est, W_path = os.path.split(weight_train_split_path_list[i*split_Bc + j])\n",
    "            dir_est, Y_path = os.path.split(y_train_split_path_list[i*split_Bc + j])\n",
    "            est3 = mm.estFactory(X_path=X_path, W_path=W_path, Y_path=Y_path, dir= dir_est, ncodebooks=ncodebooks, ncentroids=ncentroids, methods=[method])\n",
    "            est_list.append(est3)\n",
    "\n",
    "\n",
    "\n",
    "# for i in range(split):\n",
    "#     dir_est, X_path = os.path.split(data_to_fc_train_split_path_list[i])\n",
    "#     dir_est, W_path = os.path.split(weight_train_split_path_list[i])\n",
    "#     dir_est, Y_path = os.path.split(y_train_split_path_list[i])\n",
    "#     est3 = mm.estFactory(X_path=X_path, W_path=W_path, Y_path=Y_path, dir= dir_est, ncodebooks=ncodebooks, ncentroids=ncentroids, methods=[method])\n",
    "#     est_list.append(est3)\n"
   ]
  },
  {
   "cell_type": "code",
   "execution_count": 71,
   "metadata": {},
   "outputs": [],
   "source": [
    "y_split_out_matmul_list = []\n",
    "i_est_list = 0 # est_list的索引\n",
    "for i in range(split_Br):\n",
    "    for j in range(split_Bc):\n",
    "        x_test = np.load(data_to_fc_test_split_path_list[i])\n",
    "        w_test = np.load(weight_train_split_path_list[i*split_Bc + j])\n",
    "        if (i, j) in amm_ind_list: # 用近似矩阵乘法的分块\n",
    "            y_split_out_matmul = mm.eval_matmul(est_list[i_est_list], x_test, w_test)\n",
    "            i_est_list += 1\n",
    "        else:\n",
    "            y_split_out_matmul = np.matmul(x_test, w_test)\n",
    "        y_split_out_matmul_list.append(y_split_out_matmul)"
   ]
  },
  {
   "cell_type": "code",
   "execution_count": 72,
   "metadata": {},
   "outputs": [],
   "source": [
    "# split 的矩阵结果合成\n",
    "# 先纵向相加\n",
    "sum_col_list = []\n",
    "for j in range(split_Bc):\n",
    "    sum_col = np.zeros((y_split_out_matmul_list[0].shape[0], split_size_Bc))\n",
    "    for i in range(split_Br):\n",
    "        sum_col += y_split_out_matmul_list[i * split_Bc + j]\n",
    "    sum_col_list.append(sum_col)\n",
    "\n",
    "#再横向拼接\n",
    "y_out_matmul = sum_col_list[0]\n",
    "if split_Bc > 1:\n",
    "    for j in range(1, split_Bc):\n",
    "        y_out_matmul = np.append(y_out_matmul, sum_col_list[j], axis=1)\n"
   ]
  },
  {
   "cell_type": "code",
   "execution_count": 73,
   "metadata": {},
   "outputs": [],
   "source": [
    "bias = np.load(dir_train+'/'+biaspath)\n",
    "y_out_last = y_out_matmul + bias.T # MADDNESS替换后当前层输出，即+bias并不需要激活函数后的结果"
   ]
  },
  {
   "cell_type": "code",
   "execution_count": 74,
   "metadata": {},
   "outputs": [],
   "source": [
    "amm_simple_ind_str= ''\n",
    "for ind in amm_simple_ind_list:\n",
    "    amm_simple_ind_str += str(ind)\n",
    "\n",
    "# print(amm_simple_ind_str)"
   ]
  },
  {
   "cell_type": "code",
   "execution_count": 75,
   "metadata": {},
   "outputs": [
    {
     "name": "stdout",
     "output_type": "stream",
     "text": [
      "[[-0.16790683 -0.13088357 -0.41125762 ... -0.08560264  0.03032401\n",
      "   0.0785255 ]\n",
      " [-0.24618472 -0.24047261 -0.35646311 ... -0.35957526  0.04597959\n",
      "   0.03938655]\n",
      " [ 0.45048848  0.08046673 -0.19990735 ... -0.29695295  0.15556864\n",
      "   0.17245897]\n",
      " ...\n",
      " [ 0.01213231 -0.06826126 -0.30949637 ...  0.18054217 -0.11840396\n",
      "   0.21159791]\n",
      " [ 0.2234826   0.09612231 -0.24687408 ...  0.21968111  0.00684065\n",
      "   0.05504213]\n",
      " [-0.26966807  0.11960567 -0.05900715 ... -0.17953612 -0.32192648\n",
      "  -0.03106354]]\n",
      "(32000, 256)\n"
     ]
    }
   ],
   "source": [
    "print(y_out_last)\n",
    "print(y_out_last.shape)\n",
    "# np.save(\"LDPC_decoder_NET_testdata/\" + snr + \"nomul_matmul_yout_matmul\", y_out_matmul)\n",
    "# np.save(dir_result+'/'+method+'fc1_fb256_cb%i_ct%i.npy' % (ncodebooks, ncentroids), y_out_matmul)\n",
    "\n",
    "np.save(dir_result+'/'+method+'fc1_sr%i_sc%i_amm%s_fb%i_cb%i_ct%i.npy' % (split_Br, split_Bc, amm_simple_ind_str, feedback_bits, ncodebooks, ncentroids), y_out_last.astype(np.float32))\n",
    "# io.savemat(dir_result+'\\\\fc1_256.mat', {\"NN_output_buffer\": y_out_last})"
   ]
  },
  {
   "cell_type": "code",
   "execution_count": null,
   "metadata": {},
   "outputs": [],
   "source": []
  }
 ],
 "metadata": {
  "kernelspec": {
   "display_name": "Python 3.8.13 ('pqhdr')",
   "language": "python",
   "name": "python3"
  },
  "language_info": {
   "codemirror_mode": {
    "name": "ipython",
    "version": 3
   },
   "file_extension": ".py",
   "mimetype": "text/x-python",
   "name": "python",
   "nbconvert_exporter": "python",
   "pygments_lexer": "ipython3",
   "version": "3.8.13"
  },
  "orig_nbformat": 4,
  "vscode": {
   "interpreter": {
    "hash": "ec04f7dc2b3ae4a422de9aaf96e8c62fe190a2869a08d14112cb2d7713497448"
   }
  }
 },
 "nbformat": 4,
 "nbformat_minor": 2
}
