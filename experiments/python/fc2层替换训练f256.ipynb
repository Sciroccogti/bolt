{
 "cells": [
  {
   "cell_type": "code",
   "execution_count": 157,
   "metadata": {},
   "outputs": [],
   "source": [
    "import numpy as np\n",
    "import os\n",
    "import matmul as mm\n",
    "import math_util as mu\n",
    "import scipy.io as io\n",
    "from amm_methods import *\n",
    "import socket # Obtain the current host name, which can be used to select different data directories and result saving directories"
   ]
  },
  {
   "cell_type": "code",
   "execution_count": 158,
   "metadata": {},
   "outputs": [],
   "source": [
    "# method = METHOD_MITHRAL\n",
    "method = METHOD_PQ"
   ]
  },
  {
   "cell_type": "code",
   "execution_count": 159,
   "metadata": {},
   "outputs": [],
   "source": [
    "linear_name = 'fc2'\n",
    "feedback_bits = 256\n",
    "ncodebooks=32 #max：256 feedbackbits\n",
    "ncentroids=256\n",
    "if method == METHOD_MITHRAL:\n",
    "    ncentroids = 16\n",
    "train_sam_num = 3000\n",
    "test_sam_num = 1000"
   ]
  },
  {
   "cell_type": "code",
   "execution_count": 160,
   "metadata": {},
   "outputs": [],
   "source": [
    "host_name = socket.gethostname()\n",
    "if host_name == 'DESKTOP-PLRL7TK':\n",
    "    dir_train = 'E:\\\\hdr\\\\研一\\\\华为-深度学习\\\\intermediate\\\\intermediate8dbfc1'\n",
    "    dir_result = ''\n",
    "elif host_name == 'DESKTOP-6FOH47P':\n",
    "    dir_train = 'F:\\\\Projects\\\\python\\\\PQ\\\\intermediate8dbfc1'\n",
    "    dir_result = 'F:\\\\Projects\\\\python\\\\PQ\\\\res'\n",
    "    fc2inpath_train= 'fc2in_e39_7999.npy'\n",
    "    fc2outpath_train= 'fc2out_e39_7999.npy'\n",
    "    fc2inpath_test = 'fc2in_e39_7999.npy'\n",
    "    fc2outpath_test = 'fc2out_e39_7999.npy'\n",
    "elif host_name == 'jm-System-Product-Name':\n",
    "    dir_train = os.path.join('/data/hdr/transformer_data/joined', 'train', 'f'+str(feedback_bits))\n",
    "    dir_test = os.path.join('/data/hdr/transformer_data/joined', 'test', 'f'+str(feedback_bits))\n",
    "    dir_result = '/data/hdr/pq/res'\n",
    "    fc2inpath_train= 'fc2in_train_f%i_sam%i.npy' % (feedback_bits, train_sam_num)\n",
    "    fc2y_train = 'fc2y_train_f%i_sam%i.npy' % (feedback_bits, train_sam_num)\n",
    "    fc2outpath_train= 'fc2out_train_f%i_sam%i.npy' % (feedback_bits, train_sam_num)\n",
    "    fc2inpath_test = 'fc2in_test_f%i_sam%i.npy' % (feedback_bits, test_sam_num)\n",
    "    fc2outpath_test = 'fc2out_test_f%i_sam%i.npy' % (feedback_bits, test_sam_num)\n",
    "    fc2y_test = 'fc2y_test_f%i.npy' % feedback_bits\n",
    "else:\n",
    "    raise NameError(\"You are running the script in a new computer, please define dir_train\")\n",
    "\n",
    "\n",
    "weightpath = 'fc2_w_f%i.npy' % feedback_bits\n",
    "biaspath = 'fc2_b_f%i.npy' % feedback_bits\n",
    "dir_result = os.path.join(dir_result, method, \"f%i\" % feedback_bits, linear_name)\n",
    "try:\n",
    "    os.mkdir(dir_result)\n",
    "except FileExistsError:\n",
    "    pass \n"
   ]
  },
  {
   "cell_type": "code",
   "execution_count": 161,
   "metadata": {},
   "outputs": [
    {
     "name": "stdout",
     "output_type": "stream",
     "text": [
      "==============================\n",
      "running method:  PQ\n",
      "running kmeans in subspace 1/32... mse / {var(X_subs), var(X)}: 0.274, 0.309\n",
      "running kmeans in subspace 2/32... mse / {var(X_subs), var(X)}: 0.273, 0.276\n",
      "running kmeans in subspace 3/32... mse / {var(X_subs), var(X)}: 0.296, 0.239\n",
      "running kmeans in subspace 4/32... mse / {var(X_subs), var(X)}: 0.307, 0.229\n",
      "running kmeans in subspace 5/32... mse / {var(X_subs), var(X)}: 0.293, 0.24\n",
      "running kmeans in subspace 6/32... mse / {var(X_subs), var(X)}: 0.29, 0.254\n",
      "running kmeans in subspace 7/32... mse / {var(X_subs), var(X)}: 0.281, 0.292\n",
      "running kmeans in subspace 8/32... mse / {var(X_subs), var(X)}: 0.283, 0.287\n",
      "running kmeans in subspace 9/32... mse / {var(X_subs), var(X)}: 0.278, 0.262\n",
      "running kmeans in subspace 10/32... mse / {var(X_subs), var(X)}: 0.301, 0.222\n",
      "running kmeans in subspace 11/32... mse / {var(X_subs), var(X)}: 0.277, 0.312\n",
      "running kmeans in subspace 12/32... mse / {var(X_subs), var(X)}: 0.291, 0.294\n",
      "running kmeans in subspace 13/32... mse / {var(X_subs), var(X)}: 0.271, 0.284\n",
      "running kmeans in subspace 14/32... mse / {var(X_subs), var(X)}: 0.273, 0.293\n",
      "running kmeans in subspace 15/32... mse / {var(X_subs), var(X)}: 0.284, 0.261\n",
      "running kmeans in subspace 16/32... mse / {var(X_subs), var(X)}: 0.291, 0.289\n",
      "running kmeans in subspace 17/32... mse / {var(X_subs), var(X)}: 0.288, 0.259\n",
      "running kmeans in subspace 18/32... mse / {var(X_subs), var(X)}: 0.267, 0.308\n",
      "running kmeans in subspace 19/32... mse / {var(X_subs), var(X)}: 0.291, 0.278\n",
      "running kmeans in subspace 20/32... mse / {var(X_subs), var(X)}: 0.301, 0.232\n",
      "running kmeans in subspace 21/32... mse / {var(X_subs), var(X)}: 0.281, 0.28\n",
      "running kmeans in subspace 22/32... mse / {var(X_subs), var(X)}: 0.274, 0.284\n",
      "running kmeans in subspace 23/32... mse / {var(X_subs), var(X)}: 0.284, 0.269\n",
      "running kmeans in subspace 24/32... mse / {var(X_subs), var(X)}: 0.278, 0.264\n",
      "running kmeans in subspace 25/32... mse / {var(X_subs), var(X)}: 0.292, 0.295\n",
      "running kmeans in subspace 26/32... mse / {var(X_subs), var(X)}: 0.284, 0.294\n",
      "running kmeans in subspace 27/32... mse / {var(X_subs), var(X)}: 0.248, 0.293\n",
      "running kmeans in subspace 28/32... mse / {var(X_subs), var(X)}: 0.286, 0.271\n",
      "running kmeans in subspace 29/32... mse / {var(X_subs), var(X)}: 0.256, 0.327\n",
      "running kmeans in subspace 30/32... mse / {var(X_subs), var(X)}: 0.272, 0.278\n",
      "running kmeans in subspace 31/32... mse / {var(X_subs), var(X)}: 0.249, 0.321\n",
      "running kmeans in subspace 32/32... mse / {var(X_subs), var(X)}: 0.241, 0.296\n",
      "--- total mse / var(X): 0.278\n",
      "learning quantization...\n"
     ]
    }
   ],
   "source": [
    "est3 = mm.estFactory(X_path=fc2inpath_train, W_path=weightpath, Y_path=fc2y_train, dir= dir_train, ncodebooks=ncodebooks, ncentroids=ncentroids, methods=[method])\n"
   ]
  },
  {
   "cell_type": "code",
   "execution_count": 162,
   "metadata": {},
   "outputs": [],
   "source": [
    "x_test = np.load(dir_test+'/'+fc2inpath_test)\n",
    "w_test = np.load(dir_train+'/'+weightpath)\n",
    "bias = np.load(dir_train+'/'+biaspath)\n",
    "# print(type(est3))\n",
    "y_out_matmul = mm.eval_matmul(est3, x_test, w_test) # MADDNESS乘法的结果\n",
    "# y_out_last = mu.softmax(y_out_matmul + bias.T) # MADDNESS替换后当前层输出，即+bias并激活函数后的结果\n",
    "y_out_last = y_out_matmul + bias.T # MADDNESS替换后当前层输出，即+bias并不需要激活函数后的结果"
   ]
  },
  {
   "cell_type": "code",
   "execution_count": 163,
   "metadata": {},
   "outputs": [
    {
     "name": "stdout",
     "output_type": "stream",
     "text": [
      "(32000, 2048)\n",
      "y_out_last_re.shape:  (1000, 32, 2048)\n"
     ]
    }
   ],
   "source": [
    "# print(y_out_last)\n",
    "print(y_out_last.shape)\n",
    "y_out_last_re = y_out_last.reshape(test_sam_num, -1, y_out_last.shape[-1])\n",
    "print(\"y_out_last_re.shape: \", y_out_last_re.shape)\n",
    "# np.save(\"LDPC_decoder_NET_testdata/\" + snr + \"nomul_matmul_yout_matmul\", y_out_matmul)\n",
    "# np.save(dir_result+'/'+method+'fc1_fb256_cb%i_ct%i.npy' % (ncodebooks, ncentroids), y_out_matmul)\n",
    "# np.save(dir_result+'/'+method+'fc1_fb%i_cb%i_ct%i.npy' % (feedback_bits, ncodebooks, ncentroids), y_out_last)\n",
    "np.save(os.path.join(dir_result, '%s%s_trsam%i_tesam%i_fb%i_cb%i_ct%i.npy' % (method, linear_name, train_sam_num, test_sam_num, feedback_bits, ncodebooks, ncentroids)), y_out_last_re)\n",
    "# io.savemat(dir_result+'\\\\fc1_256.mat', {\"NN_output_buffer\": y_out_last})"
   ]
  },
  {
   "cell_type": "code",
   "execution_count": null,
   "metadata": {},
   "outputs": [],
   "source": []
  }
 ],
 "metadata": {
  "kernelspec": {
   "display_name": "Python 3.8.13 ('pqhdr')",
   "language": "python",
   "name": "python3"
  },
  "language_info": {
   "codemirror_mode": {
    "name": "ipython",
    "version": 3
   },
   "file_extension": ".py",
   "mimetype": "text/x-python",
   "name": "python",
   "nbconvert_exporter": "python",
   "pygments_lexer": "ipython3",
   "version": "3.8.13"
  },
  "orig_nbformat": 4,
  "vscode": {
   "interpreter": {
    "hash": "ec04f7dc2b3ae4a422de9aaf96e8c62fe190a2869a08d14112cb2d7713497448"
   }
  }
 },
 "nbformat": 4,
 "nbformat_minor": 2
}
