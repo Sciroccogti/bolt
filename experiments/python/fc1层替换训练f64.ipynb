{
 "cells": [
  {
   "cell_type": "code",
   "execution_count": 1,
   "metadata": {},
   "outputs": [],
   "source": [
    "import numpy as np\n",
    "import os\n",
    "import matmul as mm\n",
    "import math_util as mu\n",
    "import scipy.io as io\n",
    "from amm_methods import *\n",
    "import socket # Obtain the current host name, which can be used to select different data directories and result saving directories"
   ]
  },
  {
   "cell_type": "code",
   "execution_count": 2,
   "metadata": {},
   "outputs": [],
   "source": [
    "# method = METHOD_MITHRAL\n",
    "method = METHOD_PQ"
   ]
  },
  {
   "cell_type": "code",
   "execution_count": 3,
   "metadata": {},
   "outputs": [],
   "source": [
    "host_name = socket.gethostname()\n",
    "if host_name == 'DESKTOP-PLRL7TK':\n",
    "    dir_train = 'E:\\\\hdr\\\\研一\\\\华为-深度学习\\\\intermediate\\\\intermediate8dbfc1'\n",
    "    dir_result = ''\n",
    "elif host_name == 'DESKTOP-6FOH47P':\n",
    "    dir_train = 'F:\\\\Projects\\\\python\\\\PQ\\\\intermediate8dbfc1'\n",
    "    dir_result = 'F:\\\\Projects\\\\python\\\\PQ\\\\res'\n",
    "    data_to_fcpath_train= 'data_to_fc_e39_7999.npy'\n",
    "    featurepath_train= 'feature_e39_7999.npy'\n",
    "    data_to_fcpath_test = 'data_to_fc_e39_7999.npy'\n",
    "    featurepath_test = 'feature_e39_7999.npy'\n",
    "elif host_name == 'jm-System-Product-Name':\n",
    "    dir_train = '/data/hdr/transformer_data/joined'\n",
    "    dir_result = '/data/hdr/pq/res'\n",
    "    data_to_fcpath_train= 'data_to_fc_train.npy'\n",
    "    y_train = 'y_train.npy'\n",
    "    featurepath_train= 'feature_train.npy'\n",
    "    data_to_fcpath_test = 'data_to_fc_test.npy'\n",
    "    featurepath_test = 'feature_test.npy'\n",
    "    y_test = 'y_test.npy'\n",
    "else:\n",
    "    raise NameError(\"You are running the script in a new computer, please define dir_train\")\n",
    "\n",
    "\n",
    "weightpath = 'encoder_fcw.npy'\n",
    "biaspath = 'encoder_fcb.npy'\n",
    "dir_result = os.path.join(dir_result, method)\n"
   ]
  },
  {
   "cell_type": "code",
   "execution_count": 4,
   "metadata": {},
   "outputs": [],
   "source": [
    "feedback_bits = 64\n",
    "ncodebooks=64\n",
    "ncentroids=128\n"
   ]
  },
  {
   "cell_type": "code",
   "execution_count": 5,
   "metadata": {},
   "outputs": [
    {
     "name": "stdout",
     "output_type": "stream",
     "text": [
      "==============================\n",
      "running method:  PQ\n",
      "running kmeans in subspace 1/64... mse / {var(X_subs), var(X)}: 0.237, 0.00501\n",
      "running kmeans in subspace 2/64... mse / {var(X_subs), var(X)}: 0.297, 0.00117\n",
      "running kmeans in subspace 3/64... mse / {var(X_subs), var(X)}: 0.238, 0.01\n",
      "running kmeans in subspace 4/64... mse / {var(X_subs), var(X)}: 0.178, 0.02\n",
      "running kmeans in subspace 5/64... mse / {var(X_subs), var(X)}: 0.23, 0.00818\n",
      "running kmeans in subspace 6/64... mse / {var(X_subs), var(X)}: 0.388, 0.00209\n",
      "running kmeans in subspace 7/64... mse / {var(X_subs), var(X)}: 0.236, 0.016\n",
      "running kmeans in subspace 8/64... mse / {var(X_subs), var(X)}: 0.209, 0.0289\n",
      "running kmeans in subspace 9/64... mse / {var(X_subs), var(X)}: 0.289, 0.00765\n",
      "running kmeans in subspace 10/64... mse / {var(X_subs), var(X)}: 0.382, 0.00201\n",
      "running kmeans in subspace 11/64... mse / {var(X_subs), var(X)}: 0.282, 0.0173\n",
      "running kmeans in subspace 12/64... mse / {var(X_subs), var(X)}: 0.278, 0.0305\n",
      "running kmeans in subspace 13/64... mse / {var(X_subs), var(X)}: 0.274, 0.00836\n",
      "running kmeans in subspace 14/64... mse / {var(X_subs), var(X)}: 0.373, 0.00229\n",
      "running kmeans in subspace 15/64... mse / {var(X_subs), var(X)}: 0.279, 0.0194\n",
      "running kmeans in subspace 16/64... mse / {var(X_subs), var(X)}: 0.263, 0.0323\n",
      "running kmeans in subspace 17/64... mse / {var(X_subs), var(X)}: 0.239, 0.00473\n",
      "running kmeans in subspace 18/64... mse / {var(X_subs), var(X)}: 0.415, 0.00111\n",
      "running kmeans in subspace 19/64... mse / {var(X_subs), var(X)}: 0.234, 0.00952\n",
      "running kmeans in subspace 20/64... mse / {var(X_subs), var(X)}: 0.177, 0.0196\n",
      "running kmeans in subspace 21/64... mse / {var(X_subs), var(X)}: 0.237, 0.00826\n",
      "running kmeans in subspace 22/64... mse / {var(X_subs), var(X)}: 0.388, 0.00212\n",
      "running kmeans in subspace 23/64... mse / {var(X_subs), var(X)}: 0.236, 0.0158\n",
      "running kmeans in subspace 24/64... mse / {var(X_subs), var(X)}: 0.21, 0.029\n",
      "running kmeans in subspace 25/64... mse / {var(X_subs), var(X)}: 0.287, 0.00742\n",
      "running kmeans in subspace 26/64... mse / {var(X_subs), var(X)}: 0.446, 0.00198\n",
      "running kmeans in subspace 27/64... mse / {var(X_subs), var(X)}: 0.284, 0.0174\n",
      "running kmeans in subspace 28/64... mse / {var(X_subs), var(X)}: 0.273, 0.0304\n",
      "running kmeans in subspace 29/64... mse / {var(X_subs), var(X)}: 0.272, 0.00792\n",
      "running kmeans in subspace 30/64... mse / {var(X_subs), var(X)}: 0.439, 0.0022\n",
      "running kmeans in subspace 31/64... mse / {var(X_subs), var(X)}: 0.279, 0.0194\n",
      "running kmeans in subspace 32/64... mse / {var(X_subs), var(X)}: 0.261, 0.0322\n",
      "running kmeans in subspace 33/64... mse / {var(X_subs), var(X)}: 0.213, 0.141\n",
      "running kmeans in subspace 34/64... mse / {var(X_subs), var(X)}: 0.245, 0.0306\n",
      "running kmeans in subspace 35/64... mse / {var(X_subs), var(X)}: 0.232, 0.324\n",
      "running kmeans in subspace 36/64... mse / {var(X_subs), var(X)}: 0.144, 0.713\n",
      "running kmeans in subspace 37/64... mse / {var(X_subs), var(X)}: 0.22, 0.246\n",
      "running kmeans in subspace 38/64... mse / {var(X_subs), var(X)}: 0.378, 0.0605\n",
      "running kmeans in subspace 39/64... mse / {var(X_subs), var(X)}: 0.228, 0.52\n",
      "running kmeans in subspace 40/64... mse / {var(X_subs), var(X)}: 0.181, 1.05\n",
      "running kmeans in subspace 41/64... mse / {var(X_subs), var(X)}: 0.289, 0.219\n",
      "running kmeans in subspace 42/64... mse / {var(X_subs), var(X)}: 0.34, 0.0598\n",
      "running kmeans in subspace 43/64... mse / {var(X_subs), var(X)}: 0.293, 0.538\n",
      "running kmeans in subspace 44/64... mse / {var(X_subs), var(X)}: 0.251, 1.02\n",
      "running kmeans in subspace 45/64... mse / {var(X_subs), var(X)}: 0.268, 0.244\n",
      "running kmeans in subspace 46/64... mse / {var(X_subs), var(X)}: 0.327, 0.069\n",
      "running kmeans in subspace 47/64... mse / {var(X_subs), var(X)}: 0.292, 0.622\n",
      "running kmeans in subspace 48/64... mse / {var(X_subs), var(X)}: 0.232, 1.09\n",
      "running kmeans in subspace 49/64... mse / {var(X_subs), var(X)}: 0.212, 0.134\n",
      "running kmeans in subspace 50/64... mse / {var(X_subs), var(X)}: 0.366, 0.0288\n",
      "running kmeans in subspace 51/64... mse / {var(X_subs), var(X)}: 0.231, 0.311\n",
      "running kmeans in subspace 52/64... mse / {var(X_subs), var(X)}: 0.146, 0.714\n",
      "running kmeans in subspace 53/64... mse / {var(X_subs), var(X)}: 0.226, 0.252\n",
      "running kmeans in subspace 54/64... mse / {var(X_subs), var(X)}: 0.368, 0.0624\n",
      "running kmeans in subspace 55/64... mse / {var(X_subs), var(X)}: 0.235, 0.532\n",
      "running kmeans in subspace 56/64... mse / {var(X_subs), var(X)}: 0.176, 1.04\n",
      "running kmeans in subspace 57/64... mse / {var(X_subs), var(X)}: 0.273, 0.206\n",
      "running kmeans in subspace 58/64... mse / {var(X_subs), var(X)}: 0.397, 0.0577\n",
      "running kmeans in subspace 59/64... mse / {var(X_subs), var(X)}: 0.298, 0.548\n",
      "running kmeans in subspace 60/64... mse / {var(X_subs), var(X)}: 0.253, 1.03\n",
      "running kmeans in subspace 61/64... mse / {var(X_subs), var(X)}: 0.261, 0.225\n",
      "running kmeans in subspace 62/64... mse / {var(X_subs), var(X)}: 0.397, 0.0633\n",
      "running kmeans in subspace 63/64... mse / {var(X_subs), var(X)}: 0.29, 0.615\n",
      "running kmeans in subspace 64/64... mse / {var(X_subs), var(X)}: 0.23, 1.07\n",
      "--- total mse / var(X): 0.223\n",
      "learning quantization...\n"
     ]
    }
   ],
   "source": [
    "est3 = mm.estFactory(X_path=data_to_fcpath_train, W_path=weightpath, Y_path=y_train, dir= dir_train, ncodebooks=ncodebooks, ncentroids=ncentroids, methods=[method])\n"
   ]
  },
  {
   "cell_type": "code",
   "execution_count": 6,
   "metadata": {},
   "outputs": [],
   "source": [
    "x_test = np.load(dir_train+'/'+data_to_fcpath_test)\n",
    "w_test = np.load(dir_train+'/'+weightpath)\n",
    "bias = np.load(dir_train+'/'+biaspath)\n",
    "# print(type(est3))\n",
    "y_out_matmul = mm.eval_matmul(est3, x_test, w_test) # MADDNESS乘法的结果\n",
    "# y_out_last = mu.softmax(y_out_matmul + bias.T) # MADDNESS替换后当前层输出，即+bias并激活函数后的结果\n",
    "y_out_last = y_out_matmul + bias.T # MADDNESS替换后当前层输出，即+bias并不需要激活函数后的结果"
   ]
  },
  {
   "cell_type": "code",
   "execution_count": 7,
   "metadata": {},
   "outputs": [
    {
     "name": "stdout",
     "output_type": "stream",
     "text": [
      "[[ 5.47771379e-02 -9.00563672e-02 -4.76380110e-01 ... -1.57207802e-01\n",
      "   7.20814764e-02 -1.31261259e-01]\n",
      " [-1.62650406e-01 -1.71416357e-01 -3.15062910e-01 ... -3.92871201e-01\n",
      "  -6.47299271e-03 -9.05812681e-02]\n",
      " [ 3.51385251e-02 -2.06485316e-01 -1.35509834e-01 ... -1.75443649e-01\n",
      "  -9.06384960e-02  5.95138781e-02]\n",
      " ...\n",
      " [ 1.23512305e-01  4.60111983e-02 -7.49917984e-01 ... -3.78843635e-01\n",
      "  -1.04666084e-01 -7.79564455e-02]\n",
      " [ 2.58177131e-01 -7.29361922e-03 -3.23479444e-01 ...  1.85065255e-01\n",
      "   5.40798530e-04 -6.25260994e-02]\n",
      " [-3.29578668e-01  1.35787740e-01 -3.12257379e-01 ... -2.41373301e-01\n",
      "  -9.20412540e-02  1.19832493e-01]]\n",
      "(32000, 256)\n"
     ]
    }
   ],
   "source": [
    "print(y_out_last)\n",
    "print(y_out_last.shape)\n",
    "# np.save(\"LDPC_decoder_NET_testdata/\" + snr + \"nomul_matmul_yout_matmul\", y_out_matmul)\n",
    "# np.save(dir_result+'/'+method+'fc1_fb256_cb%i_ct%i.npy' % (ncodebooks, ncentroids), y_out_matmul)\n",
    "np.save(dir_result+'/'+method+'fc1_fb%i_cb%i_ct%i.npy' % (feedback_bits, ncodebooks, ncentroids), y_out_last)\n",
    "# io.savemat(dir_result+'\\\\fc1_256.mat', {\"NN_output_buffer\": y_out_last})"
   ]
  },
  {
   "cell_type": "code",
   "execution_count": null,
   "metadata": {},
   "outputs": [],
   "source": []
  }
 ],
 "metadata": {
  "kernelspec": {
   "display_name": "Python 3.8.13 ('pqhdr')",
   "language": "python",
   "name": "python3"
  },
  "language_info": {
   "codemirror_mode": {
    "name": "ipython",
    "version": 3
   },
   "file_extension": ".py",
   "mimetype": "text/x-python",
   "name": "python",
   "nbconvert_exporter": "python",
   "pygments_lexer": "ipython3",
   "version": "3.8.13"
  },
  "orig_nbformat": 4,
  "vscode": {
   "interpreter": {
    "hash": "ec04f7dc2b3ae4a422de9aaf96e8c62fe190a2869a08d14112cb2d7713497448"
   }
  }
 },
 "nbformat": 4,
 "nbformat_minor": 2
}
