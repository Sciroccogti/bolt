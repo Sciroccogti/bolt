{
 "cells": [
  {
   "cell_type": "markdown",
   "metadata": {},
   "source": [
    "## 1"
   ]
  },
  {
   "cell_type": "code",
   "execution_count": 6,
   "metadata": {},
   "outputs": [],
   "source": [
    "import numpy as np\n",
    "import os\n",
    "import socket\n",
    "import matplotlib.pyplot as plt"
   ]
  },
  {
   "cell_type": "code",
   "execution_count": 2,
   "metadata": {},
   "outputs": [],
   "source": [
    "host_name = socket.gethostname()\n",
    "if host_name == 'DESKTOP-6FOH47P':\n",
    "    pic_path = 'F:/OneDrive/神经网络译码/csitransformer/CSITransformer-main/pic/'\n",
    "    data_path = 'F:/OneDrive/神经网络译码/csitransformer/CSITransformer-main/data/'\n",
    "    intermediate_path = ''\n",
    "    \n",
    "elif host_name == 'DESKTOP-PLRL7TK':\n",
    "    pic_path = 'D:/OneDrive/神经网络译码/csitransformer/CSITransformer-main/pic/'\n",
    "    data_path = 'D:/OneDrive/神经网络译码/csitransformer/CSITransformer-main/data/'\n",
    "    intermediate_path = ''\n",
    "elif host_name == 'jm-System-Product-Name':\n",
    "    pic_path = '/home/hdr/csi_transformer/pic/'\n",
    "    data_path = '/home/hdr/transformer_data/'\n",
    "    intermediate_path = '/home/hdr/transformer_data/intermediate/'\n",
    "    model_path = '/home/hdr/transformer_data/model/'\n",
    "else:\n",
    "    raise NameError(\"You are running the script in a new computer, please define path\")\n"
   ]
  },
  {
   "cell_type": "markdown",
   "metadata": {},
   "source": [
    "LDPC:x/y/w"
   ]
  },
  {
   "cell_type": "code",
   "execution_count": 49,
   "metadata": {},
   "outputs": [
    {
     "name": "stdout",
     "output_type": "stream",
     "text": [
      "E:\\hdr\\研一\\华为-深度学习\\tutorialDJY\\bolt-master\\bolt-master\\experiments\\assets\\ldpc\\8db\\x.npy\n"
     ]
    }
   ],
   "source": [
    "dir1 = 'E:\\\\hdr\\\\研一\\\\华为-深度学习\\\\tutorialDJY\\\\bolt-master\\\\bolt-master\\\\experiments\\\\assets\\\\ldpc\\\\8db\\\\'\n",
    "xpath= dir1 + 'x.npy'\n",
    "ypath= dir1 + 'y.npy'\n",
    "wpath= dir1 + 'w.npy'\n",
    "print(xpath)\n",
    "biaspath = \"E:\\\\hdr\\\\研一\\\\华为-深度学习\\\\tutorialDJY\\\\bolt-master\\\\bolt-master\\\\experiments\\\\python\\\\LDPC_decoder_NET_testdata\\\\8db\\\\bias.npy\""
   ]
  },
  {
   "cell_type": "code",
   "execution_count": 50,
   "metadata": {},
   "outputs": [
    {
     "name": "stdout",
     "output_type": "stream",
     "text": [
      "(51840, 32)\n"
     ]
    }
   ],
   "source": [
    "x8db = np.load(xpath, mmap_mode=None, allow_pickle=False, fix_imports=True, encoding='ASCII')\n",
    "print(x8db.shape)"
   ]
  },
  {
   "cell_type": "code",
   "execution_count": 51,
   "metadata": {},
   "outputs": [
    {
     "name": "stdout",
     "output_type": "stream",
     "text": [
      "(51840, 16)\n"
     ]
    }
   ],
   "source": [
    "y8db = np.load(ypath, mmap_mode=None, allow_pickle=False, fix_imports=True, encoding='ASCII')\n",
    "print(y8db.shape)"
   ]
  },
  {
   "cell_type": "code",
   "execution_count": 52,
   "metadata": {},
   "outputs": [
    {
     "name": "stdout",
     "output_type": "stream",
     "text": [
      "(32, 16)\n"
     ]
    }
   ],
   "source": [
    "w8db = np.load(wpath, mmap_mode=None, allow_pickle=False, fix_imports=True, encoding='ASCII')\n",
    "print(w8db.shape)"
   ]
  },
  {
   "cell_type": "code",
   "execution_count": 53,
   "metadata": {},
   "outputs": [
    {
     "name": "stdout",
     "output_type": "stream",
     "text": [
      "(16,)\n"
     ]
    }
   ],
   "source": [
    "b8db = np.load(biaspath, mmap_mode=None, allow_pickle=False, fix_imports=True, encoding='ASCII')\n",
    "print(b8db.shape)"
   ]
  },
  {
   "cell_type": "markdown",
   "metadata": {},
   "source": [
    "# transformer encoder fc x/y/w"
   ]
  },
  {
   "cell_type": "code",
   "execution_count": 54,
   "metadata": {},
   "outputs": [
    {
     "name": "stdout",
     "output_type": "stream",
     "text": [
      "E:\\hdr\\研一\\华为-深度学习\\intermediate\\intermediate8dbfc1\\data_to_fc_e39_0.npy\n"
     ]
    }
   ],
   "source": [
    "dir2 = 'E:\\\\hdr\\\\研一\\\\华为-深度学习\\\\intermediate\\\\intermediate8dbfc1\\\\'\n",
    "data_to_fcpath= dir2 + 'data_to_fc_e39_0.npy'\n",
    "featurepath= dir2 + 'feature_e39_0.npy'\n",
    "\n",
    "print(data_to_fcpath)"
   ]
  },
  {
   "cell_type": "code",
   "execution_count": 55,
   "metadata": {},
   "outputs": [
    {
     "name": "stdout",
     "output_type": "stream",
     "text": [
      "(32, 2048)\n"
     ]
    }
   ],
   "source": [
    "data_to_fc = np.load(data_to_fcpath, mmap_mode=None, allow_pickle=False, fix_imports=True, encoding='ASCII')\n",
    "print(data_to_fc.shape)"
   ]
  },
  {
   "cell_type": "code",
   "execution_count": 56,
   "metadata": {},
   "outputs": [
    {
     "name": "stdout",
     "output_type": "stream",
     "text": [
      "(32, 256)\n"
     ]
    }
   ],
   "source": [
    "feature = np.load(featurepath, mmap_mode=None, allow_pickle=False, fix_imports=True, encoding='ASCII')\n",
    "print(feature.shape)"
   ]
  },
  {
   "cell_type": "code",
   "execution_count": 57,
   "metadata": {},
   "outputs": [
    {
     "name": "stdout",
     "output_type": "stream",
     "text": [
      "(2048, 256)\n"
     ]
    }
   ],
   "source": [
    "encoder_fcw = np.load(\"E:\\hdr\\研一\\华为-深度学习\\intermediate\\encoder_fcw.npy\", mmap_mode=None, allow_pickle=False, fix_imports=True, encoding='ASCII')\n",
    "print(encoder_fcw.shape)"
   ]
  },
  {
   "cell_type": "markdown",
   "metadata": {},
   "source": [
    "# lutPQfc1_fb256"
   ]
  },
  {
   "cell_type": "code",
   "execution_count": 3,
   "metadata": {},
   "outputs": [],
   "source": [
    "dir3 = '/home/hdr/pq/res/'\n",
    "lutPQfc1_fb256_cb64_ct256path= dir3 + 'lutPQfc1_fb256_cb64_ct256.npy'\n",
    "lutPQfc1_fb256_cb64_ct128path= dir3 + 'lutPQfc1_fb256_cb64_ct128.npy'\n"
   ]
  },
  {
   "cell_type": "code",
   "execution_count": 8,
   "metadata": {},
   "outputs": [
    {
     "name": "stdout",
     "output_type": "stream",
     "text": [
      "(256, 64, 256)\n"
     ]
    }
   ],
   "source": [
    "lutPQfc1_fb256_cb64_ct256 = np.load(lutPQfc1_fb256_cb64_ct256path, mmap_mode=None, allow_pickle=False, fix_imports=True, encoding='ASCII')\n",
    "print(lutPQfc1_fb256_cb64_ct256.shape)"
   ]
  },
  {
   "cell_type": "code",
   "execution_count": 5,
   "metadata": {},
   "outputs": [
    {
     "name": "stdout",
     "output_type": "stream",
     "text": [
      "(256, 64, 128)\n"
     ]
    }
   ],
   "source": [
    "lutPQfc1_fb256_cb64_ct128 = np.load(lutPQfc1_fb256_cb64_ct128path, mmap_mode=None, allow_pickle=False, fix_imports=True, encoding='ASCII')\n",
    "print(lutPQfc1_fb256_cb64_ct128.shape)"
   ]
  },
  {
   "cell_type": "markdown",
   "metadata": {},
   "source": [
    "# lutPQfc1_fb64"
   ]
  },
  {
   "cell_type": "code",
   "execution_count": 9,
   "metadata": {},
   "outputs": [
    {
     "name": "stdout",
     "output_type": "stream",
     "text": [
      "(64, 64, 128)\n"
     ]
    }
   ],
   "source": [
    "lutPQfc1_fb64_cb64_ct128path= dir3 + 'lutPQfc1_fb64_cb64_ct128.npy'\n",
    "lutPQfc1_fb64_cb64_ct128 = np.load(lutPQfc1_fb64_cb64_ct128path, mmap_mode=None, allow_pickle=False, fix_imports=True, encoding='ASCII')\n",
    "print(lutPQfc1_fb64_cb64_ct128.shape)"
   ]
  }
 ],
 "metadata": {
  "kernelspec": {
   "display_name": "Python 3.8.13 ('pqhdr': conda)",
   "language": "python",
   "name": "python3"
  },
  "language_info": {
   "codemirror_mode": {
    "name": "ipython",
    "version": 3
   },
   "file_extension": ".py",
   "mimetype": "text/x-python",
   "name": "python",
   "nbconvert_exporter": "python",
   "pygments_lexer": "ipython3",
   "version": "3.8.13"
  },
  "orig_nbformat": 4,
  "vscode": {
   "interpreter": {
    "hash": "ec04f7dc2b3ae4a422de9aaf96e8c62fe190a2869a08d14112cb2d7713497448"
   }
  }
 },
 "nbformat": 4,
 "nbformat_minor": 2
}
