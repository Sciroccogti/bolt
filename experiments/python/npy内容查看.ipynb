{
 "cells": [
  {
   "cell_type": "markdown",
   "metadata": {},
   "source": [
    "## 1"
   ]
  },
  {
   "cell_type": "code",
   "execution_count": 48,
   "metadata": {},
   "outputs": [],
   "source": [
    "import numpy as np\n",
    "import os\n"
   ]
  },
  {
   "cell_type": "code",
   "execution_count": 49,
   "metadata": {},
   "outputs": [
    {
     "name": "stdout",
     "output_type": "stream",
     "text": [
      "E:\\hdr\\研一\\华为-深度学习\\tutorialDJY\\bolt-master\\bolt-master\\experiments\\assets\\ldpc\\8db\\x.npy\n"
     ]
    }
   ],
   "source": [
    "dir1 = 'E:\\\\hdr\\\\研一\\\\华为-深度学习\\\\tutorialDJY\\\\bolt-master\\\\bolt-master\\\\experiments\\\\assets\\\\ldpc\\\\8db\\\\'\n",
    "xpath= dir1 + 'x.npy'\n",
    "ypath= dir1 + 'y.npy'\n",
    "wpath= dir1 + 'w.npy'\n",
    "print(xpath)\n",
    "biaspath = \"E:\\\\hdr\\\\研一\\\\华为-深度学习\\\\tutorialDJY\\\\bolt-master\\\\bolt-master\\\\experiments\\\\python\\\\LDPC_decoder_NET_testdata\\\\8db\\\\bias.npy\""
   ]
  },
  {
   "cell_type": "code",
   "execution_count": 50,
   "metadata": {},
   "outputs": [
    {
     "name": "stdout",
     "output_type": "stream",
     "text": [
      "(51840, 32)\n"
     ]
    }
   ],
   "source": [
    "x8db = np.load(xpath, mmap_mode=None, allow_pickle=False, fix_imports=True, encoding='ASCII')\n",
    "print(x8db.shape)"
   ]
  },
  {
   "cell_type": "code",
   "execution_count": 51,
   "metadata": {},
   "outputs": [
    {
     "name": "stdout",
     "output_type": "stream",
     "text": [
      "(51840, 16)\n"
     ]
    }
   ],
   "source": [
    "y8db = np.load(ypath, mmap_mode=None, allow_pickle=False, fix_imports=True, encoding='ASCII')\n",
    "print(y8db.shape)"
   ]
  },
  {
   "cell_type": "code",
   "execution_count": 52,
   "metadata": {},
   "outputs": [
    {
     "name": "stdout",
     "output_type": "stream",
     "text": [
      "(32, 16)\n"
     ]
    }
   ],
   "source": [
    "w8db = np.load(wpath, mmap_mode=None, allow_pickle=False, fix_imports=True, encoding='ASCII')\n",
    "print(w8db.shape)"
   ]
  },
  {
   "cell_type": "code",
   "execution_count": 53,
   "metadata": {},
   "outputs": [
    {
     "name": "stdout",
     "output_type": "stream",
     "text": [
      "(16,)\n"
     ]
    }
   ],
   "source": [
    "b8db = np.load(biaspath, mmap_mode=None, allow_pickle=False, fix_imports=True, encoding='ASCII')\n",
    "print(b8db.shape)"
   ]
  },
  {
   "cell_type": "code",
   "execution_count": 54,
   "metadata": {},
   "outputs": [
    {
     "name": "stdout",
     "output_type": "stream",
     "text": [
      "E:\\hdr\\研一\\华为-深度学习\\intermediate\\intermediate8dbfc1\\data_to_fc_e39_0.npy\n"
     ]
    }
   ],
   "source": [
    "dir2 = 'E:\\\\hdr\\\\研一\\\\华为-深度学习\\\\intermediate\\\\intermediate8dbfc1\\\\'\n",
    "data_to_fcpath= dir2 + 'data_to_fc_e39_0.npy'\n",
    "featurepath= dir2 + 'feature_e39_0.npy'\n",
    "\n",
    "print(data_to_fcpath)"
   ]
  },
  {
   "cell_type": "code",
   "execution_count": 55,
   "metadata": {},
   "outputs": [
    {
     "name": "stdout",
     "output_type": "stream",
     "text": [
      "(32, 2048)\n"
     ]
    }
   ],
   "source": [
    "data_to_fc = np.load(data_to_fcpath, mmap_mode=None, allow_pickle=False, fix_imports=True, encoding='ASCII')\n",
    "print(data_to_fc.shape)"
   ]
  },
  {
   "cell_type": "code",
   "execution_count": 56,
   "metadata": {},
   "outputs": [
    {
     "name": "stdout",
     "output_type": "stream",
     "text": [
      "(32, 256)\n"
     ]
    }
   ],
   "source": [
    "feature = np.load(featurepath, mmap_mode=None, allow_pickle=False, fix_imports=True, encoding='ASCII')\n",
    "print(feature.shape)"
   ]
  },
  {
   "cell_type": "code",
   "execution_count": 57,
   "metadata": {},
   "outputs": [
    {
     "name": "stdout",
     "output_type": "stream",
     "text": [
      "(2048, 256)\n"
     ]
    }
   ],
   "source": [
    "encoder_fcw = np.load(\"E:\\hdr\\研一\\华为-深度学习\\intermediate\\encoder_fcw.npy\", mmap_mode=None, allow_pickle=False, fix_imports=True, encoding='ASCII')\n",
    "print(encoder_fcw.shape)"
   ]
  }
 ],
 "metadata": {
  "kernelspec": {
   "display_name": "Python 3.8.13 ('PQ')",
   "language": "python",
   "name": "python3"
  },
  "language_info": {
   "codemirror_mode": {
    "name": "ipython",
    "version": 3
   },
   "file_extension": ".py",
   "mimetype": "text/x-python",
   "name": "python",
   "nbconvert_exporter": "python",
   "pygments_lexer": "ipython3",
   "version": "3.8.13"
  },
  "orig_nbformat": 4,
  "vscode": {
   "interpreter": {
    "hash": "c58ec5320688f90a968f6b915ced038d1b61d036794cbc96752cb7f08b73ac5a"
   }
  }
 },
 "nbformat": 4,
 "nbformat_minor": 2
}
