{
 "cells": [
  {
   "cell_type": "markdown",
   "metadata": {},
   "source": [
    "decoder transformer层的linear1层（dtl1）替换为近似矩阵乘法, 32\\*32\\*64, 64\\*128, 32\\*32\\*128"
   ]
  },
  {
   "cell_type": "code",
   "execution_count": 37,
   "metadata": {},
   "outputs": [],
   "source": [
    "import numpy as np\n",
    "import os\n",
    "import matmul as mm\n",
    "import math_util as mu\n",
    "# import scipy.io as io\n",
    "from amm_methods import *\n",
    "import socket # Obtain the current host name, which can be used to select different data directories and result saving directories"
   ]
  },
  {
   "cell_type": "code",
   "execution_count": 38,
   "metadata": {},
   "outputs": [],
   "source": [
    "# root_path = '/data/hdr/csi_transformer/pic/'\n",
    "# print(root_path)\n",
    "# root_path2 = '/'.join(root_path.split(\"/\")[:-2])\n",
    "# # sys.path.append(root_path)\n",
    "# print(root_path2)"
   ]
  },
  {
   "cell_type": "code",
   "execution_count": 39,
   "metadata": {},
   "outputs": [],
   "source": [
    "# method = METHOD_MITHRAL\n",
    "method = METHOD_PQ\n",
    "# method = METHOD_EXACT\n",
    "# method = METHOD_SCALAR_QUANTIZE"
   ]
  },
  {
   "cell_type": "code",
   "execution_count": 40,
   "metadata": {},
   "outputs": [],
   "source": [
    "linear_name = 'dtl1'\n",
    "feedback_bits = 256\n",
    "ncodebooks = 32 # max:64\n",
    "ncentroids = 16\n",
    "if method == METHOD_MITHRAL:\n",
    "    ncentroids = 16\n",
    "train_sam_num = 3000 # 训练集样本数\n",
    "test_sam_num = 1000 # 测试集样本数\n",
    "batch_size = 32"
   ]
  },
  {
   "cell_type": "code",
   "execution_count": 41,
   "metadata": {},
   "outputs": [],
   "source": [
    "host_name = socket.gethostname()\n",
    "if host_name == 'DESKTOP-PLRL7TK':\n",
    "    dir_train = 'E:\\\\hdr\\\\研一\\\\华为-深度学习\\\\intermediate\\\\intermediate8dbfc1'\n",
    "    dir_result = ''\n",
    "elif host_name == 'DESKTOP-6FOH47P':\n",
    "    dir_train = 'F:\\\\Projects\\\\python\\\\PQ\\\\intermediate8dbfc1'\n",
    "    dir_result = 'F:\\\\Projects\\\\python\\\\PQ\\\\res'\n",
    "    data_to_fcpath_train= ''\n",
    "    featurepath_train= ''\n",
    "    data_to_fcpath_test = ''\n",
    "    featurepath_test = ''\n",
    "elif host_name == 'jm-System-Product-Name':\n",
    "    dir_train = os.path.join('/data/hdr/transformer_data/joined', 'train', 'f'+str(feedback_bits))\n",
    "    dir_test = os.path.join('/data/hdr/transformer_data/joined', 'test', 'f'+str(feedback_bits))\n",
    "    dir_result = '/data/hdr/pq/res'\n",
    "    data_to_fcpath_train= 'dx_linear1in_train_f%i_sam%i.npy' % (feedback_bits, train_sam_num)\n",
    "    y_train = 'dx_linear1_y_train_f%i_sam%i.npy' % (feedback_bits, train_sam_num)\n",
    "    featurepath_train= 'dx_linear1out_train_f%i_sam%i.npy' % (feedback_bits, train_sam_num)\n",
    "    data_to_fcpath_test = 'dx_linear1in_test_f%i_sam%i.npy' % (feedback_bits, test_sam_num)\n",
    "    featurepath_test = 'dx_linear1out_test_f%i_sam%i.npy' % (feedback_bits, test_sam_num)\n",
    "    # y_test = 'y_test.npy'\n",
    "else:\n",
    "    raise NameError(\"You are running the script in a new computer, please define dirs\")\n",
    "\n",
    "\n",
    "weightpath = 'dx_linear1_w_f256.npy'\n",
    "biaspath = 'dx_linear1_b_f256.npy'\n",
    "dir_result = os.path.join(dir_result, method, \"f%i\" % feedback_bits, linear_name)\n",
    "try:\n",
    "    os.mkdir(dir_result)\n",
    "except FileExistsError:\n",
    "    pass \n"
   ]
  },
  {
   "cell_type": "code",
   "execution_count": 42,
   "metadata": {},
   "outputs": [
    {
     "name": "stdout",
     "output_type": "stream",
     "text": [
      "==============================\n",
      "running method:  PQ\n",
      "running kmeans in subspace 1/32... mse / {var(X_subs), var(X)}: 0.087, 0.0355\n",
      "running kmeans in subspace 2/32... mse / {var(X_subs), var(X)}: 0.0473, 0.132\n",
      "running kmeans in subspace 3/32... mse / {var(X_subs), var(X)}: 0.0602, 0.0621\n",
      "running kmeans in subspace 4/32... mse / {var(X_subs), var(X)}: 0.112, 0.0591\n",
      "running kmeans in subspace 5/32... mse / {var(X_subs), var(X)}: 0.138, 0.0934\n",
      "running kmeans in subspace 6/32... mse / {var(X_subs), var(X)}: 0.143, 0.0541\n",
      "running kmeans in subspace 7/32... mse / {var(X_subs), var(X)}: 0.168, 0.0746\n",
      "running kmeans in subspace 8/32... mse / {var(X_subs), var(X)}: 0.0746, 0.084\n",
      "running kmeans in subspace 9/32... mse / {var(X_subs), var(X)}: 0.0946, 0.0382\n",
      "running kmeans in subspace 10/32... mse / {var(X_subs), var(X)}: 0.0783, 0.0306\n",
      "running kmeans in subspace 11/32... mse / {var(X_subs), var(X)}: 0.0677, 0.0382\n",
      "running kmeans in subspace 12/32... mse / {var(X_subs), var(X)}: 0.067, 0.0487\n",
      "running kmeans in subspace 13/32... mse / {var(X_subs), var(X)}: 0.0735, 0.0605\n",
      "running kmeans in subspace 14/32... mse / {var(X_subs), var(X)}: 0.0554, 0.0466\n",
      "running kmeans in subspace 15/32... mse / {var(X_subs), var(X)}: 0.0964, 0.0302\n",
      "running kmeans in subspace 16/32... mse / {var(X_subs), var(X)}: 0.0685, 0.0531\n",
      "running kmeans in subspace 17/32... mse / {var(X_subs), var(X)}: 0.0417, 0.379\n",
      "running kmeans in subspace 18/32... mse / {var(X_subs), var(X)}: 0.0937, 0.166\n",
      "running kmeans in subspace 19/32... mse / {var(X_subs), var(X)}: 0.0838, 0.0168\n",
      "running kmeans in subspace 20/32... mse / {var(X_subs), var(X)}: 0.123, 0.06\n",
      "running kmeans in subspace 21/32... mse / {var(X_subs), var(X)}: 0.109, 0.0326\n",
      "running kmeans in subspace 22/32... mse / {var(X_subs), var(X)}: 0.129, 0.0312\n",
      "running kmeans in subspace 23/32... mse / {var(X_subs), var(X)}: 0.114, 0.126\n",
      "running kmeans in subspace 24/32... mse / {var(X_subs), var(X)}: 0.0996, 0.188\n",
      "running kmeans in subspace 25/32... mse / {var(X_subs), var(X)}: 0.103, 0.04\n",
      "running kmeans in subspace 26/32... mse / {var(X_subs), var(X)}: 0.114, 0.0533\n",
      "running kmeans in subspace 27/32... mse / {var(X_subs), var(X)}: 0.0962, 0.0371\n",
      "running kmeans in subspace 28/32... mse / {var(X_subs), var(X)}: 0.0711, 0.0552\n",
      "running kmeans in subspace 29/32... mse / {var(X_subs), var(X)}: 0.0712, 0.0878\n",
      "running kmeans in subspace 30/32... mse / {var(X_subs), var(X)}: 0.0831, 0.0235\n",
      "running kmeans in subspace 31/32... mse / {var(X_subs), var(X)}: 0.0683, 0.0289\n",
      "running kmeans in subspace 32/32... mse / {var(X_subs), var(X)}: 0.081, 0.0613\n",
      "--- total mse / var(X): 0.0727\n",
      "learning quantization...\n"
     ]
    }
   ],
   "source": [
    "est3 = mm.estFactory(X_path=data_to_fcpath_train, W_path=weightpath, Y_path=y_train, dir= dir_train, ncodebooks=ncodebooks, ncentroids=ncentroids, methods=[method])\n"
   ]
  },
  {
   "cell_type": "code",
   "execution_count": 43,
   "metadata": {},
   "outputs": [],
   "source": [
    "# type(est3)"
   ]
  },
  {
   "cell_type": "code",
   "execution_count": 44,
   "metadata": {},
   "outputs": [],
   "source": [
    "x_test = np.load(dir_test+'/'+data_to_fcpath_test)\n",
    "w_test = np.load(dir_train+'/'+weightpath)\n",
    "bias = np.load(dir_train+'/'+biaspath)\n",
    "# print(type(est3))\n",
    "y_out_matmul = mm.eval_matmul(est3, x_test, w_test) # MADDNESS乘法的结果\n",
    "# y_out_last = mu.softmax(y_out_matmul + bias.T) # MADDNESS替换后当前层输出，即+bias并激活函数后的结果\n",
    "y_out_last = y_out_matmul + bias.T # MADDNESS替换后当前层输出，即+bias并不需要激活函数后的结果"
   ]
  },
  {
   "cell_type": "code",
   "execution_count": 45,
   "metadata": {},
   "outputs": [
    {
     "name": "stdout",
     "output_type": "stream",
     "text": [
      "[[ 0.60410035  0.17575683  0.21739253 ...  0.15072177 -0.64169884\n",
      "   1.0388054 ]\n",
      " [ 0.32988656 -0.16061205 -0.47362614 ... -0.22586511 -0.08961515\n",
      "   1.2728012 ]\n",
      " [-0.54394126 -0.05823891 -0.2798484  ...  0.10684757  0.04931981\n",
      "  -0.7307874 ]\n",
      " ...\n",
      " [ 1.1232784   0.24522431  1.2338115  ...  0.04103627 -0.20295683\n",
      "   0.7974973 ]\n",
      " [ 0.878314    0.24156813  0.52451193 ...  0.06297337 -0.4515773\n",
      "   1.1594594 ]\n",
      " [ 1.0501547   0.28544232  1.2703733  ...  0.08491047 -0.1883321\n",
      "   0.812122  ]]\n",
      "y_out_last.shape:  (1024000, 128)\n",
      "y_out_last_re.shape:  (1000, 32, 32, 128)\n"
     ]
    }
   ],
   "source": [
    "print(y_out_last)\n",
    "print(\"y_out_last.shape: \", y_out_last.shape)\n",
    "y_out_last_re = y_out_last.reshape(test_sam_num, batch_size, -1, y_out_last.shape[-1]) #AMM字典模式需要复原y大小\n",
    "print(\"y_out_last_re.shape: \", y_out_last_re.shape)\n",
    "# np.save(\"LDPC_decoder_NET_testdata/\" + snr + \"nomul_matmul_yout_matmul\", y_out_matmul)\n",
    "# np.save(dir_result+'/'+method+'fc1_fb256_cb%i_ct%i.npy' % (ncodebooks, ncentroids), y_out_matmul)\n",
    "np.save(os.path.join(dir_result, '%s%s_trsam%i_tesam%i_fb%i_cb%i_ct%i.npy' % (method, linear_name, train_sam_num, test_sam_num, feedback_bits, ncodebooks, ncentroids)), y_out_last_re)\n",
    "# io.savemat(dir_result+'\\\\fc1_256.mat', {\"NN_output_buffer\": y_out_last})"
   ]
  },
  {
   "cell_type": "code",
   "execution_count": null,
   "metadata": {},
   "outputs": [],
   "source": []
  }
 ],
 "metadata": {
  "kernelspec": {
   "display_name": "Python 3.8.13 ('pqhdr')",
   "language": "python",
   "name": "python3"
  },
  "language_info": {
   "codemirror_mode": {
    "name": "ipython",
    "version": 3
   },
   "file_extension": ".py",
   "mimetype": "text/x-python",
   "name": "python",
   "nbconvert_exporter": "python",
   "pygments_lexer": "ipython3",
   "version": "3.8.13"
  },
  "orig_nbformat": 4,
  "vscode": {
   "interpreter": {
    "hash": "ec04f7dc2b3ae4a422de9aaf96e8c62fe190a2869a08d14112cb2d7713497448"
   }
  }
 },
 "nbformat": 4,
 "nbformat_minor": 2
}
