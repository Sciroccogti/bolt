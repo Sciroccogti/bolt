{
 "cells": [
  {
   "cell_type": "code",
   "execution_count": 1,
   "metadata": {},
   "outputs": [],
   "source": [
    "import numpy as np\n",
    "import os\n",
    "import socket\n",
    "import matplotlib.pyplot as plt"
   ]
  },
  {
   "cell_type": "code",
   "execution_count": 2,
   "metadata": {},
   "outputs": [],
   "source": [
    "feedback_bits = 256"
   ]
  },
  {
   "cell_type": "code",
   "execution_count": 3,
   "metadata": {},
   "outputs": [],
   "source": [
    "host_name = socket.gethostname()\n",
    "if host_name == 'DESKTOP-6FOH47P':\n",
    "    pic_path = 'F:/OneDrive/神经网络译码/csitransformer/CSITransformer-main/pic/'\n",
    "    data_path = 'F:/OneDrive/神经网络译码/csitransformer/CSITransformer-main/data/'\n",
    "    intermediate_path = ''\n",
    "    \n",
    "elif host_name == 'DESKTOP-PLRL7TK':\n",
    "    pic_path = 'D:/OneDrive/神经网络译码/csitransformer/CSITransformer-main/pic/'\n",
    "    data_path = 'D:/OneDrive/神经网络译码/csitransformer/CSITransformer-main/data/'\n",
    "    intermediate_path = ''\n",
    "elif host_name == 'jm-System-Product-Name':\n",
    "    pic_path = '/data/hdr/csi_transformer/pic/'\n",
    "    data_path = '/data/hdr/transformer_data/'\n",
    "    intermediate_path = '/data/hdr/transformer_data/intermediate/'\n",
    "    model_path = '/data/hdr/transformer_data/model/'\n",
    "else:\n",
    "    raise NameError(\"You are running the script in a new computer, please define path\")\n"
   ]
  },
  {
   "cell_type": "markdown",
   "metadata": {},
   "source": [
    "# transformer encoder fc1 x/y/w"
   ]
  },
  {
   "cell_type": "code",
   "execution_count": 4,
   "metadata": {},
   "outputs": [
    {
     "name": "stdout",
     "output_type": "stream",
     "text": [
      "/data/hdr/transformer_data/joined/train/f256/data_to_fc_train.npy\n"
     ]
    }
   ],
   "source": [
    "dir_train = '/data/hdr/transformer_data/joined/train/f%i' % feedback_bits\n",
    "# data_to_fcpath= os.path.join(dir_train, 'data_to_fc_f%i_train.npy' % feedback_bits)\n",
    "data_to_fcpath= os.path.join(dir_train, 'data_to_fc_train.npy')\n",
    "featurepath= dir_train + 'feature_e39_0.npy'\n",
    "\n",
    "print(data_to_fcpath)"
   ]
  },
  {
   "cell_type": "code",
   "execution_count": 5,
   "metadata": {},
   "outputs": [
    {
     "name": "stdout",
     "output_type": "stream",
     "text": [
      "(224000, 2048)\n"
     ]
    }
   ],
   "source": [
    "data_to_fc = np.load(data_to_fcpath, mmap_mode=None, allow_pickle=False, fix_imports=True, encoding='ASCII')\n",
    "print(data_to_fc.shape)"
   ]
  },
  {
   "cell_type": "code",
   "execution_count": 56,
   "metadata": {},
   "outputs": [
    {
     "name": "stdout",
     "output_type": "stream",
     "text": [
      "(32, 256)\n"
     ]
    }
   ],
   "source": [
    "feature = np.load(featurepath, mmap_mode=None, allow_pickle=False, fix_imports=True, encoding='ASCII')\n",
    "print(feature.shape)"
   ]
  },
  {
   "cell_type": "code",
   "execution_count": 57,
   "metadata": {},
   "outputs": [
    {
     "name": "stdout",
     "output_type": "stream",
     "text": [
      "(2048, 256)\n"
     ]
    }
   ],
   "source": [
    "encoder_fcw = np.load(\"E:\\hdr\\研一\\华为-深度学习\\intermediate\\encoder_fcw.npy\", mmap_mode=None, allow_pickle=False, fix_imports=True, encoding='ASCII')\n",
    "print(encoder_fcw.shape)"
   ]
  },
  {
   "cell_type": "markdown",
   "metadata": {},
   "source": [
    "# transformer decoder fc2 x/y/w"
   ]
  },
  {
   "cell_type": "code",
   "execution_count": 6,
   "metadata": {},
   "outputs": [
    {
     "name": "stdout",
     "output_type": "stream",
     "text": [
      "/data/hdr/transformer_data/intermediate/256/fc2in_f256_e39_0.npy\n"
     ]
    }
   ],
   "source": [
    "dir4 = '/data/hdr/transformer_data/intermediate/256/'\n",
    "fc2in_f256path= dir4 + 'fc2in_f256_e39_0.npy'\n",
    "fc2out_f256path= dir4 + 'fc2out_f256_e39_0.npy'\n",
    "\n",
    "print(fc2in_f256path)"
   ]
  },
  {
   "cell_type": "code",
   "execution_count": 4,
   "metadata": {},
   "outputs": [
    {
     "name": "stdout",
     "output_type": "stream",
     "text": [
      "(32, 256)\n"
     ]
    }
   ],
   "source": [
    "fc2in_f256 = np.load(fc2in_f256path, mmap_mode=None, allow_pickle=False, fix_imports=True, encoding='ASCII')\n",
    "print(fc2in_f256.shape)"
   ]
  },
  {
   "cell_type": "code",
   "execution_count": 7,
   "metadata": {},
   "outputs": [
    {
     "name": "stdout",
     "output_type": "stream",
     "text": [
      "(32, 2048)\n"
     ]
    }
   ],
   "source": [
    "fc2out_f256 = np.load(fc2out_f256path, mmap_mode=None, allow_pickle=False, fix_imports=True, encoding='ASCII')\n",
    "print(fc2out_f256.shape)"
   ]
  },
  {
   "cell_type": "markdown",
   "metadata": {},
   "source": [
    "### transformer decoder dx_linear x/y/w"
   ]
  },
  {
   "cell_type": "code",
   "execution_count": 8,
   "metadata": {},
   "outputs": [
    {
     "name": "stdout",
     "output_type": "stream",
     "text": [
      "/data/hdr/transformer_data/intermediate/256/dx_linear1in_f256_e39_0.npy\n"
     ]
    }
   ],
   "source": [
    "dx_linear1in_f256path= dir4 + 'dx_linear1in_f256_e39_0.npy'\n",
    "dx_linear1out_f256path= dir4 + 'dx_linear1out_f256_e39_0.npy'\n",
    "dx_linear2in_f256path= dir4 + 'dx_linear2in_f256_e39_0.npy'\n",
    "dx_linear2out_f256path= dir4 + 'dx_linear2out_f256_e39_0.npy'\n",
    "\n",
    "print(dx_linear1in_f256path)"
   ]
  },
  {
   "cell_type": "code",
   "execution_count": 9,
   "metadata": {},
   "outputs": [
    {
     "name": "stdout",
     "output_type": "stream",
     "text": [
      "(32, 32, 64)\n"
     ]
    }
   ],
   "source": [
    "dx_linear1in_f256 = np.load(dx_linear1in_f256path, mmap_mode=None, allow_pickle=False, fix_imports=True, encoding='ASCII')\n",
    "print(dx_linear1in_f256.shape)"
   ]
  },
  {
   "cell_type": "code",
   "execution_count": 10,
   "metadata": {},
   "outputs": [
    {
     "name": "stdout",
     "output_type": "stream",
     "text": [
      "(32, 32, 128)\n"
     ]
    }
   ],
   "source": [
    "dx_linear1out_f256 = np.load(dx_linear1out_f256path, mmap_mode=None, allow_pickle=False, fix_imports=True, encoding='ASCII')\n",
    "print(dx_linear1out_f256.shape)"
   ]
  },
  {
   "cell_type": "code",
   "execution_count": 11,
   "metadata": {},
   "outputs": [
    {
     "name": "stdout",
     "output_type": "stream",
     "text": [
      "(32, 32, 128)\n"
     ]
    }
   ],
   "source": [
    "dx_linear2in_f256 = np.load(dx_linear2in_f256path, mmap_mode=None, allow_pickle=False, fix_imports=True, encoding='ASCII')\n",
    "print(dx_linear2in_f256.shape)"
   ]
  },
  {
   "cell_type": "code",
   "execution_count": 12,
   "metadata": {},
   "outputs": [
    {
     "name": "stdout",
     "output_type": "stream",
     "text": [
      "(32, 32, 64)\n"
     ]
    }
   ],
   "source": [
    "dx_linear2out_f256 = np.load(dx_linear2out_f256path, mmap_mode=None, allow_pickle=False, fix_imports=True, encoding='ASCII')\n",
    "print(dx_linear2out_f256.shape)"
   ]
  },
  {
   "cell_type": "markdown",
   "metadata": {},
   "source": [
    "### transformer encoder ex_linear x/y/w"
   ]
  },
  {
   "cell_type": "code",
   "execution_count": 13,
   "metadata": {},
   "outputs": [
    {
     "name": "stdout",
     "output_type": "stream",
     "text": [
      "/data/hdr/transformer_data/intermediate/256/ex_linear1in_f256_e39_0.npy\n"
     ]
    }
   ],
   "source": [
    "ex_linear1in_f256path= dir4 + 'ex_linear1in_f256_e39_0.npy'\n",
    "ex_linear1out_f256path= dir4 + 'ex_linear1out_f256_e39_0.npy'\n",
    "ex_linear2in_f256path= dir4 + 'ex_linear2in_f256_e39_0.npy'\n",
    "ex_linear2out_f256path= dir4 + 'ex_linear2out_f256_e39_0.npy'\n",
    "\n",
    "print(ex_linear1in_f256path)"
   ]
  },
  {
   "cell_type": "code",
   "execution_count": 14,
   "metadata": {},
   "outputs": [
    {
     "name": "stdout",
     "output_type": "stream",
     "text": [
      "(32, 32, 64)\n"
     ]
    }
   ],
   "source": [
    "ex_linear1in_f256 = np.load(ex_linear1in_f256path, mmap_mode=None, allow_pickle=False, fix_imports=True, encoding='ASCII')\n",
    "print(ex_linear1in_f256.shape)"
   ]
  },
  {
   "cell_type": "code",
   "execution_count": 15,
   "metadata": {},
   "outputs": [
    {
     "name": "stdout",
     "output_type": "stream",
     "text": [
      "(32, 32, 512)\n"
     ]
    }
   ],
   "source": [
    "ex_linear1out_f256 = np.load(ex_linear1out_f256path, mmap_mode=None, allow_pickle=False, fix_imports=True, encoding='ASCII')\n",
    "print(ex_linear1out_f256.shape)"
   ]
  },
  {
   "cell_type": "code",
   "execution_count": 16,
   "metadata": {},
   "outputs": [
    {
     "name": "stdout",
     "output_type": "stream",
     "text": [
      "(32, 32, 512)\n"
     ]
    }
   ],
   "source": [
    "ex_linear2in_f256 = np.load(ex_linear2in_f256path, mmap_mode=None, allow_pickle=False, fix_imports=True, encoding='ASCII')\n",
    "print(ex_linear2in_f256.shape)"
   ]
  },
  {
   "cell_type": "code",
   "execution_count": 17,
   "metadata": {},
   "outputs": [
    {
     "name": "stdout",
     "output_type": "stream",
     "text": [
      "(32, 32, 64)\n"
     ]
    }
   ],
   "source": [
    "ex_linear2out_f256 = np.load(ex_linear2out_f256path, mmap_mode=None, allow_pickle=False, fix_imports=True, encoding='ASCII')\n",
    "print(ex_linear2out_f256.shape)"
   ]
  },
  {
   "cell_type": "markdown",
   "metadata": {},
   "source": [
    "# lutPQfc1_fb256"
   ]
  },
  {
   "cell_type": "code",
   "execution_count": 3,
   "metadata": {},
   "outputs": [],
   "source": [
    "dir3 = '/data/hdr/pq/res/'\n",
    "lutPQfc1_fb256_cb64_ct256path= dir3 + 'lutPQfc1_fb256_cb64_ct256.npy'\n",
    "lutPQfc1_fb256_cb64_ct128path= dir3 + 'lutPQfc1_fb256_cb64_ct128.npy'\n"
   ]
  },
  {
   "cell_type": "code",
   "execution_count": 8,
   "metadata": {},
   "outputs": [
    {
     "name": "stdout",
     "output_type": "stream",
     "text": [
      "(256, 64, 256)\n"
     ]
    }
   ],
   "source": [
    "lutPQfc1_fb256_cb64_ct256 = np.load(lutPQfc1_fb256_cb64_ct256path, mmap_mode=None, allow_pickle=False, fix_imports=True, encoding='ASCII')\n",
    "print(lutPQfc1_fb256_cb64_ct256.shape)"
   ]
  },
  {
   "cell_type": "code",
   "execution_count": 5,
   "metadata": {},
   "outputs": [
    {
     "name": "stdout",
     "output_type": "stream",
     "text": [
      "(256, 64, 128)\n"
     ]
    }
   ],
   "source": [
    "lutPQfc1_fb256_cb64_ct128 = np.load(lutPQfc1_fb256_cb64_ct128path, mmap_mode=None, allow_pickle=False, fix_imports=True, encoding='ASCII')\n",
    "print(lutPQfc1_fb256_cb64_ct128.shape)"
   ]
  },
  {
   "cell_type": "markdown",
   "metadata": {},
   "source": [
    "# lutPQfc1_fb64"
   ]
  },
  {
   "cell_type": "code",
   "execution_count": 9,
   "metadata": {},
   "outputs": [
    {
     "name": "stdout",
     "output_type": "stream",
     "text": [
      "(64, 64, 128)\n"
     ]
    }
   ],
   "source": [
    "lutPQfc1_fb64_cb64_ct128path= dir3 + 'lutPQfc1_fb64_cb64_ct128.npy'\n",
    "lutPQfc1_fb64_cb64_ct128 = np.load(lutPQfc1_fb64_cb64_ct128path, mmap_mode=None, allow_pickle=False, fix_imports=True, encoding='ASCII')\n",
    "print(lutPQfc1_fb64_cb64_ct128.shape)"
   ]
  }
 ],
 "metadata": {
  "kernelspec": {
   "display_name": "Python 3.8.13 ('pqhdr': conda)",
   "language": "python",
   "name": "python3"
  },
  "language_info": {
   "codemirror_mode": {
    "name": "ipython",
    "version": 3
   },
   "file_extension": ".py",
   "mimetype": "text/x-python",
   "name": "python",
   "nbconvert_exporter": "python",
   "pygments_lexer": "ipython3",
   "version": "3.8.13"
  },
  "orig_nbformat": 4,
  "vscode": {
   "interpreter": {
    "hash": "ec04f7dc2b3ae4a422de9aaf96e8c62fe190a2869a08d14112cb2d7713497448"
   }
  }
 },
 "nbformat": 4,
 "nbformat_minor": 2
}
