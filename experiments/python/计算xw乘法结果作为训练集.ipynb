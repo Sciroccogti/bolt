{
 "cells": [
  {
   "cell_type": "code",
   "execution_count": 1,
   "metadata": {},
   "outputs": [],
   "source": [
    "import numpy as np\n",
    "import os\n",
    "import socket"
   ]
  },
  {
   "cell_type": "code",
   "execution_count": 2,
   "metadata": {},
   "outputs": [],
   "source": [
    "host_name = socket.gethostname()\n",
    "if host_name == 'DESKTOP-PLRL7TK':\n",
    "    dir0 = ''\n",
    "elif host_name == 'DESKTOP-6FOH47P':\n",
    "    dir0 = 'F:\\\\Projects\\\\python\\\\PQ\\\\intermediate8dbfc1\\\\'\n",
    "elif host_name == 'jm-System-Product-Name':\n",
    "    dir0 = '/home/hdr/transformer_data/intermediate/'\n",
    "    dir1 = '/home/hdr/transformer_data/joined/'\n",
    "    dir2 = '/home/hdr/transformer_data/model/'\n",
    "else:\n",
    "    raise NameError(\"You are running the script in a new computer, please define dir0\")\n",
    "\n"
   ]
  },
  {
   "cell_type": "code",
   "execution_count": 3,
   "metadata": {},
   "outputs": [],
   "source": [
    "data_to_fc_trainpath= dir1 + 'data_to_fc_train.npy'\n",
    "data_to_fc_train = np.load(data_to_fc_trainpath, mmap_mode=None, allow_pickle=False, fix_imports=True, encoding='ASCII')\n",
    "feature_trainpath= dir1 + 'feature_train.npy'\n",
    "feature_train = np.load(feature_trainpath, mmap_mode=None, allow_pickle=False, fix_imports=True, encoding='ASCII')\n",
    "biaspath= dir2 + 'encoder_fcb.npy'\n",
    "bias = np.load(biaspath, mmap_mode=None, allow_pickle=False, fix_imports=True, encoding='ASCII')\n",
    "weightpath= dir2 + 'encoder_fcw.npy'\n",
    "weight = np.load(weightpath, mmap_mode=None, allow_pickle=False, fix_imports=True, encoding='ASCII')\n",
    "data_to_fc_testpath= dir1 + 'data_to_fc_test.npy'\n",
    "data_to_fc_test = np.load(data_to_fc_testpath, mmap_mode=None, allow_pickle=False, fix_imports=True, encoding='ASCII')\n",
    "feature_testpath= dir1 + 'feature_test.npy'\n"
   ]
  },
  {
   "cell_type": "code",
   "execution_count": 4,
   "metadata": {},
   "outputs": [],
   "source": [
    "y_trainpath = dir1 + 'y_train.npy'\n",
    "y_testpath = dir1 + 'y_test.npy'"
   ]
  },
  {
   "cell_type": "code",
   "execution_count": 5,
   "metadata": {},
   "outputs": [],
   "source": [
    "y_train = np.matmul(data_to_fc_train, weight)\n",
    "# 计算直接乘积加bias\n",
    "y_train_lastns = y_train + bias.T\n",
    "\n",
    "y_test = np.matmul(data_to_fc_test, weight)\n",
    "# 计算直接乘积加bias\n",
    "y_test_lastns = y_test + bias.T"
   ]
  },
  {
   "cell_type": "code",
   "execution_count": 6,
   "metadata": {},
   "outputs": [],
   "source": [
    "# 保存ytrain、ytest\n",
    "np.save(y_trainpath, y_train)\n",
    "np.save(y_testpath, y_test)"
   ]
  }
 ],
 "metadata": {
  "kernelspec": {
   "display_name": "Python 3.8.13 ('pqhdr': conda)",
   "language": "python",
   "name": "python3"
  },
  "language_info": {
   "codemirror_mode": {
    "name": "ipython",
    "version": 3
   },
   "file_extension": ".py",
   "mimetype": "text/x-python",
   "name": "python",
   "nbconvert_exporter": "python",
   "pygments_lexer": "ipython3",
   "version": "3.8.13"
  },
  "orig_nbformat": 4,
  "vscode": {
   "interpreter": {
    "hash": "ec04f7dc2b3ae4a422de9aaf96e8c62fe190a2869a08d14112cb2d7713497448"
   }
  }
 },
 "nbformat": 4,
 "nbformat_minor": 2
}
