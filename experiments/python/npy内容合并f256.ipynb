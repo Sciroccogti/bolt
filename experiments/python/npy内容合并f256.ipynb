{
 "cells": [
  {
   "cell_type": "markdown",
   "metadata": {},
   "source": [
    "合并data_to_fc/feature训练数据集（e39_0-6999）,测试数据集（e39_7000-7999)"
   ]
  },
  {
   "cell_type": "code",
   "execution_count": 2,
   "metadata": {},
   "outputs": [],
   "source": [
    "import numpy as np\n",
    "import os\n",
    "import socket"
   ]
  },
  {
   "cell_type": "code",
   "execution_count": 7,
   "metadata": {},
   "outputs": [],
   "source": [
    "bits = 256\n",
    "batch_size = 32\n",
    "smaller = 3000\n",
    "host_name = socket.gethostname()\n",
    "if host_name == 'DESKTOP-PLRL7TK':\n",
    "    dir0 = ''\n",
    "elif host_name == 'DESKTOP-6FOH47P':\n",
    "    dir0 = 'F:\\\\Projects\\\\python\\\\PQ\\\\intermediate8dbfc1\\\\'\n",
    "elif host_name == 'jm-System-Product-Name':\n",
    "    dir0 = '/data/hdr/transformer_data/intermediate/'\n",
    "    dir1 = '/data/hdr/transformer_data/joined/'\n",
    "else:\n",
    "    raise NameError(\"You are running the script in a new computer, please define dir0\")\n",
    "\n"
   ]
  },
  {
   "cell_type": "code",
   "execution_count": 3,
   "metadata": {},
   "outputs": [],
   "source": [
    "data_to_fcpath0= dir0 + str(bits) + '/data_to_fc_e39_0.npy'\n",
    "data_to_fc0 = np.load(data_to_fcpath0, mmap_mode=None, allow_pickle=False, fix_imports=True, encoding='ASCII')\n"
   ]
  },
  {
   "cell_type": "code",
   "execution_count": null,
   "metadata": {},
   "outputs": [],
   "source": [
    "# 合并data_to_fc训练数据集（e39_0-6999）\n",
    "for i in range(1,7000):\n",
    "    data_to_fcpath1= dir0 + str(bits) + '/data_to_fc_e39_%i.npy' % i \n",
    "    data_to_fc1 = np.load(data_to_fcpath1, mmap_mode=None, allow_pickle=False, fix_imports=True, encoding='ASCII')\n",
    "    data_to_fc0 = np.append(data_to_fc0, data_to_fc1, axis=0)\n",
    "print(data_to_fc0.shape)\n",
    "np.save(dir1+'data_to_fc_train.npy', data_to_fc0) "
   ]
  },
  {
   "cell_type": "code",
   "execution_count": 9,
   "metadata": {},
   "outputs": [
    {
     "name": "stdout",
     "output_type": "stream",
     "text": [
      "(224000, 2048)\n",
      "(96000, 2048)\n"
     ]
    }
   ],
   "source": [
    "\n",
    "data_to_fc7000 = np.load(dir1+'data_to_fc_train.npy', mmap_mode=None, allow_pickle=False, fix_imports=True, encoding='ASCII')\n",
    "print(data_to_fc7000.shape)\n",
    "data_to_fc_smaller = data_to_fc7000[np.ix_(range(smaller*batch_size), range(data_to_fc7000.shape[1]))]\n",
    "print(data_to_fc_smaller.shape)\n",
    "np.save(dir1+'data_to_fc_train_f%i_sam%i.npy' % (bits,smaller), data_to_fc_smaller) "
   ]
  },
  {
   "cell_type": "code",
   "execution_count": 6,
   "metadata": {},
   "outputs": [],
   "source": [
    "featurepath0= dir0 + str(bits) + '/feature_e39_0.npy'\n",
    "feature0 = np.load(featurepath0, mmap_mode=None, allow_pickle=False, fix_imports=True, encoding='ASCII')\n"
   ]
  },
  {
   "cell_type": "code",
   "execution_count": null,
   "metadata": {},
   "outputs": [],
   "source": [
    "# 合并feature训练数据集（e39_0-6999）\n",
    "for i in range(1,7000):\n",
    "    featurepath1= dir0 + 'feature_e39_%i.npy' % i \n",
    "    feature1 = np.load(featurepath1, mmap_mode=None, allow_pickle=False, fix_imports=True, encoding='ASCII')\n",
    "    feature0 = np.append(feature0, feature1, axis=0)\n",
    "print(feature0.shape)\n",
    "np.save(dir1+'feature_train.npy', feature0) "
   ]
  },
  {
   "cell_type": "code",
   "execution_count": 8,
   "metadata": {},
   "outputs": [
    {
     "name": "stdout",
     "output_type": "stream",
     "text": [
      "(224000, 256)\n",
      "(96000, 256)\n"
     ]
    }
   ],
   "source": [
    "feature7000 = np.load(dir1+'feature_train.npy', mmap_mode=None, allow_pickle=False, fix_imports=True, encoding='ASCII')\n",
    "print(feature7000.shape)\n",
    "# 3000个样本\n",
    "feature_smaller = feature7000[np.ix_(range(smaller*batch_size), range(feature7000.shape[1]))]\n",
    "print(feature_smaller.shape)\n",
    "np.save(dir1+'feature_train_f%i_sam%i.npy' % (bits, smaller), feature_smaller) "
   ]
  },
  {
   "cell_type": "code",
   "execution_count": 9,
   "metadata": {},
   "outputs": [
    {
     "name": "stdout",
     "output_type": "stream",
     "text": [
      "(256,)\n"
     ]
    }
   ],
   "source": [
    "bias = np.load(dir1+'encoder_fcb.npy', mmap_mode=None, allow_pickle=False, fix_imports=True, encoding='ASCII')\n",
    "print(bias.shape)\n",
    "y_smaller = feature_smaller - bias\n",
    "np.save(dir1+'y_train_f%i_sam%i.npy' % (bits, smaller), y_smaller) "
   ]
  },
  {
   "cell_type": "code",
   "execution_count": 5,
   "metadata": {},
   "outputs": [
    {
     "name": "stdout",
     "output_type": "stream",
     "text": [
      "(32000, 256)\n"
     ]
    }
   ],
   "source": [
    "featurepath0= dir0 + 'feature_e39_7000.npy'\n",
    "feature0 = np.load(featurepath0, mmap_mode=None, allow_pickle=False, fix_imports=True, encoding='ASCII')\n",
    "# 合并feature测试数据集（e39_7000-7999）\n",
    "for i in range(7001,8000):\n",
    "    featurepath1= dir0 + 'feature_e39_%i.npy' % i \n",
    "    feature1 = np.load(featurepath1, mmap_mode=None, allow_pickle=False, fix_imports=True, encoding='ASCII')\n",
    "    feature0 = np.append(feature0, feature1, axis=0)\n",
    "print(feature0.shape)\n",
    "np.save(dir1+'feature_test.npy', feature0) "
   ]
  },
  {
   "cell_type": "code",
   "execution_count": 6,
   "metadata": {},
   "outputs": [
    {
     "name": "stdout",
     "output_type": "stream",
     "text": [
      "(32000, 2048)\n"
     ]
    }
   ],
   "source": [
    "data_to_fcpath0= dir0 + 'data_to_fc_e39_7000.npy'\n",
    "data_to_fc0 = np.load(data_to_fcpath0, mmap_mode=None, allow_pickle=False, fix_imports=True, encoding='ASCII')\n",
    "# 合并data_to_fc测试数据集（e39_7000-7999）\n",
    "for i in range(7001,8000):\n",
    "    data_to_fcpath1= dir0 + 'data_to_fc_e39_%i.npy' % i \n",
    "    data_to_fc1 = np.load(data_to_fcpath1, mmap_mode=None, allow_pickle=False, fix_imports=True, encoding='ASCII')\n",
    "    data_to_fc0 = np.append(data_to_fc0, data_to_fc1, axis=0)\n",
    "print(data_to_fc0.shape)\n",
    "np.save(dir1+'data_to_fc_test.npy', data_to_fc0) "
   ]
  },
  {
   "cell_type": "code",
   "execution_count": 3,
   "metadata": {},
   "outputs": [
    {
     "name": "stdout",
     "output_type": "stream",
     "text": [
      "(32, 2, 16, 32)\n"
     ]
    }
   ],
   "source": [
    "inputpath0= dir0 + 'input_e39_7000.npy'\n",
    "input0 = np.load(inputpath0, mmap_mode=None, allow_pickle=False, fix_imports=True, encoding='ASCII')\n",
    "print(input0.shape)"
   ]
  },
  {
   "cell_type": "code",
   "execution_count": null,
   "metadata": {},
   "outputs": [],
   "source": [
    "# 合并input测试数据集（e39_7000-7999）\n",
    "for i in range(7001,8000):\n",
    "    inputpath1= dir0 + 'input_e39_%i.npy' % i \n",
    "    input1 = np.load(inputpath1, mmap_mode=None, allow_pickle=False, fix_imports=True, encoding='ASCII')\n",
    "    input0 = np.append(input0, input1, axis=0)\n",
    "print(input0.shape)\n",
    "np.save(dir1+'input_test.npy', data_to_fc0) "
   ]
  },
  {
   "cell_type": "code",
   "execution_count": null,
   "metadata": {},
   "outputs": [],
   "source": [
    "\n"
   ]
  },
  {
   "cell_type": "code",
   "execution_count": null,
   "metadata": {},
   "outputs": [],
   "source": []
  }
 ],
 "metadata": {
  "kernelspec": {
   "display_name": "Python 3.8.13 ('pqhdr')",
   "language": "python",
   "name": "python3"
  },
  "language_info": {
   "codemirror_mode": {
    "name": "ipython",
    "version": 3
   },
   "file_extension": ".py",
   "mimetype": "text/x-python",
   "name": "python",
   "nbconvert_exporter": "python",
   "pygments_lexer": "ipython3",
   "version": "3.8.13"
  },
  "orig_nbformat": 4,
  "vscode": {
   "interpreter": {
    "hash": "ec04f7dc2b3ae4a422de9aaf96e8c62fe190a2869a08d14112cb2d7713497448"
   }
  }
 },
 "nbformat": 4,
 "nbformat_minor": 2
}
