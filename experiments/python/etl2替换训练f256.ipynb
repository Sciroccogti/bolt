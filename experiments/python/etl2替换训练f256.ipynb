{
 "cells": [
  {
   "cell_type": "markdown",
   "metadata": {},
   "source": [
    "encoder transformer层的linear2层（etl2）替换为近似矩阵乘法"
   ]
  },
  {
   "cell_type": "code",
   "execution_count": 9,
   "metadata": {},
   "outputs": [],
   "source": [
    "import numpy as np\n",
    "import os\n",
    "import matmul as mm\n",
    "import math_util as mu\n",
    "from NNutils import *\n",
    "# import scipy.io as io\n",
    "from amm_methods import *\n",
    "import socket # Obtain the current host name, which can be used to select different data directories and result saving directories"
   ]
  },
  {
   "cell_type": "code",
   "execution_count": 10,
   "metadata": {},
   "outputs": [],
   "source": [
    "# method = METHOD_MITHRAL\n",
    "# method = METHOD_PQ\n",
    "# method = METHOD_PLUTO\n",
    "method = METHOD_MITHRALPQ\n",
    "# method = METHOD_EXACT\n",
    "# method = METHOD_SCALAR_QUANTIZE\n",
    "quantize_lut = True\n",
    "nbits = 8 # 量化比特数\n",
    "if quantize_lut == False:\n",
    "    nbits = 0"
   ]
  },
  {
   "cell_type": "code",
   "execution_count": 11,
   "metadata": {},
   "outputs": [],
   "source": [
    "linear_name = 'etl2'\n",
    "feedback_bits = 256\n",
    "linear_name_full = \"ex_linear2\"\n",
    "ncodebooks = 64 # max:512\n",
    "ncentroids = 64\n",
    "\n",
    "train_sam_num = 1500 # 训练集样本数\n",
    "test_sam_num = 1000 # 测试集样本数(如需修改，请同时修改下面的读取文件，现文件默认1000个样本)\n",
    "batch_size = 32\n",
    "if method == METHOD_EXACT:\n",
    "    ncodebooks = 0\n",
    "    ncentroids = 0"
   ]
  },
  {
   "cell_type": "code",
   "execution_count": 12,
   "metadata": {},
   "outputs": [],
   "source": [
    "host_name = socket.gethostname()\n",
    "if host_name == 'DESKTOP-PLRL7TK':\n",
    "    dir_train = 'E:\\\\hdr\\\\研一\\\\华为-深度学习\\\\intermediate\\\\intermediate8dbfc1'\n",
    "    dir_result = ''\n",
    "elif host_name == 'DESKTOP-6FOH47P':\n",
    "    dir_train = 'F:\\\\Projects\\\\python\\\\PQ\\\\intermediate8dbfc1'\n",
    "    dir_result = 'F:\\\\Projects\\\\python\\\\PQ\\\\res'\n",
    "    linearin_path_train= ''\n",
    "    linearout_path_train= ''\n",
    "    linearin_path_test = ''\n",
    "    linearout_path_test = ''\n",
    "elif host_name == 'jm-System-Product-Name':\n",
    "    dir_joined = '/data/hdr/transformer_data/joined'\n",
    "    dir_train = os.path.join(dir_joined, 'train', 'f'+str(feedback_bits))\n",
    "    dir_test = os.path.join(dir_joined, 'test', 'f'+str(feedback_bits))\n",
    "    dir_result = '/data/hdr/pq/res'\n",
    "    linearin_path_train= '%sin_train_f%i_sam%i.npy' % (linear_name_full, feedback_bits, train_sam_num)\n",
    "    y_train = '%s_y_train_f%i_sam%i.npy' % (linear_name_full, feedback_bits, train_sam_num)\n",
    "    linearout_path_train= '%sout_train_f%i_sam%i.npy' % (linear_name_full, feedback_bits, train_sam_num)\n",
    "    linearin_path_test = '%sin_test_f%i_sam%i.npy' % (linear_name_full, feedback_bits, test_sam_num)\n",
    "    linearout_path_test = '%sout_test_f%i_sam%i.npy' % (linear_name_full, feedback_bits, test_sam_num)\n",
    "else:\n",
    "    raise NameError(\"You are running the script in a new computer %s, please define dirs\" % host_name)\n",
    "\n",
    "\n",
    "weightpath = '%s_w_f%i.npy' % (linear_name_full, feedback_bits)\n",
    "biaspath = '%s_b_f%i.npy' % (linear_name_full, feedback_bits)\n",
    "dir_result = os.path.join(dir_result, method, \"f%i\" % feedback_bits, linear_name)\n",
    "try:\n",
    "    os.mkdir(dir_result)\n",
    "except FileNotFoundError:\n",
    "    os.makedirs(dir_result)\n",
    "except FileExistsError:\n",
    "    pass \n"
   ]
  },
  {
   "cell_type": "code",
   "execution_count": 13,
   "metadata": {},
   "outputs": [],
   "source": [
    "dataset_prepare(dir_joined, linear_name_full, feedback_bits, [train_sam_num, test_sam_num], batch_size, S1 = S1_dict[linear_name])"
   ]
  },
  {
   "cell_type": "code",
   "execution_count": 14,
   "metadata": {},
   "outputs": [
    {
     "name": "stdout",
     "output_type": "stream",
     "text": [
      "==============================\n",
      "running method:  MithralPQ\n",
      "running kmeans in subspace 1/64... mse / {var(X_subs), var(X)}: 0.00471, 0.0142\n",
      "running kmeans in subspace 2/64... mse / {var(X_subs), var(X)}: 0.165, 0.0178\n",
      "running kmeans in subspace 3/64... mse / {var(X_subs), var(X)}: 0.00437, 0.00799\n",
      "running kmeans in subspace 4/64... mse / {var(X_subs), var(X)}: 0.0204, 0.0599\n",
      "running kmeans in subspace 5/64... mse / {var(X_subs), var(X)}: 0.143, 0.00458\n",
      "running kmeans in subspace 6/64... mse / {var(X_subs), var(X)}: 0.32, 0.00542\n",
      "running kmeans in subspace 7/64... mse / {var(X_subs), var(X)}: 0.126, 0.00761\n",
      "running kmeans in subspace 8/64... mse / {var(X_subs), var(X)}: 0.00707, 0.0116\n",
      "running kmeans in subspace 9/64... mse / {var(X_subs), var(X)}: 0.0664, 0.0194\n",
      "running kmeans in subspace 10/64... mse / {var(X_subs), var(X)}: 0.0052, 0.019\n",
      "running kmeans in subspace 11/64... mse / {var(X_subs), var(X)}: 0.00384, 0.0106\n",
      "running kmeans in subspace 12/64... mse / {var(X_subs), var(X)}: 0.0175, 0.163\n",
      "running kmeans in subspace 13/64... mse / {var(X_subs), var(X)}: 0.0883, 0.00728\n",
      "running kmeans in subspace 14/64... mse / {var(X_subs), var(X)}: 0.436, 0.0125\n",
      "running kmeans in subspace 15/64... mse / {var(X_subs), var(X)}: 0.00565, 0.0172\n",
      "running kmeans in subspace 16/64... mse / {var(X_subs), var(X)}: 0.178, 0.00407\n",
      "running kmeans in subspace 17/64... mse / {var(X_subs), var(X)}: 0.0953, 0.00567\n",
      "running kmeans in subspace 18/64... mse / {var(X_subs), var(X)}: 0.0523, 0.0123\n",
      "running kmeans in subspace 19/64... mse / {var(X_subs), var(X)}: 0.0328, 0.0195\n",
      "running kmeans in subspace 20/64... mse / {var(X_subs), var(X)}: 0.0558, 0.00905\n",
      "running kmeans in subspace 21/64... mse / {var(X_subs), var(X)}: 0.233, 0.00987\n",
      "running kmeans in subspace 22/64... mse / {var(X_subs), var(X)}: 0.0107, 0.037\n",
      "running kmeans in subspace 23/64... mse / {var(X_subs), var(X)}: 0.0993, 0.00443\n",
      "running kmeans in subspace 24/64... mse / {var(X_subs), var(X)}: 0.0722, 0.00306\n",
      "running kmeans in subspace 25/64... mse / {var(X_subs), var(X)}: 0.0104, 0.0268\n",
      "running kmeans in subspace 26/64... mse / {var(X_subs), var(X)}: 0.0462, 0.0269\n",
      "running kmeans in subspace 27/64... mse / {var(X_subs), var(X)}: 0.0151, 0.039\n",
      "running kmeans in subspace 28/64... mse / {var(X_subs), var(X)}: 0.357, 0.0128\n",
      "running kmeans in subspace 29/64... mse / {var(X_subs), var(X)}: 0.0384, 0.00886\n",
      "running kmeans in subspace 30/64... mse / {var(X_subs), var(X)}: 0.0791, 0.00583\n",
      "running kmeans in subspace 31/64... mse / {var(X_subs), var(X)}: 0.0111, 0.048\n",
      "running kmeans in subspace 32/64... mse / {var(X_subs), var(X)}: 0.0405, 0.00795\n",
      "running kmeans in subspace 33/64... mse / {var(X_subs), var(X)}: 0.0356, 0.00679\n",
      "running kmeans in subspace 34/64... mse / {var(X_subs), var(X)}: 0.0349, 0.106\n",
      "running kmeans in subspace 35/64... mse / {var(X_subs), var(X)}: 0.0795, 0.00732\n",
      "running kmeans in subspace 36/64... mse / {var(X_subs), var(X)}: 0.37, 0.00942\n",
      "running kmeans in subspace 37/64... mse / {var(X_subs), var(X)}: 0.0284, 0.00399\n",
      "running kmeans in subspace 38/64... mse / {var(X_subs), var(X)}: 0.178, 0.00727\n",
      "running kmeans in subspace 39/64... mse / {var(X_subs), var(X)}: 0.0342, 0.00598\n",
      "running kmeans in subspace 40/64... mse / {var(X_subs), var(X)}: 0.167, 0.00985\n",
      "running kmeans in subspace 41/64... mse / {var(X_subs), var(X)}: 0.0974, 0.00441\n",
      "running kmeans in subspace 42/64... mse / {var(X_subs), var(X)}: 0.0535, 0.00311\n",
      "running kmeans in subspace 43/64... mse / {var(X_subs), var(X)}: 0.288, 0.00523\n",
      "running kmeans in subspace 44/64... mse / {var(X_subs), var(X)}: 0.337, 0.0165\n",
      "running kmeans in subspace 45/64... mse / {var(X_subs), var(X)}: 0.0592, 0.0178\n",
      "running kmeans in subspace 46/64... mse / {var(X_subs), var(X)}: 0.0175, 0.00573\n",
      "running kmeans in subspace 47/64... mse / {var(X_subs), var(X)}: 0.0595, 0.008\n",
      "running kmeans in subspace 48/64... mse / {var(X_subs), var(X)}: 0.076, 0.00573\n",
      "running kmeans in subspace 49/64... mse / {var(X_subs), var(X)}: 0.142, 0.0072\n",
      "running kmeans in subspace 50/64... mse / {var(X_subs), var(X)}: 0.0672, 0.00503\n",
      "running kmeans in subspace 51/64... mse / {var(X_subs), var(X)}: 0.127, 0.00399\n",
      "running kmeans in subspace 52/64... mse / {var(X_subs), var(X)}: 0.00937, 0.0278\n",
      "running kmeans in subspace 53/64... mse / {var(X_subs), var(X)}: 0.173, 0.0098\n",
      "running kmeans in subspace 54/64... mse / {var(X_subs), var(X)}: 0.298, 0.0213\n",
      "running kmeans in subspace 55/64... mse / {var(X_subs), var(X)}: 0.679, 0.0396\n",
      "running kmeans in subspace 56/64... mse / {var(X_subs), var(X)}: 0.0161, 0.0271\n",
      "running kmeans in subspace 57/64... mse / {var(X_subs), var(X)}: 0.0764, 0.00293\n",
      "running kmeans in subspace 58/64... mse / {var(X_subs), var(X)}: 0.00504, 0.00979\n",
      "running kmeans in subspace 59/64... mse / {var(X_subs), var(X)}: 0.0701, 0.00809\n",
      "running kmeans in subspace 60/64... mse / {var(X_subs), var(X)}: 0.334, 0.0133\n",
      "running kmeans in subspace 61/64... mse / {var(X_subs), var(X)}: 0.0037, 0.0122\n",
      "running kmeans in subspace 62/64... mse / {var(X_subs), var(X)}: 0.892, 0.00359\n",
      "running kmeans in subspace 63/64... mse / {var(X_subs), var(X)}: 0.0159, 0.0386\n",
      "running kmeans in subspace 64/64... mse / {var(X_subs), var(X)}: 0.00429, 0.00987\n",
      "--- total mse / var(X): 0.0175\n",
      "learning quantization...\n"
     ]
    }
   ],
   "source": [
    "if method == METHOD_PLUTO:\n",
    "    est3 = mm.estFactory(X_path=linearin_path_train, W_path=weightpath, Y_path=y_train, dir= dir_train,\\\n",
    "                        ncodebooks=ncodebooks, ncentroids=ncentroids, methods=[method], nbits=nbits, \\\n",
    "                        quantize_lut = quantize_lut, bias_path=biaspath)\n",
    "else:\n",
    "    est3 = mm.estFactory(X_path=linearin_path_train, W_path=weightpath, Y_path=y_train, dir= dir_train,\\\n",
    "                        ncodebooks=ncodebooks, ncentroids=ncentroids, methods=[method], nbits=nbits, \\\n",
    "                        quantize_lut = quantize_lut)\n"
   ]
  },
  {
   "cell_type": "code",
   "execution_count": 15,
   "metadata": {},
   "outputs": [],
   "source": [
    "x_test = np.load(dir_test+'/'+linearin_path_test)\n",
    "w_test = np.load(dir_train+'/'+weightpath)\n",
    "bias = np.load(dir_train+'/'+biaspath)\n",
    "# print(type(est3))\n",
    "y_out_matmul = mm.eval_matmul(est3, x_test, w_test) # MADDNESS乘法的结果\n",
    "# y_out_last = mu.softmax(y_out_matmul + bias.T) # MADDNESS替换后当前层输出，即+bias并激活函数后的结果\n",
    "if method == METHOD_PLUTO:\n",
    "    y_out_last = y_out_matmul\n",
    "else:\n",
    "    y_out_last = y_out_matmul + bias.T # MADDNESS替换后当前层输出，即+bias并不需要激活函数后的结果"
   ]
  },
  {
   "cell_type": "code",
   "execution_count": 16,
   "metadata": {},
   "outputs": [
    {
     "name": "stdout",
     "output_type": "stream",
     "text": [
      "[[ 0.17550986 -0.61532587  0.20481968 ... -0.0973627  -0.3168827\n",
      "   0.22384141]\n",
      " [ 0.15141429 -0.57918257  0.14458077 ... -0.08531491 -0.32893047\n",
      "   0.18769805]\n",
      " [ 0.22370099 -0.61532587  0.20481968 ... -0.0973627  -0.32893047\n",
      "   0.19974585]\n",
      " ...\n",
      " [ 0.03093646 -0.24184462 -0.12047046 ... -0.10941048 -0.17230928\n",
      "  -0.07735316]\n",
      " [-0.05339802 -0.49484807 -0.09637489 ... -0.0973627  -0.3891694\n",
      "   0.07926801]\n",
      " [-0.05339802 -0.32617912 -0.19275716 ... -0.25398389 -0.244596\n",
      "  -0.16168764]]\n",
      "y_out_last.shape:  (1024000, 64)\n",
      "y_out_last_re.shape:  (1000, 32, 32, 64)\n"
     ]
    }
   ],
   "source": [
    "print(y_out_last)\n",
    "print(\"y_out_last.shape: \", y_out_last.shape)\n",
    "y_out_last_re = y_out_last.reshape(test_sam_num, batch_size, -1, y_out_last.shape[-1]) #AMM字典模式需要复原y大小\n",
    "print(\"y_out_last_re.shape: \", y_out_last_re.shape)\n",
    "if method == METHOD_SCALAR_QUANTIZE:\n",
    "    np.save(os.path.join(dir_result, '%s%s_trsam%i_tesam%i_fb%i_nbits%i.npy' % (method, linear_name, train_sam_num, test_sam_num, feedback_bits, nbits)), y_out_last_re.astype(np.float32))\n",
    "elif method == METHOD_MITHRAL or method == METHOD_PQ or method == METHOD_PLUTO or method == METHOD_MITHRALPQ:\n",
    "    np.save(os.path.join(dir_result, '%s%s_ql%i_nbits%i_trsam%i_tesam%i_fb%i_cb%i_ct%i.npy' % (method, linear_name, quantize_lut, nbits, train_sam_num, test_sam_num, feedback_bits, ncodebooks, ncentroids)), y_out_last_re)\n",
    "else:\n",
    "    np.save(os.path.join(dir_result, '%s%s_trsam%i_tesam%i_fb%i_cb%i_ct%i.npy' % (method, linear_name, train_sam_num, test_sam_num, feedback_bits, ncodebooks, ncentroids)), y_out_last_re)"
   ]
  },
  {
   "cell_type": "code",
   "execution_count": null,
   "metadata": {},
   "outputs": [],
   "source": []
  }
 ],
 "metadata": {
  "kernelspec": {
   "display_name": "Python 3.8.13 ('pqhdr')",
   "language": "python",
   "name": "python3"
  },
  "language_info": {
   "codemirror_mode": {
    "name": "ipython",
    "version": 3
   },
   "file_extension": ".py",
   "mimetype": "text/x-python",
   "name": "python",
   "nbconvert_exporter": "python",
   "pygments_lexer": "ipython3",
   "version": "3.8.13"
  },
  "orig_nbformat": 4,
  "vscode": {
   "interpreter": {
    "hash": "ec04f7dc2b3ae4a422de9aaf96e8c62fe190a2869a08d14112cb2d7713497448"
   }
  }
 },
 "nbformat": 4,
 "nbformat_minor": 2
}
