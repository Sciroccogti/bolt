{
 "cells": [
  {
   "cell_type": "markdown",
   "metadata": {},
   "source": [
    "encoder transformer层的linear1层（etl1）替换为近似矩阵乘法"
   ]
  },
  {
   "cell_type": "code",
   "execution_count": 25,
   "metadata": {},
   "outputs": [],
   "source": [
    "import numpy as np\n",
    "import os\n",
    "import matmul as mm\n",
    "import math_util as mu\n",
    "import scipy.io as io\n",
    "from amm_methods import *\n",
    "import socket # Obtain the current host name, which can be used to select different data directories and result saving directories"
   ]
  },
  {
   "cell_type": "code",
   "execution_count": 26,
   "metadata": {},
   "outputs": [],
   "source": [
    "# root_path = '/data/hdr/csi_transformer/pic/'\n",
    "# print(root_path)\n",
    "# root_path2 = '/'.join(root_path.split(\"/\")[:-2])\n",
    "# # sys.path.append(root_path)\n",
    "# print(root_path2)"
   ]
  },
  {
   "cell_type": "code",
   "execution_count": 27,
   "metadata": {},
   "outputs": [],
   "source": [
    "# method = METHOD_MITHRAL\n",
    "# method = METHOD_PQ\n",
    "method = METHOD_MITHRALPQ\n",
    "# method = METHOD_EXACT\n",
    "# method = METHOD_SCALAR_QUANTIZE\n",
    "nbits = 8 # 量化比特数"
   ]
  },
  {
   "cell_type": "code",
   "execution_count": 28,
   "metadata": {},
   "outputs": [],
   "source": [
    "linear_name = 'etl2'\n",
    "feedback_bits = 256\n",
    "ncodebooks = 64 # max:512\n",
    "ncentroids = 64\n",
    "if method == METHOD_MITHRAL:\n",
    "    ncentroids = 16\n",
    "train_sam_num = 3000 # 训练集样本数\n",
    "test_sam_num = 1000 # 测试集样本数(如需修改，请同时修改下面的读取文件，现文件默认1000个样本)\n",
    "batch_size = 32\n",
    "if method == METHOD_EXACT:\n",
    "    ncodebooks = 0\n",
    "    ncentroids = 0"
   ]
  },
  {
   "cell_type": "code",
   "execution_count": 29,
   "metadata": {},
   "outputs": [],
   "source": [
    "host_name = socket.gethostname()\n",
    "if host_name == 'DESKTOP-PLRL7TK':\n",
    "    dir_train = 'E:\\\\hdr\\\\研一\\\\华为-深度学习\\\\intermediate\\\\intermediate8dbfc1'\n",
    "    dir_result = ''\n",
    "elif host_name == 'DESKTOP-6FOH47P':\n",
    "    dir_train = 'F:\\\\Projects\\\\python\\\\PQ\\\\intermediate8dbfc1'\n",
    "    dir_result = 'F:\\\\Projects\\\\python\\\\PQ\\\\res'\n",
    "    data_to_fcpath_train= ''\n",
    "    featurepath_train= ''\n",
    "    data_to_fcpath_test = ''\n",
    "    featurepath_test = ''\n",
    "elif host_name == 'jm-System-Product-Name':\n",
    "    dir_train = os.path.join('/data/hdr/transformer_data/joined', 'train', 'f'+str(feedback_bits))\n",
    "    dir_test = os.path.join('/data/hdr/transformer_data/joined', 'test', 'f'+str(feedback_bits))\n",
    "    dir_result = '/data/hdr/pq/res'\n",
    "    data_to_fcpath_train= 'ex_linear2in_train_f%i_sam%i.npy' % (feedback_bits, train_sam_num)\n",
    "    y_train = 'ex_linear2_y_train_f%i_sam%i.npy' % (feedback_bits, train_sam_num)\n",
    "    featurepath_train= 'ex_linear2out_train_f%i_sam%i.npy' % (feedback_bits, train_sam_num)\n",
    "    data_to_fcpath_test = 'ex_linear2in_test.npy'\n",
    "    featurepath_test = 'ex_linear2out_test.npy'\n",
    "    # y_test = 'y_test.npy'\n",
    "else:\n",
    "    raise NameError(\"You are running the script in a new computer, please define dir_train\")\n",
    "\n",
    "\n",
    "weightpath = 'ex_linear2_w_f256.npy'\n",
    "biaspath = 'ex_linear2_b_f256.npy'\n",
    "dir_result = os.path.join(dir_result, method, \"f%i\" % feedback_bits, linear_name)\n",
    "try:\n",
    "    os.mkdir(dir_result)\n",
    "except FileNotFoundError:\n",
    "    os.makedirs(dir_result)\n",
    "except FileExistsError:\n",
    "    pass \n"
   ]
  },
  {
   "cell_type": "code",
   "execution_count": 30,
   "metadata": {},
   "outputs": [
    {
     "name": "stdout",
     "output_type": "stream",
     "text": [
      "==============================\n",
      "running method:  PQ\n",
      "running kmeans in subspace 1/256... mse / {var(X_subs), var(X)}: 0.256, 0.00461\n",
      "running kmeans in subspace 2/256... mse / {var(X_subs), var(X)}: 0.314, 0.00602\n",
      "running kmeans in subspace 3/256... mse / {var(X_subs), var(X)}: 0.013, 0.00262\n",
      "running kmeans in subspace 4/256... mse / {var(X_subs), var(X)}: 3.38e-05, 0.000401\n",
      "running kmeans in subspace 5/256... mse / {var(X_subs), var(X)}: 0.199, 0.0183\n",
      "running kmeans in subspace 6/256... mse / {var(X_subs), var(X)}: 0.14, 0.0385\n",
      "running kmeans in subspace 7/256... mse / {var(X_subs), var(X)}: 0.6, 0.0345\n",
      "running kmeans in subspace 8/256... mse / {var(X_subs), var(X)}: 0.0901, 0.00143\n",
      "running kmeans in subspace 9/256... X.shape:  (51200, 2)\n",
      "k:  256\n",
      "nnz_rows:  63\n"
     ]
    },
    {
     "ename": "ValueError",
     "evalue": "could not broadcast input array from shape (63,2) into shape (2,)",
     "output_type": "error",
     "traceback": [
      "\u001b[0;31m---------------------------------------------------------------------------\u001b[0m",
      "\u001b[0;31mValueError\u001b[0m                                Traceback (most recent call last)",
      "Cell \u001b[0;32mIn [30], line 1\u001b[0m\n\u001b[0;32m----> 1\u001b[0m est3 \u001b[39m=\u001b[39m mm\u001b[39m.\u001b[39;49mestFactory(X_path\u001b[39m=\u001b[39;49mdata_to_fcpath_train, W_path\u001b[39m=\u001b[39;49mweightpath, Y_path\u001b[39m=\u001b[39;49my_train, \u001b[39mdir\u001b[39;49m\u001b[39m=\u001b[39;49m dir_train, ncodebooks\u001b[39m=\u001b[39;49mncodebooks, ncentroids\u001b[39m=\u001b[39;49mncentroids, methods\u001b[39m=\u001b[39;49m[method], nbits\u001b[39m=\u001b[39;49mnbits)\n",
      "File \u001b[0;32m/data/hdr/pq/bolt/experiments/python/matmul.py:323\u001b[0m, in \u001b[0;36mestFactory\u001b[0;34m(methods, ntasks, ncodebooks, ncentroids, verbose, limit_ntasks, tasks_all_same_shape, tasks, X_path, W_path, Y_path, bias_path, dir, nbits)\u001b[0m\n\u001b[1;32m    319\u001b[0m         est \u001b[39m=\u001b[39m _fitted_est_for_hparams(\n\u001b[1;32m    320\u001b[0m             method_id, hparams_dict,\n\u001b[1;32m    321\u001b[0m             task\u001b[39m.\u001b[39mX_train, task\u001b[39m.\u001b[39mW_train, task\u001b[39m.\u001b[39mY_train, bias\u001b[39m=\u001b[39mtask\u001b[39m.\u001b[39mbias)\n\u001b[1;32m    322\u001b[0m     \u001b[39melse\u001b[39;00m:\n\u001b[0;32m--> 323\u001b[0m         est \u001b[39m=\u001b[39m _fitted_est_for_hparams(\n\u001b[1;32m    324\u001b[0m             method_id, hparams_dict,\n\u001b[1;32m    325\u001b[0m             task\u001b[39m.\u001b[39;49mX_train, task\u001b[39m.\u001b[39;49mW_train, task\u001b[39m.\u001b[39;49mY_train)\n\u001b[1;32m    326\u001b[0m \u001b[39mexcept\u001b[39;00m amm\u001b[39m.\u001b[39mInvalidParametersException \u001b[39mas\u001b[39;00m e:\n\u001b[1;32m    327\u001b[0m     \u001b[39m# hparams don't make sense for task (eg, D < d)\u001b[39;00m\n\u001b[1;32m    328\u001b[0m     \u001b[39mprint\u001b[39m(\u001b[39mf\u001b[39m\u001b[39m\"\u001b[39m\u001b[39mhparams apparently invalid: \u001b[39m\u001b[39m{\u001b[39;00me\u001b[39m}\u001b[39;00m\u001b[39m\"\u001b[39m)\n",
      "File \u001b[0;32m/data/hdr/pq/bolt/experiments/python/matmul.py:247\u001b[0m, in \u001b[0;36m_fitted_est_for_hparams\u001b[0;34m(method_id, hparams_dict, X_train, W_train, Y_train, **kwargs)\u001b[0m\n\u001b[1;32m    244\u001b[0m \u001b[39mdef\u001b[39;00m \u001b[39m_fitted_est_for_hparams\u001b[39m(method_id, hparams_dict, X_train, W_train,\n\u001b[1;32m    245\u001b[0m                             Y_train, \u001b[39m*\u001b[39m\u001b[39m*\u001b[39mkwargs):\n\u001b[1;32m    246\u001b[0m     est \u001b[39m=\u001b[39m _estimator_for_method_id(method_id, \u001b[39m*\u001b[39m\u001b[39m*\u001b[39mhparams_dict)\n\u001b[0;32m--> 247\u001b[0m     est\u001b[39m.\u001b[39;49mfit(X_train, W_train, Y\u001b[39m=\u001b[39;49mY_train, \u001b[39m*\u001b[39;49m\u001b[39m*\u001b[39;49mkwargs)\n\u001b[1;32m    248\u001b[0m     \u001b[39mreturn\u001b[39;00m est\n",
      "File \u001b[0;32m/data/hdr/pq/bolt/experiments/python/vq_amm.py:48\u001b[0m, in \u001b[0;36mVQMatmul.fit\u001b[0;34m(self, A, B, Y)\u001b[0m\n\u001b[1;32m     45\u001b[0m     \u001b[39mraise\u001b[39;00m amm\u001b[39m.\u001b[39mInvalidParametersException(\n\u001b[1;32m     46\u001b[0m         \u001b[39m'\u001b[39m\u001b[39mD < C: \u001b[39m\u001b[39m{}\u001b[39;00m\u001b[39m < \u001b[39m\u001b[39m{}\u001b[39;00m\u001b[39m'\u001b[39m\u001b[39m.\u001b[39mformat(D, \u001b[39mself\u001b[39m\u001b[39m.\u001b[39mncodebooks))\n\u001b[1;32m     47\u001b[0m \u001b[39m# A = X_train B = W_train Y = Y_train\u001b[39;00m\n\u001b[0;32m---> 48\u001b[0m \u001b[39mself\u001b[39;49m\u001b[39m.\u001b[39;49menc\u001b[39m.\u001b[39;49mfit(A, B\u001b[39m.\u001b[39;49mT)\n",
      "File \u001b[0;32m/data/hdr/pq/bolt/experiments/python/vquantizers.py:436\u001b[0m, in \u001b[0;36mPQEncoder.fit\u001b[0;34m(self, X, Q)\u001b[0m\n\u001b[1;32m    424\u001b[0m         \u001b[39mself\u001b[39m\u001b[39m.\u001b[39msplits_lists, \u001b[39mself\u001b[39m\u001b[39m.\u001b[39mcentroids \u001b[39m=\u001b[39m \\\n\u001b[1;32m    425\u001b[0m             clusterize\u001b[39m.\u001b[39mlearn_splits_in_subspaces(\n\u001b[1;32m    426\u001b[0m                 X, subvect_len\u001b[39m=\u001b[39m\u001b[39mself\u001b[39m\u001b[39m.\u001b[39msubvect_len,\n\u001b[1;32m    427\u001b[0m                 nsplits_per_subs\u001b[39m=\u001b[39m\u001b[39mself\u001b[39m\u001b[39m.\u001b[39mcode_bits, algo\u001b[39m=\u001b[39m\u001b[39mself\u001b[39m\u001b[39m.\u001b[39mencode_algo)\n\u001b[1;32m    428\u001b[0m         \u001b[39m# print(\"centroids shape: \", self.centroids.shape)\u001b[39;00m\n\u001b[1;32m    429\u001b[0m \n\u001b[1;32m    430\u001b[0m         \u001b[39m# # TODO rm\u001b[39;00m\n\u001b[0;32m   (...)\u001b[0m\n\u001b[1;32m    434\u001b[0m         \u001b[39m# print(\"centroids shape: \", self.centroids.shape)\u001b[39;00m\n\u001b[1;32m    435\u001b[0m     \u001b[39melse\u001b[39;00m:\n\u001b[0;32m--> 436\u001b[0m         \u001b[39mself\u001b[39m\u001b[39m.\u001b[39mcentroids \u001b[39m=\u001b[39m _learn_centroids(\n\u001b[1;32m    437\u001b[0m             X, \u001b[39mself\u001b[39;49m\u001b[39m.\u001b[39;49mncentroids, \u001b[39mself\u001b[39;49m\u001b[39m.\u001b[39;49mncodebooks, \u001b[39mself\u001b[39;49m\u001b[39m.\u001b[39;49msubvect_len)\n\u001b[1;32m    439\u001b[0m \u001b[39mself\u001b[39m\u001b[39m.\u001b[39m_learn_lut_quantization(X, Q)\n",
      "File \u001b[0;32m/data/hdr/pq/bolt/experiments/python/vquantizers.py:339\u001b[0m, in \u001b[0;36m_learn_centroids\u001b[0;34m(X, ncentroids, ncodebooks, subvect_len)\u001b[0m\n\u001b[1;32m    337\u001b[0m X_in \u001b[39m=\u001b[39m X[:, start_col:end_col]\n\u001b[1;32m    338\u001b[0m \u001b[39m# centroids, labels = kmeans(X_in, ncentroids)\u001b[39;00m\n\u001b[0;32m--> 339\u001b[0m centroids, labels, sse \u001b[39m=\u001b[39m kmeans(X_in, ncentroids, return_sse\u001b[39m=\u001b[39;49m\u001b[39mTrue\u001b[39;49;00m)\n\u001b[1;32m    341\u001b[0m \u001b[39m# X_bar = X_in - np.mean(X_in, axis=0)\u001b[39;00m\n\u001b[1;32m    342\u001b[0m \u001b[39m# sse_using_mean = np.sum(X_bar * X_bar) + 1e-14\u001b[39;00m\n\u001b[1;32m    343\u001b[0m subspace_sse \u001b[39m=\u001b[39m np\u001b[39m.\u001b[39msum(col_sses[start_col:end_col])\n",
      "File \u001b[0;32m~/.conda/envs/pqhdr/lib/python3.8/site-packages/joblib/memory.py:594\u001b[0m, in \u001b[0;36mMemorizedFunc.__call__\u001b[0;34m(self, *args, **kwargs)\u001b[0m\n\u001b[1;32m    593\u001b[0m \u001b[39mdef\u001b[39;00m \u001b[39m__call__\u001b[39m(\u001b[39mself\u001b[39m, \u001b[39m*\u001b[39margs, \u001b[39m*\u001b[39m\u001b[39m*\u001b[39mkwargs):\n\u001b[0;32m--> 594\u001b[0m     \u001b[39mreturn\u001b[39;00m \u001b[39mself\u001b[39;49m\u001b[39m.\u001b[39;49m_cached_call(args, kwargs)[\u001b[39m0\u001b[39m]\n",
      "File \u001b[0;32m~/.conda/envs/pqhdr/lib/python3.8/site-packages/joblib/memory.py:537\u001b[0m, in \u001b[0;36mMemorizedFunc._cached_call\u001b[0;34m(self, args, kwargs, shelving)\u001b[0m\n\u001b[1;32m    534\u001b[0m         must_call \u001b[39m=\u001b[39m \u001b[39mTrue\u001b[39;00m\n\u001b[1;32m    536\u001b[0m \u001b[39mif\u001b[39;00m must_call:\n\u001b[0;32m--> 537\u001b[0m     out, metadata \u001b[39m=\u001b[39m \u001b[39mself\u001b[39;49m\u001b[39m.\u001b[39;49mcall(\u001b[39m*\u001b[39;49margs, \u001b[39m*\u001b[39;49m\u001b[39m*\u001b[39;49mkwargs)\n\u001b[1;32m    538\u001b[0m     \u001b[39mif\u001b[39;00m \u001b[39mself\u001b[39m\u001b[39m.\u001b[39mmmap_mode \u001b[39mis\u001b[39;00m \u001b[39mnot\u001b[39;00m \u001b[39mNone\u001b[39;00m:\n\u001b[1;32m    539\u001b[0m         \u001b[39m# Memmap the output at the first call to be consistent with\u001b[39;00m\n\u001b[1;32m    540\u001b[0m         \u001b[39m# later calls\u001b[39;00m\n\u001b[1;32m    541\u001b[0m         \u001b[39mif\u001b[39;00m \u001b[39mself\u001b[39m\u001b[39m.\u001b[39m_verbose:\n",
      "File \u001b[0;32m~/.conda/envs/pqhdr/lib/python3.8/site-packages/joblib/memory.py:779\u001b[0m, in \u001b[0;36mMemorizedFunc.call\u001b[0;34m(self, *args, **kwargs)\u001b[0m\n\u001b[1;32m    777\u001b[0m \u001b[39mif\u001b[39;00m \u001b[39mself\u001b[39m\u001b[39m.\u001b[39m_verbose \u001b[39m>\u001b[39m \u001b[39m0\u001b[39m:\n\u001b[1;32m    778\u001b[0m     \u001b[39mprint\u001b[39m(format_call(\u001b[39mself\u001b[39m\u001b[39m.\u001b[39mfunc, args, kwargs))\n\u001b[0;32m--> 779\u001b[0m output \u001b[39m=\u001b[39m \u001b[39mself\u001b[39;49m\u001b[39m.\u001b[39;49mfunc(\u001b[39m*\u001b[39;49margs, \u001b[39m*\u001b[39;49m\u001b[39m*\u001b[39;49mkwargs)\n\u001b[1;32m    780\u001b[0m \u001b[39mself\u001b[39m\u001b[39m.\u001b[39mstore_backend\u001b[39m.\u001b[39mdump_item(\n\u001b[1;32m    781\u001b[0m     [func_id, args_id], output, verbose\u001b[39m=\u001b[39m\u001b[39mself\u001b[39m\u001b[39m.\u001b[39m_verbose)\n\u001b[1;32m    783\u001b[0m duration \u001b[39m=\u001b[39m time\u001b[39m.\u001b[39mtime() \u001b[39m-\u001b[39m start_time\n",
      "File \u001b[0;32m/data/hdr/pq/bolt/experiments/python/utils.py:195\u001b[0m, in \u001b[0;36mkmeans\u001b[0;34m(X, k, max_iter, init, return_sse)\u001b[0m\n\u001b[1;32m    190\u001b[0m labels \u001b[39m=\u001b[39m np\u001b[39m.\u001b[39mfull(X\u001b[39m.\u001b[39mshape[\u001b[39m0\u001b[39m], nnz_rows, dtype\u001b[39m=\u001b[39mnp\u001b[39m.\u001b[39mint)\n\u001b[1;32m    191\u001b[0m \u001b[39mif\u001b[39;00m nnz_rows \u001b[39m>\u001b[39m \u001b[39m0\u001b[39m:  \u001b[39m# special case, because can't have slice of size 0\u001b[39;00m\n\u001b[1;32m    192\u001b[0m     \u001b[39m# make a centroid out of each nonzero row, and assign only those\u001b[39;00m\n\u001b[1;32m    193\u001b[0m     \u001b[39m# rows to that centroid; all other rows get assigned to next\u001b[39;00m\n\u001b[1;32m    194\u001b[0m     \u001b[39m# centroid after those, which is all zeros\u001b[39;00m\n\u001b[0;32m--> 195\u001b[0m     centroids[nnz_rows] \u001b[39m=\u001b[39m X[nonzero_mask]\n\u001b[1;32m    196\u001b[0m     labels[nonzero_mask] \u001b[39m=\u001b[39m np\u001b[39m.\u001b[39marange(nnz_rows)\n\u001b[1;32m    197\u001b[0m \u001b[39mif\u001b[39;00m return_sse:\n",
      "\u001b[0;31mValueError\u001b[0m: could not broadcast input array from shape (63,2) into shape (2,)"
     ]
    },
    {
     "ename": "",
     "evalue": "",
     "output_type": "error",
     "traceback": [
      "\u001b[1;31mThe Kernel crashed while executing code in the the current cell or a previous cell. Please review the code in the cell(s) to identify a possible cause of the failure. Click <a href='https://aka.ms/vscodeJupyterKernelCrash'>here</a> for more info. View Jupyter <a href='command:jupyter.viewOutput'>log</a> for further details."
     ]
    }
   ],
   "source": [
    "est3 = mm.estFactory(X_path=data_to_fcpath_train, W_path=weightpath, Y_path=y_train, dir= dir_train, ncodebooks=ncodebooks, ncentroids=ncentroids, methods=[method], nbits=nbits)\n"
   ]
  },
  {
   "cell_type": "code",
   "execution_count": null,
   "metadata": {},
   "outputs": [],
   "source": [
    "x_test = np.load(dir_test+'/'+data_to_fcpath_test)\n",
    "w_test = np.load(dir_train+'/'+weightpath)\n",
    "bias = np.load(dir_train+'/'+biaspath)\n",
    "# print(type(est3))\n",
    "y_out_matmul = mm.eval_matmul(est3, x_test, w_test) # MADDNESS乘法的结果\n",
    "# y_out_last = mu.softmax(y_out_matmul + bias.T) # MADDNESS替换后当前层输出，即+bias并激活函数后的结果\n",
    "y_out_last = y_out_matmul + bias.T # MADDNESS替换后当前层输出，即+bias并不需要激活函数后的结果"
   ]
  },
  {
   "cell_type": "code",
   "execution_count": null,
   "metadata": {},
   "outputs": [
    {
     "name": "stdout",
     "output_type": "stream",
     "text": [
      "[[ 0.50646554  0.10646586  0.51386934 ...  0.22492261  0.02745226\n",
      "   0.47220983]\n",
      " [ 0.46864788  0.12992632  0.47988059 ...  0.25832577  0.03483174\n",
      "   0.42371113]\n",
      " [ 0.50793373  0.10451188  0.50128958 ...  0.22104703  0.01779238\n",
      "   0.46261187]\n",
      " ...\n",
      " [ 0.43996474  0.16640982  0.20484331 ...  0.22249337  0.19770805\n",
      "   0.24413645]\n",
      " [ 0.30084064 -0.06226786  0.10596441 ...  0.29139958  0.07577209\n",
      "   0.30812661]\n",
      " [ 0.31353394  0.12219785  0.18652727 ...  0.01956101  0.13025346\n",
      "   0.19029885]]\n",
      "y_out_last.shape:  (1024000, 64)\n",
      "y_out_last_re.shape:  (1000, 32, 32, 64)\n"
     ]
    }
   ],
   "source": [
    "print(y_out_last)\n",
    "print(\"y_out_last.shape: \", y_out_last.shape)\n",
    "y_out_last_re = y_out_last.reshape(test_sam_num, batch_size, -1, y_out_last.shape[-1])\n",
    "print(\"y_out_last_re.shape: \", y_out_last_re.shape)\n",
    "if method == METHOD_EXACT:\n",
    "    train_sam_num = 0 # 训练集样本数\n",
    "if method == METHOD_SCALAR_QUANTIZE:\n",
    "    np.save(os.path.join(dir_result, '%s%s_trsam%i_tesam%i_fb%i_nbits%i.npy' % (method, linear_name, train_sam_num, test_sam_num, feedback_bits, nbits)), y_out_last_re.astype(np.float32))\n",
    "else:\n",
    "    np.save(os.path.join(dir_result, '%s%s_trsam%i_tesam%i_fb%i_cb%i_ct%i.npy' % (method, linear_name, train_sam_num, test_sam_num, feedback_bits, ncodebooks, ncentroids)), y_out_last_re)"
   ]
  },
  {
   "cell_type": "code",
   "execution_count": null,
   "metadata": {},
   "outputs": [],
   "source": []
  }
 ],
 "metadata": {
  "kernelspec": {
   "display_name": "Python 3.8.13 ('pqhdr')",
   "language": "python",
   "name": "python3"
  },
  "language_info": {
   "codemirror_mode": {
    "name": "ipython",
    "version": 3
   },
   "file_extension": ".py",
   "mimetype": "text/x-python",
   "name": "python",
   "nbconvert_exporter": "python",
   "pygments_lexer": "ipython3",
   "version": "3.8.13"
  },
  "orig_nbformat": 4,
  "vscode": {
   "interpreter": {
    "hash": "ec04f7dc2b3ae4a422de9aaf96e8c62fe190a2869a08d14112cb2d7713497448"
   }
  }
 },
 "nbformat": 4,
 "nbformat_minor": 2
}
