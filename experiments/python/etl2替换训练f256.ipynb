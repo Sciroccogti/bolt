{
 "cells": [
  {
   "cell_type": "markdown",
   "metadata": {},
   "source": [
    "encoder transformer层的linear2层（etl2）替换为近似矩阵乘法"
   ]
  },
  {
   "cell_type": "code",
   "execution_count": 9,
   "metadata": {},
   "outputs": [],
   "source": [
    "# import sys\n",
    "# sys.path.append('../../../../csi_transformer/src/')\n",
    "# import backbone\n",
    "# import image_segmentation\n",
    "import numpy as np\n",
    "import os\n",
    "import matmul as mm\n",
    "import math_util as mu\n",
    "from NNutils import *\n",
    "# import scipy.io as io\n",
    "from amm_methods import *\n",
    "import socket # Obtain the current host name, which can be used to select different data directories and result saving directories"
   ]
  },
  {
   "cell_type": "code",
   "execution_count": 10,
   "metadata": {},
   "outputs": [],
   "source": [
    "method = METHOD_MITHRAL\n",
    "# method = METHOD_PQ\n",
    "# method = METHOD_MITHRALPQ\n",
    "# method = METHOD_EXACT\n",
    "# method = METHOD_SCALAR_QUANTIZE\n",
    "nbits = 8 # 量化比特数"
   ]
  },
  {
   "cell_type": "code",
   "execution_count": 11,
   "metadata": {},
   "outputs": [],
   "source": [
    "linear_name = 'etl2'\n",
    "feedback_bits = 256\n",
    "linear_name_full = \"ex_linear2\"\n",
    "ncodebooks = 32 # max:512\n",
    "ncentroids = 64\n",
    "\n",
    "train_sam_num = 500 # 训练集样本数\n",
    "test_sam_num = 1000 # 测试集样本数(如需修改，请同时修改下面的读取文件，现文件默认1000个样本)\n",
    "batch_size = 32\n",
    "if method == METHOD_EXACT:\n",
    "    ncodebooks = 0\n",
    "    ncentroids = 0"
   ]
  },
  {
   "cell_type": "code",
   "execution_count": 12,
   "metadata": {},
   "outputs": [],
   "source": [
    "host_name = socket.gethostname()\n",
    "if host_name == 'DESKTOP-PLRL7TK':\n",
    "    dir_train = 'E:\\\\hdr\\\\研一\\\\华为-深度学习\\\\intermediate\\\\intermediate8dbfc1'\n",
    "    dir_result = ''\n",
    "elif host_name == 'DESKTOP-6FOH47P':\n",
    "    dir_train = 'F:\\\\Projects\\\\python\\\\PQ\\\\intermediate8dbfc1'\n",
    "    dir_result = 'F:\\\\Projects\\\\python\\\\PQ\\\\res'\n",
    "    linearin_path_train= ''\n",
    "    linearout_path_train= ''\n",
    "    linearin_path_test = ''\n",
    "    linearout_path_test = ''\n",
    "elif host_name == 'jm-System-Product-Name':\n",
    "    dir_joined = '/data/hdr/transformer_data/joined'\n",
    "    dir_train = os.path.join(dir_joined, 'train', 'f'+str(feedback_bits))\n",
    "    dir_test = os.path.join(dir_joined, 'test', 'f'+str(feedback_bits))\n",
    "    dir_result = '/data/hdr/pq/res'\n",
    "    linearin_path_train= '%sin_train_f%i_sam%i.npy' % (linear_name_full, feedback_bits, train_sam_num)\n",
    "    y_train = '%s_y_train_f%i_sam%i.npy' % (linear_name_full, feedback_bits, train_sam_num)\n",
    "    linearout_path_train= '%sout_train_f%i_sam%i.npy' % (linear_name_full, feedback_bits, train_sam_num)\n",
    "    linearin_path_test = '%sin_test_f%i_sam%i.npy' % (linear_name_full, feedback_bits, test_sam_num)\n",
    "    linearout_path_test = '%sout_test_f%i_sam%i.npy' % (linear_name_full, feedback_bits, test_sam_num)\n",
    "else:\n",
    "    raise NameError(\"You are running the script in a new computer %s, please define dirs\" % host_name)\n",
    "\n",
    "\n",
    "weightpath = '%s_w_f%i.npy' % (linear_name_full, feedback_bits)\n",
    "biaspath = '%s_b_f%i.npy' % (linear_name_full, feedback_bits)\n",
    "dir_result = os.path.join(dir_result, method, \"f%i\" % feedback_bits, linear_name)\n",
    "try:\n",
    "    os.mkdir(dir_result)\n",
    "except FileNotFoundError:\n",
    "    os.makedirs(dir_result)\n",
    "except FileExistsError:\n",
    "    pass \n"
   ]
  },
  {
   "cell_type": "code",
   "execution_count": 13,
   "metadata": {},
   "outputs": [],
   "source": [
    "dataset_prepare(dir_joined, linear_name_full, feedback_bits, [train_sam_num, test_sam_num], batch_size, S1 = S1)"
   ]
  },
  {
   "cell_type": "code",
   "execution_count": 14,
   "metadata": {},
   "outputs": [
    {
     "name": "stdout",
     "output_type": "stream",
     "text": [
      "==============================\n",
      "running method:  Mithral\n",
      "_learn_mithral_initialization heuristic pq\n",
      "================================\n",
      "learn_multisplits(): initial loss:    62344.23507052845\n",
      "learn_multisplits(): returning loss:  1880.2048258530028\n",
      "================================\n",
      "learn_multisplits(): initial loss:    94893.25950236958\n",
      "learn_multisplits(): returning loss:  4330.088568210602\n",
      "================================\n",
      "learn_multisplits(): initial loss:    1001.0946200168173\n",
      "learn_multisplits(): returning loss:  317.40761768659837\n",
      "================================\n",
      "learn_multisplits(): initial loss:    33843.496185549826\n",
      "learn_multisplits(): returning loss:  1213.1003481872822\n",
      "================================\n",
      "learn_multisplits(): initial loss:    78496.54801032713\n",
      "learn_multisplits(): returning loss:  4576.129696643808\n",
      "================================\n",
      "learn_multisplits(): initial loss:    240839.66908919992\n",
      "learn_multisplits(): returning loss:  8124.091533660889\n",
      "================================\n",
      "learn_multisplits(): initial loss:    2190.252637370293\n",
      "learn_multisplits(): returning loss:  689.3455305510574\n",
      "================================\n",
      "learn_multisplits(): initial loss:    61175.6195721784\n",
      "learn_multisplits(): returning loss:  1187.3697181977318\n",
      "================================\n",
      "learn_multisplits(): initial loss:    5913.151036359019\n",
      "learn_multisplits(): returning loss:  1503.2988054012185\n",
      "================================\n",
      "learn_multisplits(): initial loss:    15165.029155679089\n",
      "learn_multisplits(): returning loss:  2577.3141473453893\n",
      "================================\n",
      "learn_multisplits(): initial loss:    69865.82861030767\n",
      "learn_multisplits(): returning loss:  2609.560895397846\n",
      "================================\n",
      "learn_multisplits(): initial loss:    1725.6089695325823\n",
      "learn_multisplits(): returning loss:  640.8402161957526\n",
      "================================\n",
      "learn_multisplits(): initial loss:    63151.199985709885\n",
      "learn_multisplits(): returning loss:  3594.5543915743447\n",
      "================================\n",
      "learn_multisplits(): initial loss:    52342.369911537695\n",
      "learn_multisplits(): returning loss:  1947.2915237545967\n",
      "================================\n",
      "learn_multisplits(): initial loss:    6088.247009779429\n",
      "learn_multisplits(): returning loss:  1177.4061340690378\n",
      "================================\n",
      "learn_multisplits(): initial loss:    89825.73617573867\n",
      "learn_multisplits(): returning loss:  3257.1676217627264\n",
      "================================\n",
      "learn_multisplits(): initial loss:    64138.631428169625\n",
      "learn_multisplits(): returning loss:  5314.036523613711\n",
      "================================\n",
      "learn_multisplits(): initial loss:    2355.9468476807833\n",
      "learn_multisplits(): returning loss:  626.0607135735049\n",
      "================================\n",
      "learn_multisplits(): initial loss:    3605.8741024976134\n",
      "learn_multisplits(): returning loss:  653.8193461353624\n",
      "================================\n",
      "learn_multisplits(): initial loss:    4731.338005740294\n",
      "learn_multisplits(): returning loss:  618.376515912887\n",
      "================================\n",
      "learn_multisplits(): initial loss:    2076.0923737939556\n",
      "learn_multisplits(): returning loss:  458.95008160397225\n",
      "================================\n",
      "learn_multisplits(): initial loss:    1350.6688220559618\n",
      "learn_multisplits(): returning loss:  295.2749478675737\n",
      "================================\n",
      "learn_multisplits(): initial loss:    12489.486524798755\n",
      "learn_multisplits(): returning loss:  2185.125312395921\n",
      "================================\n",
      "learn_multisplits(): initial loss:    4258.639826988404\n",
      "learn_multisplits(): returning loss:  1171.4825903402896\n",
      "================================\n",
      "learn_multisplits(): initial loss:    2529.766465891865\n",
      "learn_multisplits(): returning loss:  646.0648652036018\n",
      "================================\n",
      "learn_multisplits(): initial loss:    59862.76206525932\n",
      "learn_multisplits(): returning loss:  1236.7437212795624\n",
      "================================\n",
      "learn_multisplits(): initial loss:    2518.221533405819\n",
      "learn_multisplits(): returning loss:  911.5935435651024\n",
      "================================\n",
      "learn_multisplits(): initial loss:    34723.160207175526\n",
      "learn_multisplits(): returning loss:  1938.7297167013332\n",
      "================================\n",
      "learn_multisplits(): initial loss:    39447.40861644869\n",
      "learn_multisplits(): returning loss:  814.5525773874141\n",
      "================================\n",
      "learn_multisplits(): initial loss:    3055.0326107428964\n",
      "learn_multisplits(): returning loss:  836.128455256762\n",
      "================================\n",
      "learn_multisplits(): initial loss:    65561.04234445776\n",
      "learn_multisplits(): returning loss:  746.4789082901351\n",
      "================================\n",
      "learn_multisplits(): initial loss:    94424.06031661907\n",
      "learn_multisplits(): returning loss:  2828.1352462768555\n"
     ]
    },
    {
     "name": "stderr",
     "output_type": "stream",
     "text": [
      "/data/hdr/pq/bolt/experiments/python/clusterize.py:1902: UserWarning: Persisting input arguments took 1.11s to run.\n",
      "If this happens often in your code, it can cause performance problems \n",
      "(results will be correct in all cases). \n",
      "The reason for this is probably some large input arguments for a wrapped\n",
      " function (e.g. large strings).\n",
      "THIS IS A JOBLIB ISSUE. If you can, kindly provide the joblib's team with an\n",
      " example so that they can fix the problem.\n",
      "  _learn_mithral_initialization(X, ncodebooks, ncentroids=ncentroids, pq_perm_algo='start', **kwargs)\n"
     ]
    },
    {
     "name": "stdout",
     "output_type": "stream",
     "text": [
      "X_res mse / X mse:  0.004300215\n",
      "fitting dense lstsq to X_res\n",
      "  with X_enc:(512000, 32) Y:(512000, 512)\n",
      "fitted dense lstsq with W:(2048, 512)\n",
      "X_res mse / X mse after lstsq:  0.100249365\n"
     ]
    },
    {
     "name": "stderr",
     "output_type": "stream",
     "text": [
      "/data/hdr/pq/bolt/experiments/python/vquantizers.py:628: UserWarning: Persisting input arguments took 1.10s to run.\n",
      "If this happens often in your code, it can cause performance problems \n",
      "(results will be correct in all cases). \n",
      "The reason for this is probably some large input arguments for a wrapped\n",
      " function (e.g. large strings).\n",
      "THIS IS A JOBLIB ISSUE. If you can, kindly provide the joblib's team with an\n",
      " example so that they can fix the problem.\n",
      "  self.splits_lists, self.centroids = clusterize.learn_mithral(\n",
      "/data/hdr/pq/bolt/experiments/python/matmul.py:325: UserWarning: Persisting input arguments took 1.24s to run.\n",
      "If this happens often in your code, it can cause performance problems \n",
      "(results will be correct in all cases). \n",
      "The reason for this is probably some large input arguments for a wrapped\n",
      " function (e.g. large strings).\n",
      "THIS IS A JOBLIB ISSUE. If you can, kindly provide the joblib's team with an\n",
      " example so that they can fix the problem.\n",
      "  est = _fitted_est_for_hparams(\n"
     ]
    }
   ],
   "source": [
    "est3 = mm.estFactory(X_path=linearin_path_train, W_path=weightpath, Y_path=y_train, dir= dir_train, ncodebooks=ncodebooks, ncentroids=ncentroids, methods=[method], nbits=nbits)"
   ]
  },
  {
   "cell_type": "code",
   "execution_count": 15,
   "metadata": {},
   "outputs": [],
   "source": [
    "x_test = np.load(dir_test+'/'+linearin_path_test)\n",
    "w_test = np.load(dir_train+'/'+weightpath)\n",
    "bias = np.load(dir_train+'/'+biaspath)\n",
    "# print(type(est3))\n",
    "y_out_matmul = mm.eval_matmul(est3, x_test, w_test) # MADDNESS乘法的结果\n",
    "# y_out_last = mu.softmax(y_out_matmul + bias.T) # MADDNESS替换后当前层输出，即+bias并激活函数后的结果\n",
    "y_out_last = y_out_matmul + bias.T # MADDNESS替换后当前层输出，即+bias并不需要激活函数后的结果"
   ]
  },
  {
   "cell_type": "code",
   "execution_count": 16,
   "metadata": {},
   "outputs": [
    {
     "name": "stdout",
     "output_type": "stream",
     "text": [
      "[[ 0.63159144  0.09878757  0.35017315 ...  0.61172235 -0.07011855\n",
      "   0.55944514]\n",
      " [ 0.38110223  0.09878757  0.35017315 ...  0.61172235 -0.07011855\n",
      "   0.30895597]\n",
      " [ 0.63159144  0.09878757  0.35017315 ...  0.61172235 -0.07011855\n",
      "   0.55944514]\n",
      " ...\n",
      " [ 0.38110223  0.09878757  0.0996839  ...  0.11074387  0.18037069\n",
      "   0.30895597]\n",
      " [ 0.38110223 -0.15170167  0.35017315 ...  0.11074387 -0.07011855\n",
      "   0.30895597]\n",
      " [ 0.38110223  0.09878757  0.0996839  ...  0.11074387 -0.07011855\n",
      "   0.05846671]]\n",
      "y_out_last.shape:  (1024000, 64)\n",
      "y_out_last_re.shape:  (1000, 32, 32, 64)\n"
     ]
    }
   ],
   "source": [
    "print(y_out_last)\n",
    "print(\"y_out_last.shape: \", y_out_last.shape)\n",
    "y_out_last_re = y_out_last.reshape(test_sam_num, batch_size, -1, y_out_last.shape[-1]) #AMM字典模式需要复原y大小\n",
    "print(\"y_out_last_re.shape: \", y_out_last_re.shape)\n",
    "if method == METHOD_EXACT:\n",
    "    train_sam_num = 0 # 训练集样本数\n",
    "if method == METHOD_SCALAR_QUANTIZE:\n",
    "    np.save(os.path.join(dir_result, '%s%s_trsam%i_tesam%i_fb%i_nbits%i.npy' % (method, linear_name, train_sam_num, test_sam_num, feedback_bits, nbits)), y_out_last_re.astype(np.float32))\n",
    "else:\n",
    "    np.save(os.path.join(dir_result, '%s%s_trsam%i_tesam%i_fb%i_cb%i_ct%i.npy' % (method, linear_name, train_sam_num, test_sam_num, feedback_bits, ncodebooks, ncentroids)), y_out_last_re)"
   ]
  },
  {
   "cell_type": "code",
   "execution_count": null,
   "metadata": {},
   "outputs": [],
   "source": []
  }
 ],
 "metadata": {
  "kernelspec": {
   "display_name": "Python 3.8.13 ('pqhdr')",
   "language": "python",
   "name": "python3"
  },
  "language_info": {
   "codemirror_mode": {
    "name": "ipython",
    "version": 3
   },
   "file_extension": ".py",
   "mimetype": "text/x-python",
   "name": "python",
   "nbconvert_exporter": "python",
   "pygments_lexer": "ipython3",
   "version": "3.8.13"
  },
  "orig_nbformat": 4,
  "vscode": {
   "interpreter": {
    "hash": "ec04f7dc2b3ae4a422de9aaf96e8c62fe190a2869a08d14112cb2d7713497448"
   }
  }
 },
 "nbformat": 4,
 "nbformat_minor": 2
}
