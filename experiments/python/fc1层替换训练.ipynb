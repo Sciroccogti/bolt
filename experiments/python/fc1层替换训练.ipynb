{
 "cells": [
  {
   "cell_type": "code",
   "execution_count": 36,
   "metadata": {},
   "outputs": [],
   "source": [
    "import numpy as np\n",
    "import os\n",
    "import matmul as mm\n",
    "import math_util as mu\n",
    "import scipy.io as io\n",
    "from amm_methods import *\n",
    "import socket # Obtain the current host name, which can be used to select different data directories and result saving directories"
   ]
  },
  {
   "cell_type": "code",
   "execution_count": 37,
   "metadata": {},
   "outputs": [],
   "source": [
    "# method = METHOD_MITHRAL\n",
    "method = METHOD_PQ\n",
    "# method = METHOD_EXACT"
   ]
  },
  {
   "cell_type": "code",
   "execution_count": 38,
   "metadata": {},
   "outputs": [],
   "source": [
    "feedback_bits = 256\n",
    "ncodebooks=32\n",
    "ncentroids=2048\n",
    "train_sam_num = 3000 # 训练集样本数"
   ]
  },
  {
   "cell_type": "code",
   "execution_count": 39,
   "metadata": {},
   "outputs": [],
   "source": [
    "host_name = socket.gethostname()\n",
    "if host_name == 'DESKTOP-PLRL7TK':\n",
    "    dir_train = 'E:\\\\hdr\\\\研一\\\\华为-深度学习\\\\intermediate\\\\intermediate8dbfc1'\n",
    "    dir_result = ''\n",
    "elif host_name == 'DESKTOP-6FOH47P':\n",
    "    dir_train = 'F:\\\\Projects\\\\python\\\\PQ\\\\intermediate8dbfc1'\n",
    "    dir_result = 'F:\\\\Projects\\\\python\\\\PQ\\\\res'\n",
    "    data_to_fcpath_train= 'data_to_fc_e39_7999.npy'\n",
    "    featurepath_train= 'feature_e39_7999.npy'\n",
    "    data_to_fcpath_test = 'data_to_fc_e39_7999.npy'\n",
    "    featurepath_test = 'feature_e39_7999.npy'\n",
    "elif host_name == 'jm-System-Product-Name':\n",
    "    dir_train = '/data/hdr/transformer_data/joined'\n",
    "    dir_result = '/data/hdr/pq/res'\n",
    "    data_to_fcpath_train= 'data_to_fc_train_f%i_sam%i.npy' % (feedback_bits, train_sam_num)\n",
    "    y_train = 'y_train_f%i_sam%i.npy' % (feedback_bits, train_sam_num)\n",
    "    featurepath_train= 'feature_train_f%i_sam%i.npy' % (feedback_bits, train_sam_num)\n",
    "    data_to_fcpath_test = 'data_to_fc_test.npy'\n",
    "    featurepath_test = 'feature_test.npy'\n",
    "    y_test = 'y_test.npy'\n",
    "else:\n",
    "    raise NameError(\"You are running the script in a new computer, please define dir_train\")\n",
    "\n",
    "\n",
    "weightpath = 'encoder_fcw.npy'\n",
    "biaspath = 'encoder_fcb.npy'\n",
    "\n"
   ]
  },
  {
   "cell_type": "code",
   "execution_count": 40,
   "metadata": {},
   "outputs": [
    {
     "name": "stdout",
     "output_type": "stream",
     "text": [
      "==============================\n",
      "running method:  PQ\n",
      "running kmeans in subspace 1/32... mse / {var(X_subs), var(X)}: 0.123, 0.00154\n",
      "running kmeans in subspace 2/32... mse / {var(X_subs), var(X)}: 0.121, 0.00934\n",
      "running kmeans in subspace 3/32... mse / {var(X_subs), var(X)}: 0.131, 0.00267\n",
      "running kmeans in subspace 4/32... mse / {var(X_subs), var(X)}: 0.149, 0.0153\n",
      "running kmeans in subspace 5/32... mse / {var(X_subs), var(X)}: 0.161, 0.00255\n",
      "running kmeans in subspace 6/32... mse / {var(X_subs), var(X)}: 0.199, 0.017\n",
      "running kmeans in subspace 7/32... mse / {var(X_subs), var(X)}: 0.157, 0.00288\n",
      "running kmeans in subspace 8/32... mse / {var(X_subs), var(X)}: 0.192, 0.0184\n",
      "running kmeans in subspace 9/32... mse / {var(X_subs), var(X)}: 0.135, 0.00151\n",
      "running kmeans in subspace 10/32... mse / {var(X_subs), var(X)}: 0.123, 0.00926\n",
      "running kmeans in subspace 11/32... mse / {var(X_subs), var(X)}: 0.134, 0.00269\n",
      "running kmeans in subspace 12/32... mse / {var(X_subs), var(X)}: 0.147, 0.015\n",
      "running kmeans in subspace 13/32... mse / {var(X_subs), var(X)}: 0.167, 0.0025\n",
      "running kmeans in subspace 14/32... mse / {var(X_subs), var(X)}: 0.197, 0.017\n",
      "running kmeans in subspace 15/32... mse / {var(X_subs), var(X)}: 0.161, 0.00274\n",
      "running kmeans in subspace 16/32... mse / {var(X_subs), var(X)}: 0.191, 0.0184\n",
      "running kmeans in subspace 17/32... mse / {var(X_subs), var(X)}: 0.13, 0.0508\n",
      "running kmeans in subspace 18/32... mse / {var(X_subs), var(X)}: 0.0985, 0.313\n",
      "running kmeans in subspace 19/32... mse / {var(X_subs), var(X)}: 0.115, 0.0737\n",
      "running kmeans in subspace 20/32... mse / {var(X_subs), var(X)}: 0.126, 0.508\n",
      "running kmeans in subspace 21/32... mse / {var(X_subs), var(X)}: 0.15, 0.0703\n",
      "running kmeans in subspace 22/32... mse / {var(X_subs), var(X)}: 0.18, 0.528\n",
      "running kmeans in subspace 23/32... mse / {var(X_subs), var(X)}: 0.143, 0.0807\n",
      "running kmeans in subspace 24/32... mse / {var(X_subs), var(X)}: 0.17, 0.582\n",
      "running kmeans in subspace 25/32... mse / {var(X_subs), var(X)}: 0.11, 0.0389\n",
      "running kmeans in subspace 26/32... mse / {var(X_subs), var(X)}: 0.124, 0.387\n",
      "running kmeans in subspace 27/32... mse / {var(X_subs), var(X)}: 0.118, 0.076\n",
      "running kmeans in subspace 28/32... mse / {var(X_subs), var(X)}: 0.123, 0.504\n",
      "running kmeans in subspace 29/32... mse / {var(X_subs), var(X)}: 0.153, 0.0686\n",
      "running kmeans in subspace 30/32... mse / {var(X_subs), var(X)}: 0.178, 0.525\n",
      "running kmeans in subspace 31/32... mse / {var(X_subs), var(X)}: 0.148, 0.0755\n",
      "running kmeans in subspace 32/32... mse / {var(X_subs), var(X)}: 0.17, 0.577\n",
      "--- total mse / var(X): 0.144\n",
      "learning quantization...\n"
     ]
    }
   ],
   "source": [
    "est3 = mm.estFactory(X_path=data_to_fcpath_train, W_path=weightpath, Y_path=y_train, dir= dir_train, ncodebooks=ncodebooks, ncentroids=ncentroids, methods=[method])\n"
   ]
  },
  {
   "cell_type": "code",
   "execution_count": 41,
   "metadata": {},
   "outputs": [],
   "source": [
    "x_test = np.load(dir_train+'/'+data_to_fcpath_test)\n",
    "w_test = np.load(dir_train+'/'+weightpath)\n",
    "bias = np.load(dir_train+'/'+biaspath)\n",
    "# print(type(est3))\n",
    "y_out_matmul = mm.eval_matmul(est3, x_test, w_test) # MADDNESS乘法的结果\n",
    "# y_out_last = mu.softmax(y_out_matmul + bias.T) # MADDNESS替换后当前层输出，即+bias并激活函数后的结果\n",
    "y_out_last = y_out_matmul + bias.T # MADDNESS替换后当前层输出，即+bias并不需要激活函数后的结果"
   ]
  },
  {
   "cell_type": "code",
   "execution_count": 42,
   "metadata": {},
   "outputs": [
    {
     "name": "stdout",
     "output_type": "stream",
     "text": [
      "[[-0.08786726 -0.17161494 -0.4597496  ... -0.24521011  0.02531986\n",
      "  -0.14386548]\n",
      " [-0.25566763 -0.13506436 -0.3135473  ... -0.38642824  0.00538318\n",
      "  -0.10897629]\n",
      " [ 0.16964817 -0.06860878 -0.11251915 ... -0.40138075  0.12001908\n",
      "   0.11697274]\n",
      " ...\n",
      " [ 0.2145057   0.05267269 -0.50128436 ...  0.00399838 -0.11755967\n",
      "   0.06380826]\n",
      " [ 0.22447404  0.12577385 -0.3318226  ...  0.15352347  0.0668546\n",
      "  -0.12060602]\n",
      " [-0.39024022  0.21715029 -0.43981293 ... -0.46783635 -0.0145535\n",
      "   0.16681443]]\n",
      "(32000, 256)\n"
     ]
    }
   ],
   "source": [
    "print(y_out_last)\n",
    "print(y_out_last.shape)\n",
    "# np.save(\"LDPC_decoder_NET_testdata/\" + snr + \"nomul_matmul_yout_matmul\", y_out_matmul)\n",
    "# np.save(dir_result+'/'+method+'fc1_fb256_cb%i_ct%i.npy' % (ncodebooks, ncentroids), y_out_matmul)\n",
    "np.save(dir_result+'/'+method+'fc1_fb%i_cb%i_ct%i.npy' % (feedback_bits, ncodebooks, ncentroids), y_out_last)\n",
    "# io.savemat(dir_result+'\\\\fc1_256.mat', {\"NN_output_buffer\": y_out_last})"
   ]
  },
  {
   "cell_type": "code",
   "execution_count": null,
   "metadata": {},
   "outputs": [],
   "source": []
  }
 ],
 "metadata": {
  "kernelspec": {
   "display_name": "Python 3.8.13 ('pqhdr')",
   "language": "python",
   "name": "python3"
  },
  "language_info": {
   "codemirror_mode": {
    "name": "ipython",
    "version": 3
   },
   "file_extension": ".py",
   "mimetype": "text/x-python",
   "name": "python",
   "nbconvert_exporter": "python",
   "pygments_lexer": "ipython3",
   "version": "3.8.13"
  },
  "orig_nbformat": 4,
  "vscode": {
   "interpreter": {
    "hash": "ec04f7dc2b3ae4a422de9aaf96e8c62fe190a2869a08d14112cb2d7713497448"
   }
  }
 },
 "nbformat": 4,
 "nbformat_minor": 2
}
