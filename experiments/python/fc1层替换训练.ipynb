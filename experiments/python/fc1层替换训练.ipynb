{
 "cells": [
  {
   "cell_type": "code",
   "execution_count": 9,
   "metadata": {},
   "outputs": [],
   "source": [
    "import numpy as np\n",
    "import os\n",
    "import matmul as mm\n",
    "import math_util as mu\n",
    "import scipy.io as io\n",
    "from amm_methods import *"
   ]
  },
  {
   "cell_type": "code",
   "execution_count": 10,
   "metadata": {},
   "outputs": [],
   "source": [
    "method = METHOD_MITHRAL"
   ]
  },
  {
   "cell_type": "code",
   "execution_count": 11,
   "metadata": {},
   "outputs": [],
   "source": [
    "dir_train = 'E:\\\\hdr\\\\研一\\\\华为-深度学习\\\\intermediate\\\\intermediate8dbfc1'\n",
    "data_to_fcpath_train= 'data_to_fc_e39_7999.npy'\n",
    "featurepath_train= 'feature_e39_7999.npy'\n",
    "data_to_fcpath_test = 'data_to_fc_e0_7999.npy'\n",
    "featurepath_test = 'feature_e0_7999.npy'\n",
    "weightpath = 'encoder_fcw.npy'\n",
    "\n"
   ]
  },
  {
   "cell_type": "code",
   "execution_count": 12,
   "metadata": {},
   "outputs": [
    {
     "name": "stdout",
     "output_type": "stream",
     "text": [
      "==============================\n",
      "running method:  Mithral\n"
     ]
    }
   ],
   "source": [
    "est3 = mm.estFactory(X_path=data_to_fcpath_train, W_path=weightpath, Y_path=featurepath_train, dir= dir_train, methods=[method])\n",
    "x_test = np.load(dir_train+'\\\\'+data_to_fcpath_test)\n",
    "w_test = np.load(dir_train+'\\\\'+weightpath)\n",
    "bias = np.load('E:\\\\hdr\\\\研一\\\\华为-深度学习\\\\intermediate\\\\encoder_fcb.npy')\n",
    "# print(type(est3))\n",
    "y_out_matmul = mm.eval_matmul(est3, x_test, w_test) # MADDNESS乘法的结果\n",
    "y_out_last = mu.softmax(y_out_matmul + bias.T) # MADDNESS替换后当前层输出，即+bias并激活函数后的结果\n",
    "\n",
    "# np.save(\"LDPC_decoder_NET_testdata/\" + snr + \"nomul_matmul_yout_matmul\", y_out_matmul)\n",
    "# np.save(\"LDPC_decoder_NET_testdata/\" + snr + \"nomul_matmul_yout_last\", y_out_last)\n",
    "\n",
    "io.savemat('E:\\\\hdr\\\\研一\\\\华为-深度学习\\\\intermediate\\\\fc1_256.mat', {\"NN_output_buffer\": y_out_last})"
   ]
  }
 ],
 "metadata": {
  "kernelspec": {
   "display_name": "Python 3.8.13 ('PQ')",
   "language": "python",
   "name": "python3"
  },
  "language_info": {
   "codemirror_mode": {
    "name": "ipython",
    "version": 3
   },
   "file_extension": ".py",
   "mimetype": "text/x-python",
   "name": "python",
   "nbconvert_exporter": "python",
   "pygments_lexer": "ipython3",
   "version": "3.8.13"
  },
  "orig_nbformat": 4,
  "vscode": {
   "interpreter": {
    "hash": "9b4b0463fbd4fb37ab8da7acaa6f8646d32ffed54f9f2f3ef4d077d151a736e3"
   }
  }
 },
 "nbformat": 4,
 "nbformat_minor": 2
}
