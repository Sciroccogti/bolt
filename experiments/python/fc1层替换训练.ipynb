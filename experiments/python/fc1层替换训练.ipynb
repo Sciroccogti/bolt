{
 "cells": [
  {
   "cell_type": "code",
   "execution_count": 15,
   "metadata": {},
   "outputs": [],
   "source": [
    "import numpy as np\n",
    "import os\n",
    "import matmul as mm\n",
    "import math_util as mu\n",
    "import scipy.io as io\n",
    "from amm_methods import *\n",
    "import socket # Obtain the current host name, which can be used to select different data directories and result saving directories"
   ]
  },
  {
   "cell_type": "code",
   "execution_count": 16,
   "metadata": {},
   "outputs": [],
   "source": [
    "# method = METHOD_MITHRAL\n",
    "method = METHOD_PQ\n",
    "# method = METHOD_EXACT"
   ]
  },
  {
   "cell_type": "code",
   "execution_count": 17,
   "metadata": {},
   "outputs": [],
   "source": [
    "feedback_bits = 256\n",
    "ncodebooks=64\n",
    "ncentroids=8192*2\n",
    "train_sam_num = 3000 # 训练集样本数"
   ]
  },
  {
   "cell_type": "code",
   "execution_count": 18,
   "metadata": {},
   "outputs": [],
   "source": [
    "host_name = socket.gethostname()\n",
    "if host_name == 'DESKTOP-PLRL7TK':\n",
    "    dir_train = 'E:\\\\hdr\\\\研一\\\\华为-深度学习\\\\intermediate\\\\intermediate8dbfc1'\n",
    "    dir_result = ''\n",
    "elif host_name == 'DESKTOP-6FOH47P':\n",
    "    dir_train = 'F:\\\\Projects\\\\python\\\\PQ\\\\intermediate8dbfc1'\n",
    "    dir_result = 'F:\\\\Projects\\\\python\\\\PQ\\\\res'\n",
    "    data_to_fcpath_train= 'data_to_fc_e39_7999.npy'\n",
    "    featurepath_train= 'feature_e39_7999.npy'\n",
    "    data_to_fcpath_test = 'data_to_fc_e39_7999.npy'\n",
    "    featurepath_test = 'feature_e39_7999.npy'\n",
    "elif host_name == 'jm-System-Product-Name':\n",
    "    dir_train = '/data/hdr/transformer_data/joined'\n",
    "    dir_result = '/data/hdr/pq/res'\n",
    "    data_to_fcpath_train= 'data_to_fc_train_f%i_sam%i.npy' % (feedback_bits, train_sam_num)\n",
    "    y_train = 'y_train_f%i_sam%i.npy' % (feedback_bits, train_sam_num)\n",
    "    featurepath_train= 'feature_train_f%i_sam%i.npy' % (feedback_bits, train_sam_num)\n",
    "    data_to_fcpath_test = 'data_to_fc_test.npy'\n",
    "    featurepath_test = 'feature_test.npy'\n",
    "    y_test = 'y_test.npy'\n",
    "else:\n",
    "    raise NameError(\"You are running the script in a new computer, please define dir_train\")\n",
    "\n",
    "\n",
    "weightpath = 'encoder_fcw.npy'\n",
    "biaspath = 'encoder_fcb.npy'\n",
    "\n"
   ]
  },
  {
   "cell_type": "code",
   "execution_count": 19,
   "metadata": {},
   "outputs": [
    {
     "name": "stdout",
     "output_type": "stream",
     "text": [
      "==============================\n",
      "running method:  PQ\n",
      "running kmeans in subspace 1/64... mse / {var(X_subs), var(X)}: 0.0437, 0.000919\n",
      "running kmeans in subspace 2/64... mse / {var(X_subs), var(X)}: 0.0543, 0.000212\n",
      "running kmeans in subspace 3/64... mse / {var(X_subs), var(X)}: 0.0301, 0.00128\n",
      "running kmeans in subspace 4/64... mse / {var(X_subs), var(X)}: 0.027, 0.00302\n",
      "running kmeans in subspace 5/64... mse / {var(X_subs), var(X)}: 0.0386, 0.00137\n",
      "running kmeans in subspace 6/64... mse / {var(X_subs), var(X)}: 0.0626, 0.000335\n",
      "running kmeans in subspace 7/64... mse / {var(X_subs), var(X)}: 0.0386, 0.00262\n",
      "running kmeans in subspace 8/64... mse / {var(X_subs), var(X)}: 0.0322, 0.00444\n",
      "running kmeans in subspace 9/64... mse / {var(X_subs), var(X)}: 0.0514, 0.00136\n",
      "running kmeans in subspace 10/64... mse / {var(X_subs), var(X)}: 0.107, 0.000561\n",
      "running kmeans in subspace 11/64... mse / {var(X_subs), var(X)}: 0.0536, 0.00328\n",
      "running kmeans in subspace 12/64... mse / {var(X_subs), var(X)}: 0.0461, 0.00503\n",
      "running kmeans in subspace 13/64... mse / {var(X_subs), var(X)}: 0.0499, 0.00152\n",
      "running kmeans in subspace 14/64... mse / {var(X_subs), var(X)}: 0.0939, 0.000575\n",
      "running kmeans in subspace 15/64... mse / {var(X_subs), var(X)}: 0.044, 0.00304\n",
      "running kmeans in subspace 16/64... mse / {var(X_subs), var(X)}: 0.044, 0.00539\n",
      "running kmeans in subspace 17/64... mse / {var(X_subs), var(X)}: 0.0434, 0.000856\n",
      "running kmeans in subspace 18/64... mse / {var(X_subs), var(X)}: 0.122, 0.000324\n",
      "running kmeans in subspace 19/64... mse / {var(X_subs), var(X)}: 0.0312, 0.00127\n",
      "running kmeans in subspace 20/64... mse / {var(X_subs), var(X)}: 0.0254, 0.0028\n",
      "running kmeans in subspace 21/64... mse / {var(X_subs), var(X)}: 0.0434, 0.00151\n",
      "running kmeans in subspace 22/64... mse / {var(X_subs), var(X)}: 0.096, 0.000522\n",
      "running kmeans in subspace 23/64... mse / {var(X_subs), var(X)}: 0.0352, 0.00235\n",
      "running kmeans in subspace 24/64... mse / {var(X_subs), var(X)}: 0.0302, 0.00415\n",
      "running kmeans in subspace 25/64... mse / {var(X_subs), var(X)}: 0.0309, 0.000793\n",
      "running kmeans in subspace 26/64... mse / {var(X_subs), var(X)}: 0.0746, 0.000329\n",
      "running kmeans in subspace 27/64... mse / {var(X_subs), var(X)}: 0.0569, 0.00348\n",
      "running kmeans in subspace 28/64... mse / {var(X_subs), var(X)}: 0.0459, 0.0051\n",
      "running kmeans in subspace 29/64... mse / {var(X_subs), var(X)}: 0.0554, 0.0016\n",
      "running kmeans in subspace 30/64... mse / {var(X_subs), var(X)}: 0.0717, 0.000358\n",
      "running kmeans in subspace 31/64... mse / {var(X_subs), var(X)}: 0.0445, 0.00309\n",
      "running kmeans in subspace 32/64... mse / {var(X_subs), var(X)}: 0.0457, 0.00562\n",
      "running kmeans in subspace 33/64... mse / {var(X_subs), var(X)}: 0.0226, 0.0149\n",
      "running kmeans in subspace 34/64... mse / {var(X_subs), var(X)}: 0.0237, 0.00296\n",
      "running kmeans in subspace 35/64... mse / {var(X_subs), var(X)}: 0.0212, 0.0299\n",
      "running kmeans in subspace 36/64... mse / {var(X_subs), var(X)}: 0.0211, 0.105\n",
      "running kmeans in subspace 37/64... mse / {var(X_subs), var(X)}: 0.0302, 0.0339\n",
      "running kmeans in subspace 38/64... mse / {var(X_subs), var(X)}: 0.0279, 0.00446\n",
      "running kmeans in subspace 39/64... mse / {var(X_subs), var(X)}: 0.0309, 0.0701\n",
      "running kmeans in subspace 40/64... mse / {var(X_subs), var(X)}: 0.0253, 0.147\n",
      "running kmeans in subspace 41/64... mse / {var(X_subs), var(X)}: 0.0378, 0.0287\n",
      "running kmeans in subspace 42/64... mse / {var(X_subs), var(X)}: 0.044, 0.00775\n",
      "running kmeans in subspace 43/64... mse / {var(X_subs), var(X)}: 0.0515, 0.0949\n",
      "running kmeans in subspace 44/64... mse / {var(X_subs), var(X)}: 0.0394, 0.159\n",
      "running kmeans in subspace 45/64... mse / {var(X_subs), var(X)}: 0.0332, 0.0304\n",
      "running kmeans in subspace 46/64... mse / {var(X_subs), var(X)}: 0.0449, 0.00949\n",
      "running kmeans in subspace 47/64... mse / {var(X_subs), var(X)}: 0.0466, 0.0989\n",
      "running kmeans in subspace 48/64... mse / {var(X_subs), var(X)}: 0.0365, 0.172\n",
      "running kmeans in subspace 49/64... mse / {var(X_subs), var(X)}: 0.022, 0.0139\n",
      "running kmeans in subspace 50/64... mse / {var(X_subs), var(X)}: 0.043, 0.00338\n",
      "running kmeans in subspace 51/64... mse / {var(X_subs), var(X)}: 0.0269, 0.0362\n",
      "running kmeans in subspace 52/64... mse / {var(X_subs), var(X)}: 0.0201, 0.0983\n",
      "running kmeans in subspace 53/64... mse / {var(X_subs), var(X)}: 0.026, 0.029\n",
      "running kmeans in subspace 54/64... mse / {var(X_subs), var(X)}: 0.0478, 0.0081\n",
      "running kmeans in subspace 55/64... mse / {var(X_subs), var(X)}: 0.0293, 0.0664\n",
      "running kmeans in subspace 56/64... mse / {var(X_subs), var(X)}: 0.027, 0.16\n",
      "running kmeans in subspace 57/64... mse / {var(X_subs), var(X)}: 0.0323, 0.0243\n",
      "running kmeans in subspace 58/64... mse / {var(X_subs), var(X)}: 0.0553, 0.00803\n",
      "running kmeans in subspace 59/64... mse / {var(X_subs), var(X)}: 0.0461, 0.0848\n",
      "running kmeans in subspace 60/64... mse / {var(X_subs), var(X)}: 0.0412, 0.168\n",
      "running kmeans in subspace 61/64... mse / {var(X_subs), var(X)}: 0.0352, 0.0303\n",
      "running kmeans in subspace 62/64... mse / {var(X_subs), var(X)}: 0.0476, 0.0076\n",
      "running kmeans in subspace 63/64... mse / {var(X_subs), var(X)}: 0.0438, 0.093\n",
      "running kmeans in subspace 64/64... mse / {var(X_subs), var(X)}: 0.0369, 0.171\n",
      "--- total mse / var(X): 0.0325\n",
      "learning quantization...\n"
     ]
    }
   ],
   "source": [
    "est3 = mm.estFactory(X_path=data_to_fcpath_train, W_path=weightpath, Y_path=y_train, dir= dir_train, ncodebooks=ncodebooks, ncentroids=ncentroids, methods=[method])\n"
   ]
  },
  {
   "cell_type": "code",
   "execution_count": 20,
   "metadata": {},
   "outputs": [],
   "source": [
    "x_test = np.load(dir_train+'/'+data_to_fcpath_test)\n",
    "w_test = np.load(dir_train+'/'+weightpath)\n",
    "bias = np.load(dir_train+'/'+biaspath)\n",
    "# print(type(est3))\n",
    "y_out_matmul = mm.eval_matmul(est3, x_test, w_test) # MADDNESS乘法的结果\n",
    "# y_out_last = mu.softmax(y_out_matmul + bias.T) # MADDNESS替换后当前层输出，即+bias并激活函数后的结果\n",
    "y_out_last = y_out_matmul + bias.T # MADDNESS替换后当前层输出，即+bias并不需要激活函数后的结果"
   ]
  },
  {
   "cell_type": "code",
   "execution_count": 21,
   "metadata": {},
   "outputs": [
    {
     "name": "stdout",
     "output_type": "stream",
     "text": [
      "[[-0.03244272 -0.03679594 -0.60117894 ... -0.11950145  0.05724733\n",
      "  -0.07599946]\n",
      " [-0.2888089  -0.17276917 -0.33206522 ... -0.42260846 -0.0334015\n",
      "  -0.13690414]\n",
      " [ 0.27916265 -0.08636951 -0.33914715 ... -0.4877623   0.15922727\n",
      "   0.05997378]\n",
      " ...\n",
      " [ 0.23950377  0.12183951 -0.46803847 ... -0.20590112 -0.24585968\n",
      "  -0.12415665]\n",
      " [ 0.20267767  0.01985958 -0.22017059 ... -0.01185597 -0.01782123\n",
      "   0.00615104]\n",
      " [-0.3284678   0.08359703 -0.4397107  ... -0.31496298 -0.11413561\n",
      "   0.13504234]]\n",
      "(32000, 256)\n"
     ]
    }
   ],
   "source": [
    "print(y_out_last)\n",
    "print(y_out_last.shape)\n",
    "# np.save(\"LDPC_decoder_NET_testdata/\" + snr + \"nomul_matmul_yout_matmul\", y_out_matmul)\n",
    "# np.save(dir_result+'/'+method+'fc1_fb256_cb%i_ct%i.npy' % (ncodebooks, ncentroids), y_out_matmul)\n",
    "np.save(dir_result+'/'+method+'fc1_fb%i_cb%i_ct%i.npy' % (feedback_bits, ncodebooks, ncentroids), y_out_last)\n",
    "# io.savemat(dir_result+'\\\\fc1_256.mat', {\"NN_output_buffer\": y_out_last})"
   ]
  },
  {
   "cell_type": "code",
   "execution_count": null,
   "metadata": {},
   "outputs": [],
   "source": []
  }
 ],
 "metadata": {
  "kernelspec": {
   "display_name": "Python 3.8.13 ('pqhdr')",
   "language": "python",
   "name": "python3"
  },
  "language_info": {
   "codemirror_mode": {
    "name": "ipython",
    "version": 3
   },
   "file_extension": ".py",
   "mimetype": "text/x-python",
   "name": "python",
   "nbconvert_exporter": "python",
   "pygments_lexer": "ipython3",
   "version": "3.8.13"
  },
  "orig_nbformat": 4,
  "vscode": {
   "interpreter": {
    "hash": "ec04f7dc2b3ae4a422de9aaf96e8c62fe190a2869a08d14112cb2d7713497448"
   }
  }
 },
 "nbformat": 4,
 "nbformat_minor": 2
}
