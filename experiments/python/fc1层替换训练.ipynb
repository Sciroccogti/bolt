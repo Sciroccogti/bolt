{
 "cells": [
  {
   "cell_type": "code",
   "execution_count": 1,
   "metadata": {},
   "outputs": [],
   "source": [
    "import numpy as np\n",
    "import os\n",
    "import matmul as mm\n",
    "import math_util as mu\n",
    "import scipy.io as io\n",
    "from amm_methods import *\n",
    "import socket # Obtain the current host name, which can be used to select different data directories and result saving directories"
   ]
  },
  {
   "cell_type": "code",
   "execution_count": 2,
   "metadata": {},
   "outputs": [],
   "source": [
    "method = METHOD_MITHRAL"
   ]
  },
  {
   "cell_type": "code",
   "execution_count": 3,
   "metadata": {},
   "outputs": [],
   "source": [
    "host_name = socket.gethostname()\n",
    "if host_name == 'DESKTOP-PLRL7TK':\n",
    "    dir_train = 'E:\\\\hdr\\\\研一\\\\华为-深度学习\\\\intermediate\\\\intermediate8dbfc1'\n",
    "    dir_result = ''\n",
    "elif host_name == 'DESKTOP-6FOH47P':\n",
    "    dir_train = 'F:\\\\Projects\\\\python\\\\PQ\\\\intermediate8dbfc1'\n",
    "    dir_result = 'F:\\\\Projects\\\\python\\\\PQ\\\\res'\n",
    "elif host_name == 'jm-System-Product-Name':\n",
    "    dir_train = ''\n",
    "    dir_result = ''\n",
    "else:\n",
    "    raise NameError(\"You are running the script in a new computer, please define dir_train\")\n",
    "\n",
    "data_to_fcpath_train= 'data_to_fc_e39_7999.npy'\n",
    "featurepath_train= 'feature_e39_7999.npy'\n",
    "data_to_fcpath_test = 'data_to_fc_e39_7999.npy'\n",
    "featurepath_test = 'feature_e39_7999.npy'\n",
    "weightpath = 'encoder_fcw.npy'\n",
    "biaspath = 'encoder_fcb.npy'\n",
    "\n"
   ]
  },
  {
   "cell_type": "code",
   "execution_count": 4,
   "metadata": {},
   "outputs": [
    {
     "name": "stdout",
     "output_type": "stream",
     "text": [
      "==============================\n",
      "running method:  Mithral\n"
     ]
    }
   ],
   "source": [
    "est3 = mm.estFactory(X_path=data_to_fcpath_train, W_path=weightpath, Y_path=featurepath_train, dir= dir_train, methods=[method])\n",
    "x_test = np.load(dir_train+'\\\\'+data_to_fcpath_test)\n",
    "w_test = np.load(dir_train+'\\\\'+weightpath)\n",
    "bias = np.load(dir_train+'\\\\'+biaspath)\n",
    "# print(type(est3))\n",
    "y_out_matmul = mm.eval_matmul(est3, x_test, w_test) # MADDNESS乘法的结果\n",
    "y_out_last = mu.softmax(y_out_matmul + bias.T) # MADDNESS替换后当前层输出，即+bias并激活函数后的结果\n"
   ]
  },
  {
   "cell_type": "code",
   "execution_count": 6,
   "metadata": {},
   "outputs": [
    {
     "name": "stdout",
     "output_type": "stream",
     "text": [
      "[[0.0034292  0.0022956  0.00382373 ... 0.00360621 0.00322708 0.00396036]\n",
      " [0.00573344 0.0033863  0.00363866 ... 0.0044085  0.00307089 0.00427151]\n",
      " [0.00432929 0.00396371 0.00331537 ... 0.00275869 0.00433741 0.00469637]\n",
      " ...\n",
      " [0.00497866 0.00402166 0.00245953 ... 0.0033775  0.00302241 0.00288731]\n",
      " [0.0046925  0.0037905  0.00317049 ... 0.00435381 0.00389608 0.00396245]\n",
      " [0.00299776 0.00482227 0.00244404 ... 0.00278139 0.0036241  0.0044476 ]]\n",
      "(32, 256)\n"
     ]
    }
   ],
   "source": [
    "print(y_out_last)\n",
    "print(y_out_last.shape)\n",
    "# np.save(\"LDPC_decoder_NET_testdata/\" + snr + \"nomul_matmul_yout_matmul\", y_out_matmul)\n",
    "np.save(dir_result+'\\\\fc1_256.npy', y_out_matmul)\n",
    "\n",
    "io.savemat(dir_result+'\\\\fc1_256.mat', {\"NN_output_buffer\": y_out_last})"
   ]
  }
 ],
 "metadata": {
  "kernelspec": {
   "display_name": "Python 3.8.13 ('PQ')",
   "language": "python",
   "name": "python3"
  },
  "language_info": {
   "codemirror_mode": {
    "name": "ipython",
    "version": 3
   },
   "file_extension": ".py",
   "mimetype": "text/x-python",
   "name": "python",
   "nbconvert_exporter": "python",
   "pygments_lexer": "ipython3",
   "version": "3.8.13"
  },
  "orig_nbformat": 4,
  "vscode": {
   "interpreter": {
    "hash": "c58ec5320688f90a968f6b915ced038d1b61d036794cbc96752cb7f08b73ac5a"
   }
  }
 },
 "nbformat": 4,
 "nbformat_minor": 2
}
