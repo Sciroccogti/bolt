{
 "cells": [
  {
   "cell_type": "markdown",
   "metadata": {},
   "source": [
    "decoder transformer层的linear2层（dtl2）替换为近似矩阵乘法, 32\\*32\\*128, 128\\*64, 32\\*32\\*64"
   ]
  },
  {
   "cell_type": "code",
   "execution_count": 7,
   "metadata": {},
   "outputs": [],
   "source": [
    "import numpy as np\n",
    "import os\n",
    "import matmul as mm\n",
    "import math_util as mu\n",
    "# import scipy.io as io\n",
    "from amm_methods import *\n",
    "import socket # Obtain the current host name, which can be used to select different data directories and result saving directories"
   ]
  },
  {
   "cell_type": "code",
   "execution_count": 8,
   "metadata": {},
   "outputs": [],
   "source": [
    "# root_path = '/data/hdr/csi_transformer/pic/'\n",
    "# print(root_path)\n",
    "# root_path2 = '/'.join(root_path.split(\"/\")[:-2])\n",
    "# # sys.path.append(root_path)\n",
    "# print(root_path2)"
   ]
  },
  {
   "cell_type": "code",
   "execution_count": 9,
   "metadata": {},
   "outputs": [],
   "source": [
    "# method = METHOD_MITHRAL\n",
    "# method = METHOD_PQ\n",
    "method = METHOD_EXACT\n",
    "# method = METHOD_SCALAR_QUANTIZE"
   ]
  },
  {
   "cell_type": "code",
   "execution_count": 10,
   "metadata": {},
   "outputs": [],
   "source": [
    "linear_name = 'dtl2'\n",
    "feedback_bits = 256\n",
    "ncodebooks = 16  # max:128\n",
    "ncentroids = 256\n",
    "if method == METHOD_MITHRAL:\n",
    "    ncentroids = 16\n",
    "train_sam_num = 3000 # 训练集样本数\n",
    "test_sam_num = 1000 # 测试集样本数\n",
    "batch_size = 32\n",
    "if method == METHOD_EXACT:\n",
    "    ncodebooks = 0\n",
    "    ncentroids = 0"
   ]
  },
  {
   "cell_type": "code",
   "execution_count": 11,
   "metadata": {},
   "outputs": [],
   "source": [
    "host_name = socket.gethostname()\n",
    "if host_name == 'DESKTOP-PLRL7TK':\n",
    "    dir_train = 'E:\\\\hdr\\\\研一\\\\华为-深度学习\\\\intermediate\\\\intermediate8dbfc1'\n",
    "    dir_result = ''\n",
    "elif host_name == 'DESKTOP-6FOH47P':\n",
    "    dir_train = 'F:\\\\Projects\\\\python\\\\PQ\\\\intermediate8dbfc1'\n",
    "    dir_result = 'F:\\\\Projects\\\\python\\\\PQ\\\\res'\n",
    "    data_to_fcpath_train= ''\n",
    "    featurepath_train= ''\n",
    "    data_to_fcpath_test = ''\n",
    "    featurepath_test = ''\n",
    "elif host_name == 'jm-System-Product-Name':\n",
    "    dir_train = os.path.join('/data/hdr/transformer_data/joined', 'train', 'f'+str(feedback_bits))\n",
    "    dir_test = os.path.join('/data/hdr/transformer_data/joined', 'test', 'f'+str(feedback_bits))\n",
    "    dir_result = '/data/hdr/pq/res'\n",
    "    data_to_fcpath_train= 'dx_linear2in_train_f%i_sam%i.npy' % (feedback_bits, train_sam_num)\n",
    "    y_train = 'dx_linear2_y_train_f%i_sam%i.npy' % (feedback_bits, train_sam_num)\n",
    "    featurepath_train= 'dx_linear2out_train_f%i_sam%i.npy' % (feedback_bits, train_sam_num)\n",
    "    data_to_fcpath_test = 'dx_linear2in_test_f%i_sam%i.npy' % (feedback_bits, test_sam_num)\n",
    "    featurepath_test = 'dx_linear2out_test_f%i_sam%i.npy' % (feedback_bits, test_sam_num)\n",
    "    # y_test = 'y_test.npy'\n",
    "else:\n",
    "    raise NameError(\"You are running the script in a new computer, please define dirs\")\n",
    "\n",
    "\n",
    "weightpath = 'dx_linear2_w_f256.npy'\n",
    "biaspath = 'dx_linear2_b_f256.npy'\n",
    "dir_result = os.path.join(dir_result, method, \"f%i\" % feedback_bits, linear_name)\n",
    "try:\n",
    "    os.mkdir(dir_result)\n",
    "except FileExistsError:\n",
    "    pass \n"
   ]
  },
  {
   "cell_type": "code",
   "execution_count": 12,
   "metadata": {},
   "outputs": [
    {
     "name": "stdout",
     "output_type": "stream",
     "text": [
      "==============================\n",
      "running method:  Exact\n"
     ]
    }
   ],
   "source": [
    "est3 = mm.estFactory(X_path=data_to_fcpath_train, W_path=weightpath, Y_path=y_train, dir= dir_train, ncodebooks=ncodebooks, ncentroids=ncentroids, methods=[method])\n"
   ]
  },
  {
   "cell_type": "code",
   "execution_count": 13,
   "metadata": {},
   "outputs": [],
   "source": [
    "# type(est3)"
   ]
  },
  {
   "cell_type": "code",
   "execution_count": 14,
   "metadata": {},
   "outputs": [],
   "source": [
    "x_test = np.load(dir_test+'/'+data_to_fcpath_test)\n",
    "w_test = np.load(dir_train+'/'+weightpath)\n",
    "bias = np.load(dir_train+'/'+biaspath)\n",
    "# print(type(est3))\n",
    "y_out_matmul = mm.eval_matmul(est3, x_test, w_test) # MADDNESS乘法的结果\n",
    "# y_out_last = mu.softmax(y_out_matmul + bias.T) # MADDNESS替换后当前层输出，即+bias并激活函数后的结果\n",
    "y_out_last = y_out_matmul + bias.T # MADDNESS替换后当前层输出，即+bias并不需要激活函数后的结果"
   ]
  },
  {
   "cell_type": "code",
   "execution_count": 15,
   "metadata": {},
   "outputs": [
    {
     "name": "stdout",
     "output_type": "stream",
     "text": [
      "[[ 2.3810785e-02 -1.3505399e-02  1.0349123e-02 ... -5.5558234e-02\n",
      "  -1.1642658e-01  1.7807508e-01]\n",
      " [ 4.0933378e-03 -1.9378886e-02  1.8495575e-01 ... -4.3654874e-01\n",
      "  -9.6737497e-02  3.1615591e-01]\n",
      " [ 8.0945021e-01  4.5894659e-01  5.9334582e-01 ...  7.7175623e-01\n",
      "  -1.3781214e+00  5.6198630e+00]\n",
      " ...\n",
      " [-1.2953599e-02  2.1025605e-01  1.4551432e-01 ... -8.5038073e-02\n",
      "  -1.6469622e-01  9.5378011e-01]\n",
      " [ 1.2768504e-01  2.0935626e-01  1.4957690e-01 ... -9.1138653e-02\n",
      "   1.4657140e-01 -1.8523394e-01]\n",
      " [ 9.9036418e-02  2.1650170e-01  1.3826513e-01 ... -7.3654629e-02\n",
      "  -3.0525941e-01  9.0723741e-01]]\n",
      "y_out_last.shape:  (1024000, 64)\n",
      "y_out_last_re.shape:  (1000, 32, 32, 64)\n"
     ]
    }
   ],
   "source": [
    "print(y_out_last)\n",
    "print(\"y_out_last.shape: \", y_out_last.shape)\n",
    "y_out_last_re = y_out_last.reshape(test_sam_num, batch_size, -1, y_out_last.shape[-1]) #AMM字典模式需要复原y大小\n",
    "print(\"y_out_last_re.shape: \", y_out_last_re.shape)\n",
    "# np.save(\"LDPC_decoder_NET_testdata/\" + snr + \"nomul_matmul_yout_matmul\", y_out_matmul)\n",
    "# np.save(dir_result+'/'+method+'fc1_fb256_cb%i_ct%i.npy' % (ncodebooks, ncentroids), y_out_matmul)\n",
    "if method == METHOD_EXACT:\n",
    "    train_sam_num = 0 # 训练集样本数\n",
    "np.save(os.path.join(dir_result, '%s%s_trsam%i_tesam%i_fb%i_cb%i_ct%i.npy' % (method, linear_name, train_sam_num, test_sam_num, feedback_bits, ncodebooks, ncentroids)), y_out_last_re)\n",
    "# io.savemat(dir_result+'\\\\fc1_256.mat', {\"NN_output_buffer\": y_out_last})"
   ]
  },
  {
   "cell_type": "code",
   "execution_count": null,
   "metadata": {},
   "outputs": [],
   "source": []
  }
 ],
 "metadata": {
  "kernelspec": {
   "display_name": "Python 3.8.13 ('pqhdr')",
   "language": "python",
   "name": "python3"
  },
  "language_info": {
   "codemirror_mode": {
    "name": "ipython",
    "version": 3
   },
   "file_extension": ".py",
   "mimetype": "text/x-python",
   "name": "python",
   "nbconvert_exporter": "python",
   "pygments_lexer": "ipython3",
   "version": "3.8.13"
  },
  "orig_nbformat": 4,
  "vscode": {
   "interpreter": {
    "hash": "ec04f7dc2b3ae4a422de9aaf96e8c62fe190a2869a08d14112cb2d7713497448"
   }
  }
 },
 "nbformat": 4,
 "nbformat_minor": 2
}
