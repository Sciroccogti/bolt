{
 "cells": [
  {
   "cell_type": "markdown",
   "metadata": {},
   "source": [
    "encoder transformer层的linear2层（etl2）替换为近似矩阵乘法"
   ]
  },
  {
   "cell_type": "code",
   "execution_count": 1,
   "metadata": {},
   "outputs": [],
   "source": [
    "import numpy as np\n",
    "import os\n",
    "import sys\n",
    "# 获取当前文件所在的文件夹路径\n",
    "if \"__file__\" in globals():\n",
    "    # 获取__file__变量的值\n",
    "    file_path = __file__\n",
    "    # 获取当前文件所在的文件夹路径\n",
    "    dir_now = os.path.dirname(file_path)\n",
    "else:\n",
    "    # 获取当前工作目录\n",
    "    dir_now = os.getcwd()\n",
    "sys.path.append(dir_now)\n",
    "sys.path.append(os.path.join(dir_now, '../'))\n",
    "os.environ[\"KMP_DUPLICATE_LIB_OK\"]=\"TRUE\" # 防止jupyter爆内存\n",
    "import matmul as mm\n",
    "import math_util as mu\n",
    "from NNutils import *\n",
    "# import scipy.io as io\n",
    "from amm_methods import *\n",
    "import socket # Obtain the current host name, which can be used to select different data directories and result saving directories"
   ]
  },
  {
   "cell_type": "code",
   "execution_count": 2,
   "metadata": {},
   "outputs": [],
   "source": [
    "method = METHOD_MITHRAL\n",
    "# method = METHOD_PQ\n",
    "# method = METHOD_PLUTO\n",
    "# method = METHOD_MITHRALPQ\n",
    "# method = METHOD_EXACT\n",
    "# method = METHOD_SCALAR_QUANTIZE\n",
    "# for method in [METHOD_MITHRAL, METHOD_PQ]:"
   ]
  },
  {
   "cell_type": "code",
   "execution_count": 3,
   "metadata": {},
   "outputs": [],
   "source": [
    "linear_name = 'etl2'\n",
    "feedback_bits = 256\n",
    "linear_name_full = \"ex_linear2\"\n",
    "\n",
    "auto_train_change_nbits = False # 是否根据已运行的训练性能结果改变nbits自动训练，（train_sam_num取已训练的最大值）\n",
    "auto_train_change_upcast = False # 是否根据已运行的训练性能结果改变upcast自动训练，（train_sam_num取已训练的最大值）\n",
    "\n",
    "if auto_train_change_nbits:\n",
    "    nbits_trained = 8\n",
    "if auto_train_change_upcast:\n",
    "    upcast_trained = 16\n",
    "quantize_lut = False\n",
    "nbits_goal = 8\n",
    "upcast_goal = -1\n",
    "lut_work_const = -1\n",
    "if quantize_lut == False:\n",
    "    nbits_goal = 0\n",
    "nbits = nbits_goal # 要运行的量化比特数\n",
    "upcast_every = upcast_goal # 要运行的upcast\n",
    "\n",
    "test_sam_num = 1000 # 测试集样本数(如需修改，请同时修改下面的读取文件，现文件默认1000个样本)\n",
    "\n",
    "if not auto_train_change_nbits and not auto_train_change_upcast:\n",
    "    ncodebooks = 64 # max:512\n",
    "    ncentroids = 256\n",
    "    train_sam_num = 1000 # 训练集样本数\n",
    "elif auto_train_change_nbits:\n",
    "    param2change = \"nbits\"\n",
    "    param_trained = nbits_trained\n",
    "    param_goal = nbits_goal\n",
    "    cb_ct_ntr_combinations_unique = change_param_auto_run_list(linear_name, method, feedback_bits, param2change, param_trained, param_goal, \"upcast_every\", 16)\n",
    "    print(cb_ct_ntr_combinations_unique)\n",
    "    # 遍历每个cb、ct、n_train_sam组合\n",
    "    # for _, row_ref in cb_ct_ntr_combinations_unique.iterrows():\n",
    "    #     ncodebooks = int(row_ref['cb'])\n",
    "        # ncentroids = int(row_ref['ct'])\n",
    "        # train_sam_num = int(row_ref['n_train_sam'])\n",
    "elif auto_train_change_upcast:\n",
    "    param2change = \"upcast_every\"\n",
    "    param_trained = upcast_trained\n",
    "    param_goal = upcast_goal\n",
    "    cb_ct_ntr_combinations_unique = change_param_auto_run_list(linear_name, method, feedback_bits, param2change, param_trained, param_goal, \"nbits\", 8)\n",
    "    print(cb_ct_ntr_combinations_unique)\n",
    "    # 遍历每个cb、ct、n_train_sam组合\n",
    "    # for _, row_ref in cb_ct_ntr_combinations_unique.iterrows():\n",
    "    #     ncodebooks = int(row_ref['cb'])\n",
    "        # ncentroids = int(row_ref['ct'])\n",
    "        # train_sam_num = int(row_ref['n_train_sam'])\n",
    "\n",
    "batch_size = 32\n",
    "if method == METHOD_EXACT:\n",
    "    ncodebooks = 0\n",
    "    ncentroids = 0"
   ]
  },
  {
   "cell_type": "code",
   "execution_count": 4,
   "metadata": {},
   "outputs": [],
   "source": [
    "AMM_train_dirs = get_AMM_train_dirs(linear_name, linear_name_full, method, feedback_bits, train_sam_num, test_sam_num)\n",
    "create_dir(AMM_train_dirs[\"dir_result\"])\n"
   ]
  },
  {
   "cell_type": "code",
   "execution_count": 5,
   "metadata": {},
   "outputs": [],
   "source": [
    "dataset_prepare(AMM_train_dirs[\"dir_joined\"], linear_name_full, feedback_bits, [train_sam_num, test_sam_num], \n",
    "                batch_size, S1 = S1_dict[linear_name])"
   ]
  },
  {
   "cell_type": "code",
   "execution_count": 6,
   "metadata": {},
   "outputs": [
    {
     "name": "stdout",
     "output_type": "stream",
     "text": [
      "==============================\n",
      "running method:  Mithral\n",
      "X.shape:  (1024000, 512)\n",
      "X_res mse / X mse:  0.0022722553\n",
      "fitting dense lstsq to X_res\n",
      "  with X_enc:(1024000, 64) Y:(1024000, 512)\n"
     ]
    },
    {
     "ename": "MemoryError",
     "evalue": "Unable to allocate 125. GiB for an array with shape (1024000, 16384) and data type float64",
     "output_type": "error",
     "traceback": [
      "\u001b[0;31m---------------------------------------------------------------------------\u001b[0m",
      "\u001b[0;31mMemoryError\u001b[0m                               Traceback (most recent call last)",
      "Cell \u001b[0;32mIn [6], line 7\u001b[0m\n\u001b[1;32m      2\u001b[0m     est3 \u001b[39m=\u001b[39m mm\u001b[39m.\u001b[39mestFactory(X_path\u001b[39m=\u001b[39mAMM_train_dirs[\u001b[39m\"\u001b[39m\u001b[39mlinearin_path_train\u001b[39m\u001b[39m\"\u001b[39m], W_path\u001b[39m=\u001b[39mAMM_train_dirs[\u001b[39m\"\u001b[39m\u001b[39mweightpath\u001b[39m\u001b[39m\"\u001b[39m], \n\u001b[1;32m      3\u001b[0m                         Y_path\u001b[39m=\u001b[39mAMM_train_dirs[\u001b[39m\"\u001b[39m\u001b[39my_train\u001b[39m\u001b[39m\"\u001b[39m], \u001b[39mdir\u001b[39m\u001b[39m=\u001b[39m AMM_train_dirs[\u001b[39m\"\u001b[39m\u001b[39mdir_train\u001b[39m\u001b[39m\"\u001b[39m], ncodebooks\u001b[39m=\u001b[39mncodebooks, \n\u001b[1;32m      4\u001b[0m                         ncentroids\u001b[39m=\u001b[39mncentroids, methods\u001b[39m=\u001b[39m[method], nbits\u001b[39m=\u001b[39mnbits, quantize_lut \u001b[39m=\u001b[39m quantize_lut, \n\u001b[1;32m      5\u001b[0m                         upcast_every\u001b[39m=\u001b[39mupcast_every, bias_path\u001b[39m=\u001b[39mAMM_train_dirs[\u001b[39m\"\u001b[39m\u001b[39mbiaspath\u001b[39m\u001b[39m\"\u001b[39m],lut_work_const\u001b[39m=\u001b[39m\u001b[39m-\u001b[39m\u001b[39m1\u001b[39m)\n\u001b[1;32m      6\u001b[0m \u001b[39melif\u001b[39;00m method \u001b[39m==\u001b[39m METHOD_MITHRAL:\n\u001b[0;32m----> 7\u001b[0m     est3 \u001b[39m=\u001b[39m mm\u001b[39m.\u001b[39;49mestFactory(X_path\u001b[39m=\u001b[39;49mAMM_train_dirs[\u001b[39m\"\u001b[39;49m\u001b[39mlinearin_path_train\u001b[39;49m\u001b[39m\"\u001b[39;49m], W_path\u001b[39m=\u001b[39;49mAMM_train_dirs[\u001b[39m\"\u001b[39;49m\u001b[39mweightpath\u001b[39;49m\u001b[39m\"\u001b[39;49m], \n\u001b[1;32m      8\u001b[0m                         Y_path\u001b[39m=\u001b[39;49mAMM_train_dirs[\u001b[39m\"\u001b[39;49m\u001b[39my_train\u001b[39;49m\u001b[39m\"\u001b[39;49m], \u001b[39mdir\u001b[39;49m\u001b[39m=\u001b[39;49m AMM_train_dirs[\u001b[39m\"\u001b[39;49m\u001b[39mdir_train\u001b[39;49m\u001b[39m\"\u001b[39;49m], ncodebooks\u001b[39m=\u001b[39;49mncodebooks, \n\u001b[1;32m      9\u001b[0m                         ncentroids\u001b[39m=\u001b[39;49mncentroids, methods\u001b[39m=\u001b[39;49m[method], nbits\u001b[39m=\u001b[39;49mnbits, quantize_lut \u001b[39m=\u001b[39;49m quantize_lut,\n\u001b[1;32m     10\u001b[0m                         upcast_every\u001b[39m=\u001b[39;49mupcast_every, lut_work_const\u001b[39m=\u001b[39;49mlut_work_const)\n\u001b[1;32m     11\u001b[0m \u001b[39melse\u001b[39;00m:\n\u001b[1;32m     12\u001b[0m     est3 \u001b[39m=\u001b[39m mm\u001b[39m.\u001b[39mestFactory(X_path\u001b[39m=\u001b[39mAMM_train_dirs[\u001b[39m\"\u001b[39m\u001b[39mlinearin_path_train\u001b[39m\u001b[39m\"\u001b[39m], W_path\u001b[39m=\u001b[39mAMM_train_dirs[\u001b[39m\"\u001b[39m\u001b[39mweightpath\u001b[39m\u001b[39m\"\u001b[39m], \n\u001b[1;32m     13\u001b[0m                         Y_path\u001b[39m=\u001b[39mAMM_train_dirs[\u001b[39m\"\u001b[39m\u001b[39my_train\u001b[39m\u001b[39m\"\u001b[39m], \u001b[39mdir\u001b[39m\u001b[39m=\u001b[39m AMM_train_dirs[\u001b[39m\"\u001b[39m\u001b[39mdir_train\u001b[39m\u001b[39m\"\u001b[39m], ncodebooks\u001b[39m=\u001b[39mncodebooks, \n\u001b[1;32m     14\u001b[0m                         ncentroids\u001b[39m=\u001b[39mncentroids, methods\u001b[39m=\u001b[39m[method], nbits\u001b[39m=\u001b[39mnbits, quantize_lut \u001b[39m=\u001b[39m quantize_lut,\n\u001b[1;32m     15\u001b[0m                         upcast_every\u001b[39m=\u001b[39mupcast_every)\n",
      "File \u001b[0;32m/data/hdr/pq/bolt/experiments/python/CsiTransformerAMM/../matmul.py:330\u001b[0m, in \u001b[0;36mestFactory\u001b[0;34m(methods, ntasks, ncodebooks, ncentroids, verbose, limit_ntasks, tasks_all_same_shape, tasks, X_path, W_path, Y_path, bias_path, dir, nbits, quantize_lut, upcast_every, lut_work_const)\u001b[0m\n\u001b[1;32m    326\u001b[0m         est \u001b[39m=\u001b[39m _fitted_est_for_hparams(\n\u001b[1;32m    327\u001b[0m             method_id, hparams_dict,\n\u001b[1;32m    328\u001b[0m             task\u001b[39m.\u001b[39mX_train, task\u001b[39m.\u001b[39mW_train, task\u001b[39m.\u001b[39mY_train, bias\u001b[39m=\u001b[39mtask\u001b[39m.\u001b[39mbias)\n\u001b[1;32m    329\u001b[0m     \u001b[39melse\u001b[39;00m:\n\u001b[0;32m--> 330\u001b[0m         est \u001b[39m=\u001b[39m _fitted_est_for_hparams(\n\u001b[1;32m    331\u001b[0m             method_id, hparams_dict,\n\u001b[1;32m    332\u001b[0m             task\u001b[39m.\u001b[39;49mX_train, task\u001b[39m.\u001b[39;49mW_train, task\u001b[39m.\u001b[39;49mY_train)\n\u001b[1;32m    333\u001b[0m \u001b[39mexcept\u001b[39;00m amm\u001b[39m.\u001b[39mInvalidParametersException \u001b[39mas\u001b[39;00m e:\n\u001b[1;32m    334\u001b[0m     \u001b[39m# hparams don't make sense for task (eg, D < d)\u001b[39;00m\n\u001b[1;32m    335\u001b[0m     \u001b[39mprint\u001b[39m(\u001b[39mf\u001b[39m\u001b[39m\"\u001b[39m\u001b[39mhparams apparently invalid: \u001b[39m\u001b[39m{\u001b[39;00me\u001b[39m}\u001b[39;00m\u001b[39m\"\u001b[39m)\n",
      "File \u001b[0;32m~/.conda/envs/pqhdr/lib/python3.8/site-packages/joblib/memory.py:594\u001b[0m, in \u001b[0;36mMemorizedFunc.__call__\u001b[0;34m(self, *args, **kwargs)\u001b[0m\n\u001b[1;32m    593\u001b[0m \u001b[39mdef\u001b[39;00m \u001b[39m__call__\u001b[39m(\u001b[39mself\u001b[39m, \u001b[39m*\u001b[39margs, \u001b[39m*\u001b[39m\u001b[39m*\u001b[39mkwargs):\n\u001b[0;32m--> 594\u001b[0m     \u001b[39mreturn\u001b[39;00m \u001b[39mself\u001b[39;49m\u001b[39m.\u001b[39;49m_cached_call(args, kwargs)[\u001b[39m0\u001b[39m]\n",
      "File \u001b[0;32m~/.conda/envs/pqhdr/lib/python3.8/site-packages/joblib/memory.py:537\u001b[0m, in \u001b[0;36mMemorizedFunc._cached_call\u001b[0;34m(self, args, kwargs, shelving)\u001b[0m\n\u001b[1;32m    534\u001b[0m         must_call \u001b[39m=\u001b[39m \u001b[39mTrue\u001b[39;00m\n\u001b[1;32m    536\u001b[0m \u001b[39mif\u001b[39;00m must_call:\n\u001b[0;32m--> 537\u001b[0m     out, metadata \u001b[39m=\u001b[39m \u001b[39mself\u001b[39;49m\u001b[39m.\u001b[39;49mcall(\u001b[39m*\u001b[39;49margs, \u001b[39m*\u001b[39;49m\u001b[39m*\u001b[39;49mkwargs)\n\u001b[1;32m    538\u001b[0m     \u001b[39mif\u001b[39;00m \u001b[39mself\u001b[39m\u001b[39m.\u001b[39mmmap_mode \u001b[39mis\u001b[39;00m \u001b[39mnot\u001b[39;00m \u001b[39mNone\u001b[39;00m:\n\u001b[1;32m    539\u001b[0m         \u001b[39m# Memmap the output at the first call to be consistent with\u001b[39;00m\n\u001b[1;32m    540\u001b[0m         \u001b[39m# later calls\u001b[39;00m\n\u001b[1;32m    541\u001b[0m         \u001b[39mif\u001b[39;00m \u001b[39mself\u001b[39m\u001b[39m.\u001b[39m_verbose:\n",
      "File \u001b[0;32m~/.conda/envs/pqhdr/lib/python3.8/site-packages/joblib/memory.py:779\u001b[0m, in \u001b[0;36mMemorizedFunc.call\u001b[0;34m(self, *args, **kwargs)\u001b[0m\n\u001b[1;32m    777\u001b[0m \u001b[39mif\u001b[39;00m \u001b[39mself\u001b[39m\u001b[39m.\u001b[39m_verbose \u001b[39m>\u001b[39m \u001b[39m0\u001b[39m:\n\u001b[1;32m    778\u001b[0m     \u001b[39mprint\u001b[39m(format_call(\u001b[39mself\u001b[39m\u001b[39m.\u001b[39mfunc, args, kwargs))\n\u001b[0;32m--> 779\u001b[0m output \u001b[39m=\u001b[39m \u001b[39mself\u001b[39;49m\u001b[39m.\u001b[39;49mfunc(\u001b[39m*\u001b[39;49margs, \u001b[39m*\u001b[39;49m\u001b[39m*\u001b[39;49mkwargs)\n\u001b[1;32m    780\u001b[0m \u001b[39mself\u001b[39m\u001b[39m.\u001b[39mstore_backend\u001b[39m.\u001b[39mdump_item(\n\u001b[1;32m    781\u001b[0m     [func_id, args_id], output, verbose\u001b[39m=\u001b[39m\u001b[39mself\u001b[39m\u001b[39m.\u001b[39m_verbose)\n\u001b[1;32m    783\u001b[0m duration \u001b[39m=\u001b[39m time\u001b[39m.\u001b[39mtime() \u001b[39m-\u001b[39m start_time\n",
      "File \u001b[0;32m/data/hdr/pq/bolt/experiments/python/CsiTransformerAMM/../matmul.py:247\u001b[0m, in \u001b[0;36m_fitted_est_for_hparams\u001b[0;34m(method_id, hparams_dict, X_train, W_train, Y_train, **kwargs)\u001b[0m\n\u001b[1;32m    243\u001b[0m \u001b[39m@_memory\u001b[39m\u001b[39m.\u001b[39mcache\n\u001b[1;32m    244\u001b[0m \u001b[39mdef\u001b[39;00m \u001b[39m_fitted_est_for_hparams\u001b[39m(method_id, hparams_dict, X_train, W_train,\n\u001b[1;32m    245\u001b[0m                             Y_train, \u001b[39m*\u001b[39m\u001b[39m*\u001b[39mkwargs):\n\u001b[1;32m    246\u001b[0m     est \u001b[39m=\u001b[39m _estimator_for_method_id(method_id, \u001b[39m*\u001b[39m\u001b[39m*\u001b[39mhparams_dict)\n\u001b[0;32m--> 247\u001b[0m     est\u001b[39m.\u001b[39;49mfit(X_train, W_train, Y\u001b[39m=\u001b[39;49mY_train, \u001b[39m*\u001b[39;49m\u001b[39m*\u001b[39;49mkwargs)\n\u001b[1;32m    248\u001b[0m     \u001b[39mreturn\u001b[39;00m est\n",
      "File \u001b[0;32m/data/hdr/pq/bolt/experiments/python/CsiTransformerAMM/../vq_amm.py:52\u001b[0m, in \u001b[0;36mVQMatmul.fit\u001b[0;34m(self, A, B, Y)\u001b[0m\n\u001b[1;32m     49\u001b[0m     \u001b[39mraise\u001b[39;00m amm\u001b[39m.\u001b[39mInvalidParametersException(\n\u001b[1;32m     50\u001b[0m         \u001b[39m'\u001b[39m\u001b[39mD < C: \u001b[39m\u001b[39m{}\u001b[39;00m\u001b[39m < \u001b[39m\u001b[39m{}\u001b[39;00m\u001b[39m'\u001b[39m\u001b[39m.\u001b[39mformat(D, \u001b[39mself\u001b[39m\u001b[39m.\u001b[39mncodebooks))\n\u001b[1;32m     51\u001b[0m \u001b[39m# A = X_train B = W_train Y = Y_train\u001b[39;00m\n\u001b[0;32m---> 52\u001b[0m \u001b[39mself\u001b[39;49m\u001b[39m.\u001b[39;49menc\u001b[39m.\u001b[39;49mfit(A, B\u001b[39m.\u001b[39;49mT)\n",
      "File \u001b[0;32m/data/hdr/pq/bolt/experiments/python/CsiTransformerAMM/../vquantizers.py:640\u001b[0m, in \u001b[0;36mMithralEncoder.fit\u001b[0;34m(self, X, Q)\u001b[0m\n\u001b[1;32m    639\u001b[0m \u001b[39mdef\u001b[39;00m \u001b[39mfit\u001b[39m(\u001b[39mself\u001b[39m, X, Q\u001b[39m=\u001b[39m\u001b[39mNone\u001b[39;00m):\n\u001b[0;32m--> 640\u001b[0m     \u001b[39mself\u001b[39m\u001b[39m.\u001b[39msplits_lists, \u001b[39mself\u001b[39m\u001b[39m.\u001b[39mcentroids \u001b[39m=\u001b[39m clusterize\u001b[39m.\u001b[39;49mlearn_mithral(\n\u001b[1;32m    641\u001b[0m         X, \u001b[39mself\u001b[39;49m\u001b[39m.\u001b[39;49mncodebooks, ncentroids\u001b[39m=\u001b[39;49m\u001b[39mself\u001b[39;49m\u001b[39m.\u001b[39;49mncentroids, lut_work_const\u001b[39m=\u001b[39;49m\u001b[39mself\u001b[39;49m\u001b[39m.\u001b[39;49mlut_work_const,\n\u001b[1;32m    642\u001b[0m         nonzeros_heuristic\u001b[39m=\u001b[39;49m\u001b[39mself\u001b[39;49m\u001b[39m.\u001b[39;49mnonzeros_heuristic, verbose\u001b[39m=\u001b[39;49m\u001b[39m1\u001b[39;49m)\n",
      "File \u001b[0;32m~/.conda/envs/pqhdr/lib/python3.8/site-packages/joblib/memory.py:594\u001b[0m, in \u001b[0;36mMemorizedFunc.__call__\u001b[0;34m(self, *args, **kwargs)\u001b[0m\n\u001b[1;32m    593\u001b[0m \u001b[39mdef\u001b[39;00m \u001b[39m__call__\u001b[39m(\u001b[39mself\u001b[39m, \u001b[39m*\u001b[39margs, \u001b[39m*\u001b[39m\u001b[39m*\u001b[39mkwargs):\n\u001b[0;32m--> 594\u001b[0m     \u001b[39mreturn\u001b[39;00m \u001b[39mself\u001b[39;49m\u001b[39m.\u001b[39;49m_cached_call(args, kwargs)[\u001b[39m0\u001b[39m]\n",
      "File \u001b[0;32m~/.conda/envs/pqhdr/lib/python3.8/site-packages/joblib/memory.py:537\u001b[0m, in \u001b[0;36mMemorizedFunc._cached_call\u001b[0;34m(self, args, kwargs, shelving)\u001b[0m\n\u001b[1;32m    534\u001b[0m         must_call \u001b[39m=\u001b[39m \u001b[39mTrue\u001b[39;00m\n\u001b[1;32m    536\u001b[0m \u001b[39mif\u001b[39;00m must_call:\n\u001b[0;32m--> 537\u001b[0m     out, metadata \u001b[39m=\u001b[39m \u001b[39mself\u001b[39;49m\u001b[39m.\u001b[39;49mcall(\u001b[39m*\u001b[39;49margs, \u001b[39m*\u001b[39;49m\u001b[39m*\u001b[39;49mkwargs)\n\u001b[1;32m    538\u001b[0m     \u001b[39mif\u001b[39;00m \u001b[39mself\u001b[39m\u001b[39m.\u001b[39mmmap_mode \u001b[39mis\u001b[39;00m \u001b[39mnot\u001b[39;00m \u001b[39mNone\u001b[39;00m:\n\u001b[1;32m    539\u001b[0m         \u001b[39m# Memmap the output at the first call to be consistent with\u001b[39;00m\n\u001b[1;32m    540\u001b[0m         \u001b[39m# later calls\u001b[39;00m\n\u001b[1;32m    541\u001b[0m         \u001b[39mif\u001b[39;00m \u001b[39mself\u001b[39m\u001b[39m.\u001b[39m_verbose:\n",
      "File \u001b[0;32m~/.conda/envs/pqhdr/lib/python3.8/site-packages/joblib/memory.py:779\u001b[0m, in \u001b[0;36mMemorizedFunc.call\u001b[0;34m(self, *args, **kwargs)\u001b[0m\n\u001b[1;32m    777\u001b[0m \u001b[39mif\u001b[39;00m \u001b[39mself\u001b[39m\u001b[39m.\u001b[39m_verbose \u001b[39m>\u001b[39m \u001b[39m0\u001b[39m:\n\u001b[1;32m    778\u001b[0m     \u001b[39mprint\u001b[39m(format_call(\u001b[39mself\u001b[39m\u001b[39m.\u001b[39mfunc, args, kwargs))\n\u001b[0;32m--> 779\u001b[0m output \u001b[39m=\u001b[39m \u001b[39mself\u001b[39;49m\u001b[39m.\u001b[39;49mfunc(\u001b[39m*\u001b[39;49margs, \u001b[39m*\u001b[39;49m\u001b[39m*\u001b[39;49mkwargs)\n\u001b[1;32m    780\u001b[0m \u001b[39mself\u001b[39m\u001b[39m.\u001b[39mstore_backend\u001b[39m.\u001b[39mdump_item(\n\u001b[1;32m    781\u001b[0m     [func_id, args_id], output, verbose\u001b[39m=\u001b[39m\u001b[39mself\u001b[39m\u001b[39m.\u001b[39m_verbose)\n\u001b[1;32m    783\u001b[0m duration \u001b[39m=\u001b[39m time\u001b[39m.\u001b[39mtime() \u001b[39m-\u001b[39m start_time\n",
      "File \u001b[0;32m/data/hdr/pq/bolt/experiments/python/CsiTransformerAMM/../clusterize.py:2064\u001b[0m, in \u001b[0;36mlearn_mithral\u001b[0;34m(X, ncodebooks, ncentroids, return_buckets, lut_work_const, **kwargs)\u001b[0m\n\u001b[1;32m   2062\u001b[0m     \u001b[39mprint\u001b[39m(\u001b[39m\"\u001b[39m\u001b[39mfitting dense lstsq to X_res\u001b[39m\u001b[39m\"\u001b[39m)\n\u001b[1;32m   2063\u001b[0m     \u001b[39mprint\u001b[39m(\u001b[39mf\u001b[39m\u001b[39m\"\u001b[39m\u001b[39m  with X_enc:\u001b[39m\u001b[39m{\u001b[39;00mX_enc\u001b[39m.\u001b[39mshape\u001b[39m}\u001b[39;00m\u001b[39m Y:\u001b[39m\u001b[39m{\u001b[39;00mX_res\u001b[39m.\u001b[39mshape\u001b[39m}\u001b[39;00m\u001b[39m\"\u001b[39m)\n\u001b[0;32m-> 2064\u001b[0m     W \u001b[39m=\u001b[39m encoded_lstsq(X_enc\u001b[39m=\u001b[39;49mX_enc, Y\u001b[39m=\u001b[39;49mX_res, K\u001b[39m=\u001b[39;49mncentroids)\n\u001b[1;32m   2065\u001b[0m     \u001b[39mprint\u001b[39m(\u001b[39mf\u001b[39m\u001b[39m\"\u001b[39m\u001b[39mfitted dense lstsq with W:\u001b[39m\u001b[39m{\u001b[39;00mW\u001b[39m.\u001b[39mshape\u001b[39m}\u001b[39;00m\u001b[39m\"\u001b[39m)\n\u001b[1;32m   2066\u001b[0m     \u001b[39m#exit(0)\u001b[39;00m\n\u001b[1;32m   2067\u001b[0m \u001b[39melse\u001b[39;00m:\n",
      "File \u001b[0;32m/data/hdr/pq/bolt/experiments/python/CsiTransformerAMM/../clusterize.py:1268\u001b[0m, in \u001b[0;36mencoded_lstsq\u001b[0;34m(X_enc, X_bin, Y, K, XtX, XtY, precondition, stable_ridge)\u001b[0m\n\u001b[1;32m   1264\u001b[0m \u001b[39mdef\u001b[39;00m \u001b[39mencoded_lstsq\u001b[39m(X_enc\u001b[39m=\u001b[39m\u001b[39mNone\u001b[39;00m, X_bin\u001b[39m=\u001b[39m\u001b[39mNone\u001b[39;00m, Y\u001b[39m=\u001b[39m\u001b[39mNone\u001b[39;00m, K\u001b[39m=\u001b[39m\u001b[39m16\u001b[39m, XtX\u001b[39m=\u001b[39m\u001b[39mNone\u001b[39;00m, XtY\u001b[39m=\u001b[39m\u001b[39mNone\u001b[39;00m,\n\u001b[1;32m   1265\u001b[0m                   precondition\u001b[39m=\u001b[39m\u001b[39mTrue\u001b[39;00m, stable_ridge\u001b[39m=\u001b[39m\u001b[39mTrue\u001b[39;00m):\n\u001b[1;32m   1267\u001b[0m     \u001b[39mif\u001b[39;00m stable_ridge:\n\u001b[0;32m-> 1268\u001b[0m         \u001b[39mreturn\u001b[39;00m _fit_ridge_enc(X_enc\u001b[39m=\u001b[39;49mX_enc, Y\u001b[39m=\u001b[39;49mY, X_bin\u001b[39m=\u001b[39;49mX_bin, K\u001b[39m=\u001b[39;49mK, lamda\u001b[39m=\u001b[39;49m\u001b[39m1\u001b[39;49m,mode\u001b[39m=\u001b[39;49m\u001b[39m2\u001b[39;49m)\n\u001b[1;32m   1269\u001b[0m     \u001b[39mprint\u001b[39m(\u001b[39m\"\u001b[39m\u001b[39mnot doing sklearn\u001b[39m\u001b[39m\"\u001b[39m)\n\u001b[1;32m   1270\u001b[0m     exit(\u001b[39m0\u001b[39m)\n",
      "File \u001b[0;32m/data/hdr/pq/bolt/experiments/python/CsiTransformerAMM/../clusterize.py:1027\u001b[0m, in \u001b[0;36m_fit_ridge_enc\u001b[0;34m(X_enc, Y, K, lamda, X_bin, mode)\u001b[0m\n\u001b[1;32m   1025\u001b[0m     sk_result \u001b[39m=\u001b[39m est\u001b[39m.\u001b[39mcoef_\u001b[39m.\u001b[39mT\n\u001b[1;32m   1026\u001b[0m \u001b[39melse\u001b[39;00m:\n\u001b[0;32m-> 1027\u001b[0m     coef \u001b[39m=\u001b[39m ridge\u001b[39m.\u001b[39;49mridge(stim\u001b[39m=\u001b[39;49mX_bin, resp\u001b[39m=\u001b[39;49mY, alpha\u001b[39m=\u001b[39;49mlamda)\n\u001b[1;32m   1028\u001b[0m     sk_result \u001b[39m=\u001b[39m coef\u001b[39m.\u001b[39mT\n\u001b[1;32m   1029\u001b[0m \u001b[39m\"\"\"\u001b[39;00m\n\u001b[1;32m   1030\u001b[0m \u001b[39mG = torch.from_numpy(X_bin.astype(np.float32))\u001b[39;00m\n\u001b[1;32m   1031\u001b[0m \u001b[39mA_res = torch.from_numpy(Y)\u001b[39;00m\n\u001b[0;32m   (...)\u001b[0m\n\u001b[1;32m   1045\u001b[0m \u001b[39mprint(f\"result.shape:{torch_result.shape} diffmse:{sk_vs_torch}\")\u001b[39;00m\n\u001b[1;32m   1046\u001b[0m \u001b[39m\"\"\"\u001b[39;00m\n",
      "File \u001b[0;32m/data/hdr/pq/bolt/experiments/python/CsiTransformerAMM/../../../../../ridge/ridge.py:35\u001b[0m, in \u001b[0;36mridge\u001b[0;34m(stim, resp, alpha, singcutoff, normalpha, logger)\u001b[0m\n\u001b[1;32m     13\u001b[0m \u001b[39m\"\"\"Uses ridge regression to find a linear transformation of [stim] that approximates\u001b[39;00m\n\u001b[1;32m     14\u001b[0m \u001b[39m[resp]. The regularization parameter is [alpha].\u001b[39;00m\n\u001b[1;32m     15\u001b[0m \n\u001b[0;32m   (...)\u001b[0m\n\u001b[1;32m     32\u001b[0m \u001b[39m    Linear regression weights.\u001b[39;00m\n\u001b[1;32m     33\u001b[0m \u001b[39m\"\"\"\u001b[39;00m\n\u001b[1;32m     34\u001b[0m \u001b[39mtry\u001b[39;00m:\n\u001b[0;32m---> 35\u001b[0m     U,S,Vh \u001b[39m=\u001b[39m np\u001b[39m.\u001b[39;49mlinalg\u001b[39m.\u001b[39;49msvd(stim, full_matrices\u001b[39m=\u001b[39;49m\u001b[39mFalse\u001b[39;49;00m)\n\u001b[1;32m     36\u001b[0m \u001b[39mexcept\u001b[39;00m np\u001b[39m.\u001b[39mlinalg\u001b[39m.\u001b[39mLinAlgError:\n\u001b[1;32m     37\u001b[0m     logger\u001b[39m.\u001b[39minfo(\u001b[39m\"\u001b[39m\u001b[39mNORMAL SVD FAILED, trying more robust dgesvd..\u001b[39m\u001b[39m\"\u001b[39m)\n",
      "File \u001b[0;32m<__array_function__ internals>:5\u001b[0m, in \u001b[0;36msvd\u001b[0;34m(*args, **kwargs)\u001b[0m\n",
      "File \u001b[0;32m~/.conda/envs/pqhdr/lib/python3.8/site-packages/numpy/linalg/linalg.py:1660\u001b[0m, in \u001b[0;36msvd\u001b[0;34m(a, full_matrices, compute_uv, hermitian)\u001b[0m\n\u001b[1;32m   1657\u001b[0m         gufunc \u001b[39m=\u001b[39m _umath_linalg\u001b[39m.\u001b[39msvd_n_s\n\u001b[1;32m   1659\u001b[0m signature \u001b[39m=\u001b[39m \u001b[39m'\u001b[39m\u001b[39mD->DdD\u001b[39m\u001b[39m'\u001b[39m \u001b[39mif\u001b[39;00m isComplexType(t) \u001b[39melse\u001b[39;00m \u001b[39m'\u001b[39m\u001b[39md->ddd\u001b[39m\u001b[39m'\u001b[39m\n\u001b[0;32m-> 1660\u001b[0m u, s, vh \u001b[39m=\u001b[39m gufunc(a, signature\u001b[39m=\u001b[39;49msignature, extobj\u001b[39m=\u001b[39;49mextobj)\n\u001b[1;32m   1661\u001b[0m u \u001b[39m=\u001b[39m u\u001b[39m.\u001b[39mastype(result_t, copy\u001b[39m=\u001b[39m\u001b[39mFalse\u001b[39;00m)\n\u001b[1;32m   1662\u001b[0m s \u001b[39m=\u001b[39m s\u001b[39m.\u001b[39mastype(_realType(result_t), copy\u001b[39m=\u001b[39m\u001b[39mFalse\u001b[39;00m)\n",
      "\u001b[0;31mMemoryError\u001b[0m: Unable to allocate 125. GiB for an array with shape (1024000, 16384) and data type float64"
     ]
    }
   ],
   "source": [
    "if method == METHOD_PLUTO:\n",
    "    est3 = mm.estFactory(X_path=AMM_train_dirs[\"linearin_path_train\"], W_path=AMM_train_dirs[\"weightpath\"], \n",
    "                        Y_path=AMM_train_dirs[\"y_train\"], dir= AMM_train_dirs[\"dir_train\"], ncodebooks=ncodebooks, \n",
    "                        ncentroids=ncentroids, methods=[method], nbits=nbits, quantize_lut = quantize_lut, \n",
    "                        upcast_every=upcast_every, bias_path=AMM_train_dirs[\"biaspath\"],lut_work_const=-1)\n",
    "elif method == METHOD_MITHRAL:\n",
    "    est3 = mm.estFactory(X_path=AMM_train_dirs[\"linearin_path_train\"], W_path=AMM_train_dirs[\"weightpath\"], \n",
    "                        Y_path=AMM_train_dirs[\"y_train\"], dir= AMM_train_dirs[\"dir_train\"], ncodebooks=ncodebooks, \n",
    "                        ncentroids=ncentroids, methods=[method], nbits=nbits, quantize_lut = quantize_lut,\n",
    "                        upcast_every=upcast_every, lut_work_const=lut_work_const)\n",
    "else:\n",
    "    est3 = mm.estFactory(X_path=AMM_train_dirs[\"linearin_path_train\"], W_path=AMM_train_dirs[\"weightpath\"], \n",
    "                        Y_path=AMM_train_dirs[\"y_train\"], dir= AMM_train_dirs[\"dir_train\"], ncodebooks=ncodebooks, \n",
    "                        ncentroids=ncentroids, methods=[method], nbits=nbits, quantize_lut = quantize_lut,\n",
    "                        upcast_every=upcast_every)"
   ]
  },
  {
   "cell_type": "code",
   "execution_count": null,
   "metadata": {},
   "outputs": [],
   "source": [
    "x_test = np.load(AMM_train_dirs[\"dir_test\"]+'/'+AMM_train_dirs[\"linearin_path_test\"])\n",
    "w_test = np.load(AMM_train_dirs[\"dir_train\"]+'/'+AMM_train_dirs[\"weightpath\"])\n",
    "bias = np.load(AMM_train_dirs[\"dir_train\"]+'/'+AMM_train_dirs[\"biaspath\"])\n",
    "# print(type(est3))\n",
    "y_out_matmul = mm.eval_matmul(est3, x_test, w_test) # MADDNESS乘法的结果\n",
    "# y_out_last = mu.softmax(y_out_matmul + bias.T) # MADDNESS替换后当前层输出，即+bias并激活函数后的结果\n",
    "if method == METHOD_PLUTO:\n",
    "    y_out_last = y_out_matmul\n",
    "else:\n",
    "    y_out_last = y_out_matmul + bias.T # MADDNESS替换后当前层输出，即+bias并不需要激活函数后的结果"
   ]
  },
  {
   "cell_type": "code",
   "execution_count": null,
   "metadata": {},
   "outputs": [
    {
     "name": "stdout",
     "output_type": "stream",
     "text": [
      "[[ 5.6936496e-01  8.3873067e-03  5.7677013e-01 ...  2.7799687e-01\n",
      "   5.0662328e-02  5.6929213e-01]\n",
      " [ 5.2269238e-01  1.6420553e-02  5.3115559e-01 ...  3.1110150e-01\n",
      "   5.3659193e-02  5.2570552e-01]\n",
      " [ 6.6073304e-01  3.1082058e-02  4.9022710e-01 ...  3.4244657e-01\n",
      "   1.5062451e-01  5.9314865e-01]\n",
      " ...\n",
      " [ 4.5586857e-01  1.0277196e-01  2.9287094e-01 ...  2.0953710e-01\n",
      "   2.3244289e-01  2.9159257e-01]\n",
      " [ 3.9258292e-01 -1.6145188e-01  1.3560979e-01 ...  3.3966482e-01\n",
      "   7.8439370e-02  3.8808528e-01]\n",
      " [ 3.4512466e-01 -3.4519378e-04  2.8419909e-01 ...  9.7463563e-02\n",
      "   1.2561168e-01  2.8252244e-01]]\n",
      "y_out_last.shape:  (1024000, 64)\n",
      "y_out_last_re.shape:  (1000, 32, 32, 64)\n"
     ]
    }
   ],
   "source": [
    "print(y_out_last)\n",
    "print(\"y_out_last.shape: \", y_out_last.shape)\n",
    "y_out_last_re = y_out_last.reshape(test_sam_num, batch_size, -1, y_out_last.shape[-1]) #AMM字典模式需要复原y大小\n",
    "print(\"y_out_last_re.shape: \", y_out_last_re.shape)\n",
    "if method == METHOD_SCALAR_QUANTIZE:\n",
    "    np.save(os.path.join(AMM_train_dirs[\"dir_result\"], '%s%s_trsam%i_tesam%i_fb%i_nbits%i.npy' % \n",
    "                                                        (method, linear_name, train_sam_num, test_sam_num, feedback_bits, nbits)), \n",
    "                                                        y_out_last_re.astype(np.float32))\n",
    "elif method == METHOD_MITHRAL or method == METHOD_PLUTO:\n",
    "    np.save(os.path.join(AMM_train_dirs[\"dir_result\"], '%s%s_trsam%i_tesam%i_fb%i_cb%i_ct%i_ql%i_nb%i_uc%i_lwc%i.npy' % \n",
    "                                                        (method, linear_name, train_sam_num, test_sam_num, feedback_bits, \n",
    "                                                        ncodebooks, ncentroids, quantize_lut, nbits, upcast_every, lut_work_const)), y_out_last_re)\n",
    "elif method == METHOD_PQ or method == METHOD_MITHRALPQ:\n",
    "    np.save(os.path.join(AMM_train_dirs[\"dir_result\"], '%s%s_trsam%i_tesam%i_fb%i_cb%i_ct%i_ql%i_nb%i_uc%i.npy' % \n",
    "                                                        (method, linear_name, train_sam_num, test_sam_num, feedback_bits, \n",
    "                                                        ncodebooks, ncentroids, quantize_lut, nbits, upcast_every)), y_out_last_re)\n",
    "else:\n",
    "    np.save(os.path.join(AMM_train_dirs[\"dir_result\"], '%s%s_trsam%i_tesam%i_fb%i_cb%i_ct%i.npy' % \n",
    "                                                        (method, linear_name, train_sam_num, test_sam_num, feedback_bits, \n",
    "                                                        ncodebooks, ncentroids)), y_out_last_re)"
   ]
  }
 ],
 "metadata": {
  "kernelspec": {
   "display_name": "pqhdr",
   "language": "python",
   "name": "python3"
  },
  "language_info": {
   "codemirror_mode": {
    "name": "ipython",
    "version": 3
   },
   "file_extension": ".py",
   "mimetype": "text/x-python",
   "name": "python",
   "nbconvert_exporter": "python",
   "pygments_lexer": "ipython3",
   "version": "3.8.13"
  },
  "orig_nbformat": 4,
  "vscode": {
   "interpreter": {
    "hash": "ec04f7dc2b3ae4a422de9aaf96e8c62fe190a2869a08d14112cb2d7713497448"
   }
  }
 },
 "nbformat": 4,
 "nbformat_minor": 2
}
