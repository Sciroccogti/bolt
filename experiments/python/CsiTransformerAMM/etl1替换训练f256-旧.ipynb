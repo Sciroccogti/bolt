{
 "cells": [
  {
   "cell_type": "markdown",
   "metadata": {},
   "source": [
    "encoder transformer层的linear1层（etl1）替换为近似矩阵乘法"
   ]
  },
  {
   "cell_type": "code",
   "execution_count": 1,
   "metadata": {},
   "outputs": [],
   "source": [
    "import numpy as np\n",
    "import os\n",
    "import sys\n",
    "dir_now = os.getcwd()\n",
    "sys.path.append(dir_now)\n",
    "sys.path.append(os.path.join(dir_now, '../'))\n",
    "os.environ[\"KMP_DUPLICATE_LIB_OK\"]=\"TRUE\" # 防止jupyter爆内存\n",
    "import matmul as mm\n",
    "import math_util as mu\n",
    "from NNutils import *\n",
    "import scipy.io as io\n",
    "from amm_methods import *\n",
    "import socket # Obtain the current host name, which can be used to select different data directories and result saving directories"
   ]
  },
  {
   "cell_type": "code",
   "execution_count": 2,
   "metadata": {},
   "outputs": [],
   "source": [
    "method = METHOD_MITHRAL\n",
    "quantize_lut = False\n",
    "# method = METHOD_PQ\n",
    "# method = METHOD_EXACT\n",
    "# method = METHOD_SCALAR_QUANTIZE\n",
    "nbits = 4"
   ]
  },
  {
   "cell_type": "code",
   "execution_count": 3,
   "metadata": {},
   "outputs": [],
   "source": [
    "linear_name = \"etl1\"\n",
    "linear_name_full = \"ex_linear1\"\n",
    "feedback_bits = 256\n",
    "ncodebooks = 64 # max:64\n",
    "ncentroids = 256\n",
    "# if method == METHOD_MITHRAL:\n",
    "#     ncentroids = 16\n",
    "train_sam_num = 3000 # 训练集样本数\n",
    "test_sam_num = 1000 # 测试集样本数\n",
    "batch_size = 32\n",
    "if method == METHOD_EXACT:\n",
    "    ncodebooks = 0\n",
    "    ncentroids = 0"
   ]
  },
  {
   "cell_type": "code",
   "execution_count": 4,
   "metadata": {},
   "outputs": [],
   "source": [
    "host_name = socket.gethostname()\n",
    "if host_name == 'DESKTOP-PLRL7TK':\n",
    "    dir_train = 'E:\\\\hdr\\\\研一\\\\华为-深度学习\\\\intermediate\\\\intermediate8dbfc1'\n",
    "    dir_result = ''\n",
    "elif host_name == 'DESKTOP-6FOH47P':\n",
    "    dir_train = 'F:\\\\Projects\\\\python\\\\PQ\\\\intermediate8dbfc1'\n",
    "    dir_result = 'F:\\\\Projects\\\\python\\\\PQ\\\\res'\n",
    "    linearin_path_train= ''\n",
    "    linearout_path_train= ''\n",
    "    linearin_path_test = ''\n",
    "    linearout_path_test = ''\n",
    "elif host_name == 'jm-System-Product-Name':\n",
    "    dir_joined = '/data/hdr/transformer_data/joined'\n",
    "    dir_train = os.path.join(dir_joined, 'train', 'f'+str(feedback_bits))\n",
    "    dir_test = os.path.join(dir_joined, 'test', 'f'+str(feedback_bits))\n",
    "    dir_result = '/data/hdr/pq/res'\n",
    "    linearin_path_train= '%sin_train_f%i_sam%i.npy' % (linear_name_full, feedback_bits, train_sam_num)\n",
    "    y_train = '%s_y_train_f%i_sam%i.npy' % (linear_name_full, feedback_bits, train_sam_num)\n",
    "    linearout_path_train= '%sout_train_f%i_sam%i.npy' % (linear_name_full, feedback_bits, train_sam_num)\n",
    "    linearin_path_test = '%sin_test_f%i_sam%i.npy' % (linear_name_full, feedback_bits, test_sam_num)\n",
    "    linearout_path_test = '%sout_test_f%i_sam%i.npy' % (linear_name_full, feedback_bits, test_sam_num)\n",
    "else:\n",
    "    raise NameError(\"You are running the script in a new computer %s, please define dirs\" % host_name)\n",
    "\n",
    "\n",
    "weightpath = '%s_w_f%i.npy' % (linear_name_full, feedback_bits)\n",
    "biaspath = '%s_b_f%i.npy' % (linear_name_full, feedback_bits)\n",
    "dir_result = os.path.join(dir_result, method, \"f%i\" % feedback_bits, linear_name)\n",
    "try:\n",
    "    os.mkdir(dir_result)\n",
    "except FileNotFoundError:\n",
    "    os.makedirs(dir_result)\n",
    "except FileExistsError:\n",
    "    pass \n"
   ]
  },
  {
   "cell_type": "code",
   "execution_count": 5,
   "metadata": {},
   "outputs": [],
   "source": [
    "dataset_prepare(dir_joined, linear_name_full, feedback_bits, [train_sam_num, test_sam_num], batch_size, S1 = S1)"
   ]
  },
  {
   "cell_type": "code",
   "execution_count": 6,
   "metadata": {},
   "outputs": [
    {
     "name": "stdout",
     "output_type": "stream",
     "text": [
      "==============================\n",
      "running method:  Mithral\n",
      "X.shape:  (3072000, 64)\n",
      "_learn_mithral_initialization heuristic pq\n",
      "================================\n",
      "learn_multisplits(): initial loss:    25436.17445634681\n",
      "learn_multisplits(): returning loss:  1.88354576051834\n",
      "================================\n",
      "learn_multisplits(): initial loss:    15694.775657208442\n",
      "learn_multisplits(): returning loss:  1.283456442761235\n",
      "================================\n",
      "learn_multisplits(): initial loss:    15728.0521482083\n",
      "learn_multisplits(): returning loss:  1.0969937080517411\n",
      "================================\n",
      "learn_multisplits(): initial loss:    22308.88179487992\n",
      "learn_multisplits(): returning loss:  589.9522045374089\n",
      "================================\n",
      "learn_multisplits(): initial loss:    22831.236562942184\n",
      "learn_multisplits(): returning loss:  90.77724133604136\n",
      "================================\n",
      "learn_multisplits(): initial loss:    16794.41131759254\n",
      "learn_multisplits(): returning loss:  2.8455731101208865\n",
      "================================\n",
      "learn_multisplits(): initial loss:    29087.724192887636\n",
      "learn_multisplits(): returning loss:  3.37334091130304\n",
      "================================\n",
      "learn_multisplits(): initial loss:    50927.79927459685\n",
      "learn_multisplits(): returning loss:  8.742050090332924\n",
      "================================\n",
      "learn_multisplits(): initial loss:    73685.6556741071\n",
      "learn_multisplits(): returning loss:  9.533101284695626\n",
      "================================\n",
      "learn_multisplits(): initial loss:    114079.38267661628\n",
      "learn_multisplits(): returning loss:  11.546669127552288\n",
      "================================\n",
      "learn_multisplits(): initial loss:    115597.78569344938\n",
      "learn_multisplits(): returning loss:  9.784003206094056\n",
      "================================\n",
      "learn_multisplits(): initial loss:    119803.8630252265\n",
      "learn_multisplits(): returning loss:  9.373845785532431\n",
      "================================\n",
      "learn_multisplits(): initial loss:    127937.10633563776\n",
      "learn_multisplits(): returning loss:  9.111747805295781\n",
      "================================\n",
      "learn_multisplits(): initial loss:    131177.11638530655\n",
      "learn_multisplits(): returning loss:  8.848981104274916\n",
      "================================\n",
      "learn_multisplits(): initial loss:    119338.60725655299\n",
      "learn_multisplits(): returning loss:  8.393359007709972\n",
      "================================\n",
      "learn_multisplits(): initial loss:    97199.96073874919\n",
      "learn_multisplits(): returning loss:  9.167036725595489\n",
      "================================\n",
      "learn_multisplits(): initial loss:    45739.871850608506\n",
      "learn_multisplits(): returning loss:  65.69983659204087\n",
      "================================\n",
      "learn_multisplits(): initial loss:    43753.159882629385\n",
      "learn_multisplits(): returning loss:  4.796273438283224\n",
      "================================\n",
      "learn_multisplits(): initial loss:    34957.56475208211\n",
      "learn_multisplits(): returning loss:  3.392374485731125\n",
      "================================\n",
      "learn_multisplits(): initial loss:    19448.887415281933\n",
      "learn_multisplits(): returning loss:  1.8723545288667083\n",
      "================================\n",
      "learn_multisplits(): initial loss:    15424.162642424104\n",
      "learn_multisplits(): returning loss:  1.4179341319249943\n",
      "================================\n",
      "learn_multisplits(): initial loss:    15278.67519305467\n"
     ]
    }
   ],
   "source": [
    "est3 = mm.estFactory(X_path=linearin_path_train, W_path=weightpath, Y_path=y_train, dir= dir_train, ncodebooks=ncodebooks, ncentroids=ncentroids, methods=[method], nbits=nbits, quantize_lut = quantize_lut)\n"
   ]
  },
  {
   "cell_type": "code",
   "execution_count": null,
   "metadata": {},
   "outputs": [],
   "source": [
    "x_test = np.load(dir_test+'/'+linearin_path_test)\n",
    "w_test = np.load(dir_train+'/'+weightpath)\n",
    "bias = np.load(dir_train+'/'+biaspath)\n",
    "# print(type(est3))\n",
    "y_out_matmul = mm.eval_matmul(est3, x_test, w_test) # MADDNESS乘法的结果\n",
    "# y_out_last = mu.softmax(y_out_matmul + bias.T) # MADDNESS替换后当前层输出，即+bias并激活函数后的结果\n",
    "y_out_last = y_out_matmul + bias.T # MADDNESS替换后当前层输出，即+bias并不需要激活函数后的结果"
   ]
  },
  {
   "cell_type": "code",
   "execution_count": null,
   "metadata": {},
   "outputs": [],
   "source": [
    "print(y_out_last)\n",
    "print(\"y_out_last.shape: \", y_out_last.shape)\n",
    "y_out_last_re = y_out_last.reshape(test_sam_num, batch_size, -1, y_out_last.shape[-1]) #AMM字典模式需要复原y大小\n",
    "print(\"y_out_last_re.shape: \", y_out_last_re.shape)\n",
    "if method == METHOD_EXACT:\n",
    "    train_sam_num = 0 # 训练集样本数\n",
    "if method == METHOD_SCALAR_QUANTIZE:\n",
    "    np.save(os.path.join(dir_result, '%s%s_trsam%i_tesam%i_fb%i_nbits%i.npy' % (method, linear_name, train_sam_num, test_sam_num, feedback_bits, nbits)), y_out_last_re.astype(np.float32))\n",
    "elif method == METHOD_MITHRAL:\n",
    "    np.save(os.path.join(dir_result, '%s%s_ql%s_trsam%i_tesam%i_fb%i_cb%i_ct%i.npy' % (method, linear_name, quantize_lut, train_sam_num, test_sam_num, feedback_bits, ncodebooks, ncentroids)), y_out_last_re)\n",
    "else:\n",
    "    np.save(os.path.join(dir_result, '%s%s_trsam%i_tesam%i_fb%i_cb%i_ct%i.npy' % (method, linear_name, train_sam_num, test_sam_num, feedback_bits, ncodebooks, ncentroids)), y_out_last_re)"
   ]
  },
  {
   "cell_type": "code",
   "execution_count": null,
   "metadata": {},
   "outputs": [],
   "source": []
  }
 ],
 "metadata": {
  "kernelspec": {
   "display_name": "Python 3.8.13 ('pqhdr')",
   "language": "python",
   "name": "python3"
  },
  "language_info": {
   "codemirror_mode": {
    "name": "ipython",
    "version": 3
   },
   "file_extension": ".py",
   "mimetype": "text/x-python",
   "name": "python",
   "nbconvert_exporter": "python",
   "pygments_lexer": "ipython3",
   "version": "3.8.13 (default, Mar 28 2022, 11:38:47) \n[GCC 7.5.0]"
  },
  "orig_nbformat": 4,
  "vscode": {
   "interpreter": {
    "hash": "ec04f7dc2b3ae4a422de9aaf96e8c62fe190a2869a08d14112cb2d7713497448"
   }
  }
 },
 "nbformat": 4,
 "nbformat_minor": 2
}
