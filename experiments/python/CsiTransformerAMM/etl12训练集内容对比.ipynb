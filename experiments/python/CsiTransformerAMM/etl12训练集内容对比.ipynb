{
 "cells": [
  {
   "cell_type": "code",
   "execution_count": 6,
   "metadata": {},
   "outputs": [],
   "source": [
    "import numpy as np\n",
    "import pandas as pd\n",
    "import openpyxl"
   ]
  },
  {
   "cell_type": "code",
   "execution_count": 10,
   "metadata": {},
   "outputs": [],
   "source": [
    "etl1in = np.load(\"/data/hdr/transformer_data/intermediate/256/ex_linear1in_f256_e39_0.npy\")\n",
    "etl1in = etl1in.reshape(-1, etl1in.shape[-1])\n",
    "etl1in_df = pd.DataFrame(etl1in)\n",
    "etl1in_df.to_excel('etl1in.xlsx',index=False)"
   ]
  },
  {
   "cell_type": "code",
   "execution_count": 11,
   "metadata": {},
   "outputs": [],
   "source": [
    "etl2in = np.load(\"/data/hdr/transformer_data/intermediate/256/ex_linear2in_f256_e39_0.npy\")\n",
    "etl2in = etl2in.reshape(-1, etl2in.shape[-1])\n",
    "etl2in_df = pd.DataFrame(etl2in)\n",
    "etl2in_df.to_excel('etl2in.xlsx',index=False)"
   ]
  }
 ],
 "metadata": {
  "kernelspec": {
   "display_name": "pqhdr",
   "language": "python",
   "name": "python3"
  },
  "language_info": {
   "codemirror_mode": {
    "name": "ipython",
    "version": 3
   },
   "file_extension": ".py",
   "mimetype": "text/x-python",
   "name": "python",
   "nbconvert_exporter": "python",
   "pygments_lexer": "ipython3",
   "version": "3.8.13"
  },
  "orig_nbformat": 4,
  "vscode": {
   "interpreter": {
    "hash": "ec04f7dc2b3ae4a422de9aaf96e8c62fe190a2869a08d14112cb2d7713497448"
   }
  }
 },
 "nbformat": 4,
 "nbformat_minor": 2
}
