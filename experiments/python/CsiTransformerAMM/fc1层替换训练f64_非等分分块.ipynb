{
 "cells": [
  {
   "cell_type": "code",
   "execution_count": 106,
   "metadata": {},
   "outputs": [],
   "source": [
    "import numpy as np\n",
    "import os\n",
    "import sys\n",
    "dir_now = os.getcwd()\n",
    "sys.path.append(dir_now)\n",
    "sys.path.append(os.path.join(dir_now, '../'))\n",
    "import matmul as mm\n",
    "import math_util as mu\n",
    "import scipy.io as io\n",
    "from amm_methods import *\n",
    "import socket # Obtain the current host name, which can be used to select different data directories and result saving directories"
   ]
  },
  {
   "cell_type": "code",
   "execution_count": 107,
   "metadata": {},
   "outputs": [],
   "source": [
    "method = METHOD_MITHRAL\n",
    "# method = METHOD_PQ\n",
    "# method = METHOD_EXACT\n",
    "# method = METHOD_SCALAR_QUANTIZE"
   ]
  },
  {
   "cell_type": "code",
   "execution_count": 108,
   "metadata": {},
   "outputs": [],
   "source": [
    "feedback_bits = 64\n",
    "ncodebooks=512\n",
    "# ncodebooks=128\n",
    "ncentroids=256\n",
    "if method == METHOD_MITHRAL:\n",
    "    ncentroids=16\n",
    "train_sam_num = 3000 # 训练集样本数\n",
    "split_Br_frac = [1/2,1/2] # 切分后B矩阵每分块的行数依次占总行数比例\n",
    "split_Bc_frac = [1/2,1/2] # 切分后B矩阵每分块的行数依次占总行数比例\n",
    "if sum(split_Br_frac)!=1 or sum(split_Bc_frac)!=1:\n",
    "    raise ValueError(\"split_Br_frac或split_Bc_frac的和必须为1\")\n",
    "n_split_Br = len(split_Br_frac) # A的列、B的行分割成n_split_Br份\n",
    "n_split_Bc = len(split_Bc_frac) # B的列分割成n_split_Bc份\n",
    "amm_ind_list = [(0, 0), (0, 1), (1, 0), (1, 1)]#[(0,0), (0, 1), (1, 0), (1, 1)] # 使用近似矩阵乘的小矩阵索引（针对矩阵B）\n",
    "# amm_ind_list = [(0, 0)]\n",
    "# amm_ind_list = [(0, 0), (0, 1), (1, 0), (1, 1), (2, 0), (2, 1), (3, 0), (4, 0)]\n",
    "amm_simple_ind_list = []\n",
    "for ind in amm_ind_list:\n",
    "    amm_simple_ind_list.append(ind[0]*n_split_Bc + ind[1])"
   ]
  },
  {
   "cell_type": "code",
   "execution_count": 109,
   "metadata": {},
   "outputs": [
    {
     "name": "stdout",
     "output_type": "stream",
     "text": [
      "/data/hdr/transformer_data/joined/train/f64/split_Br2_2_split_Bc2_2\n"
     ]
    }
   ],
   "source": [
    "host_name = socket.gethostname()\n",
    "if host_name == 'DESKTOP-PLRL7TK':\n",
    "    dir_train = 'E:\\\\hdr\\\\研一\\\\华为-深度学习\\\\intermediate\\\\intermediate8dbfc1'\n",
    "    dir_result = ''\n",
    "elif host_name == 'DESKTOP-6FOH47P':\n",
    "    dir_train = 'F:\\\\Projects\\\\python\\\\PQ\\\\intermediate8dbfc1'\n",
    "    dir_result = 'F:\\\\Projects\\\\python\\\\PQ\\\\res'\n",
    "    data_to_fcpath_train= 'data_to_fc_e39_7999.npy'\n",
    "    featurepath_train= 'feature_e39_7999.npy'\n",
    "    data_to_fcpath_test = 'data_to_fc_e39_7999.npy'\n",
    "    featurepath_test = 'feature_e39_7999.npy'\n",
    "elif host_name == 'jm-System-Product-Name':\n",
    "    dir_train = os.path.join('/data/hdr/transformer_data/joined', 'train', 'f'+str(feedback_bits))\n",
    "    dir_test = os.path.join('/data/hdr/transformer_data/joined', 'test', 'f'+str(feedback_bits))\n",
    "    dir_result = '/data/hdr/pq/res'\n",
    "    data_to_fcpath_train= 'data_to_fc_train_f%i_sam%i.npy' % (feedback_bits, train_sam_num)\n",
    "    y_train = 'y_train_f%i_sam%i.npy' % (feedback_bits, train_sam_num)\n",
    "    featurepath_train= 'feature_train_f%i_sam%i.npy' % (feedback_bits, train_sam_num)\n",
    "    data_to_fcpath_test = 'data_to_fc_test_f%i.npy' % feedback_bits\n",
    "    featurepath_test = 'feature_test_f%i.npy' % feedback_bits\n",
    "    y_test = 'y_test_f%i.npy' % feedback_bits\n",
    "else:\n",
    "    raise NameError(\"You are running the script in a new computer, please define dir_train\")\n",
    "\n",
    "# 将split_Br_frac和split_Bc_frac的内容都取1/x然后用\"_\"连接成字符串split_Br_frac_inv_str和split_Bc_frac_inv_str\n",
    "split_Br_frac_inv = [str(int(1/i)) for i in split_Br_frac]\n",
    "# print(split_Br_frac_inv)\n",
    "split_Br_frac_inv_str = '_'.join(split_Br_frac_inv)\n",
    "# print(split_Br_frac_inv_str)\n",
    "split_Bc_frac_inv = [str(int(1/i)) for i in split_Bc_frac]\n",
    "# print(split_Bc_frac_inv)\n",
    "split_Bc_frac_inv_str = '_'.join(split_Bc_frac_inv)\n",
    "# print(split_Bc_frac_inv_str)\n",
    "\n",
    "dir_train_split = os.path.join(dir_train, 'split_Br'+split_Br_frac_inv_str+'_split_Bc'+split_Bc_frac_inv_str)\n",
    "try:\n",
    "    os.mkdir(dir_train_split)\n",
    "except FileExistsError:\n",
    "    pass\n",
    "print(dir_train_split)\n",
    "dir_test_split = os.path.join(dir_test, 'split_Br'+split_Br_frac_inv_str+'_split_Bc'+split_Bc_frac_inv_str)\n",
    "try:\n",
    "    os.mkdir(dir_test_split)\n",
    "except FileExistsError:\n",
    "    pass \n",
    "dir_result = os.path.join(dir_result, method, \"f%i\" % feedback_bits, \"fc1\")\n",
    "try:\n",
    "    os.mkdir(dir_result)\n",
    "except FileExistsError:\n",
    "    pass \n",
    "\n",
    "weightpath = 'encoder_fcw_f%i.npy' % feedback_bits\n",
    "biaspath = 'encoder_fcb_f%i.npy' % feedback_bits\n",
    "\n",
    "# print(dir_result)\n"
   ]
  },
  {
   "cell_type": "markdown",
   "metadata": {},
   "source": [
    "### 切分训练集"
   ]
  },
  {
   "cell_type": "markdown",
   "metadata": {},
   "source": [
    "切分训练集A矩阵"
   ]
  },
  {
   "cell_type": "code",
   "execution_count": 110,
   "metadata": {},
   "outputs": [
    {
     "name": "stdout",
     "output_type": "stream",
     "text": [
      "(96000, 2048)\n"
     ]
    }
   ],
   "source": [
    "data_to_fc_train = np.load(os.path.join(dir_train, data_to_fcpath_train))\n",
    "print(data_to_fc_train.shape)\n",
    "Ab = data_to_fc_train.shape[1]\n",
    "# split_size_Ac = int(data_to_fc_train.shape[1] / n_split_Br) # split后每个分块训练集A的列数\n",
    "split_size_Ac = [int(i * Ab) for i in split_Br_frac] # split后每个分块训练集A的列数\n",
    "data_to_fc_train_split_path_list = []\n",
    "for i in range(n_split_Br):\n",
    "    data_to_fc_train_split_path_list.append(os.path.join(dir_train_split, 'data_to_fc1_train_f'+str(feedback_bits)+'_split'+str(n_split_Br)+'_'+str(i)+'.npy'))\n",
    "    np.save(data_to_fc_train_split_path_list[i], data_to_fc_train[np.ix_(range(data_to_fc_train.shape[0]), range(sum(split_size_Ac[:i]), sum(split_size_Ac[:(i+1)])))])"
   ]
  },
  {
   "cell_type": "markdown",
   "metadata": {},
   "source": [
    "切分训练集B矩阵"
   ]
  },
  {
   "cell_type": "code",
   "execution_count": 111,
   "metadata": {},
   "outputs": [
    {
     "name": "stdout",
     "output_type": "stream",
     "text": [
      "(2048, 64)\n"
     ]
    }
   ],
   "source": [
    "weight_train = np.load(os.path.join(dir_train, weightpath))\n",
    "print(weight_train.shape)\n",
    "Bb = weight_train.shape[1]\n",
    "split_size_Br = split_size_Ac # split后每个分块B的行数\n",
    "# split_size_Bc = int(weight_train.shape[1] / n_split_Bc) # split后B的列数\n",
    "split_size_Bc = [int(i * Bb) for i in split_Bc_frac] # split后每个分块训练集B的列数\n",
    "# split_total_num_B =  *  # B矩阵分成了多少块\n",
    "weight_train_split_path_list = []\n",
    "B_split_ind = 0 # B的分块的序号，从0开始\n",
    "for i in range(n_split_Br):\n",
    "    for j in range(n_split_Bc):\n",
    "        weight_train_split_path_list.append(os.path.join(dir_train_split, 'weight_fc1_train_f'+str(feedback_bits)+'_sr'+str(n_split_Br)+'_'+str(i)+'_sc'+str(n_split_Bc)+'_'+str(j)+'.npy'))\n",
    "        np.save(weight_train_split_path_list[i*n_split_Bc + j], weight_train[np.ix_(range(sum(split_size_Br[:i]), sum(split_size_Br[:(i+1)])), range(sum(split_size_Bc[:j]), sum(split_size_Bc[:(j+1)])))])\n",
    "        "
   ]
  },
  {
   "cell_type": "markdown",
   "metadata": {},
   "source": [
    "训练集A与B相乘"
   ]
  },
  {
   "cell_type": "code",
   "execution_count": 112,
   "metadata": {},
   "outputs": [],
   "source": [
    "y_train_split_path_list = []\n",
    "for i in range(n_split_Br):\n",
    "    for j in range(n_split_Bc):\n",
    "        y_train_split_path_list.append(os.path.join(dir_train_split, 'y_fc1_train_f'+str(feedback_bits)+'_sr'+str(n_split_Br)+'_'+str(i)+'_sc'+str(n_split_Bc)+'_'+str(j)+'.npy'))\n",
    "        xx = np.load(data_to_fc_train_split_path_list[i])\n",
    "        ww = np.load(weight_train_split_path_list[i*n_split_Bc + j])\n",
    "        np.save(y_train_split_path_list[i*n_split_Bc + j], np.matmul(xx, ww))"
   ]
  },
  {
   "cell_type": "markdown",
   "metadata": {},
   "source": [
    "### 切分测试集"
   ]
  },
  {
   "cell_type": "code",
   "execution_count": 113,
   "metadata": {},
   "outputs": [
    {
     "name": "stdout",
     "output_type": "stream",
     "text": [
      "(32000, 2048)\n"
     ]
    }
   ],
   "source": [
    "data_to_fc_test = np.load(os.path.join(dir_test, data_to_fcpath_test))\n",
    "print(data_to_fc_test.shape)\n",
    "# split_size = int(data_to_fc_train.shape[1] / split) # split后单个训练集A的列数\n",
    "data_to_fc_test_split_path_list = []\n",
    "for i in range(n_split_Br):\n",
    "    data_to_fc_test_split_path_list.append(os.path.join(dir_test_split, 'data_to_fc1_test_f'+str(feedback_bits)+'_split'+str(n_split_Br)+'_'+str(i)+'.npy'))\n",
    "    np.save(data_to_fc_test_split_path_list[i], data_to_fc_test[np.ix_(range(data_to_fc_test.shape[0]), range(sum(split_size_Ac[:i]), sum(split_size_Ac[:(i+1)])))])"
   ]
  },
  {
   "cell_type": "code",
   "execution_count": 114,
   "metadata": {},
   "outputs": [],
   "source": [
    "# # 输入与weight相乘\n",
    "# y_test_split_path_list = []\n",
    "# for i in range(split):\n",
    "#     y_test_split_path_list.append(os.path.join(dir_test_split, 'y_fc1_test_f'+str(feedback_bits)+'_split'+str(split)+'_'+str(i)+'.npy'))\n",
    "#     xx = np.load(data_to_fc_test_split_path_list[i])\n",
    "#     ww = np.load(weight_train_split_path_list[i])\n",
    "#     np.save(y_test_split_path_list[i], np.matmul(xx, ww))"
   ]
  },
  {
   "cell_type": "markdown",
   "metadata": {},
   "source": [
    "### AMM训练"
   ]
  },
  {
   "cell_type": "code",
   "execution_count": 115,
   "metadata": {},
   "outputs": [
    {
     "name": "stdout",
     "output_type": "stream",
     "text": [
      "==============================\n",
      "running method:  Mithral\n",
      "==============================\n",
      "running method:  Mithral\n",
      "==============================\n",
      "running method:  Mithral\n",
      "==============================\n",
      "running method:  Mithral\n"
     ]
    }
   ],
   "source": [
    "est_list = []\n",
    "for i in range(n_split_Br):\n",
    "    for j in range(n_split_Bc):\n",
    "        if (i, j) in amm_ind_list:\n",
    "            dir_est, X_path = os.path.split(data_to_fc_train_split_path_list[i])\n",
    "            dir_est, W_path = os.path.split(weight_train_split_path_list[i*n_split_Bc + j])\n",
    "            dir_est, Y_path = os.path.split(y_train_split_path_list[i*n_split_Bc + j])\n",
    "            est3 = mm.estFactory(X_path=X_path, W_path=W_path, Y_path=Y_path, dir= dir_est, ncodebooks=ncodebooks, ncentroids=ncentroids, methods=[method])\n",
    "            est_list.append(est3)\n",
    "\n",
    "\n",
    "\n",
    "# for i in range(split):\n",
    "#     dir_est, X_path = os.path.split(data_to_fc_train_split_path_list[i])\n",
    "#     dir_est, W_path = os.path.split(weight_train_split_path_list[i])\n",
    "#     dir_est, Y_path = os.path.split(y_train_split_path_list[i])\n",
    "#     est3 = mm.estFactory(X_path=X_path, W_path=W_path, Y_path=Y_path, dir= dir_est, ncodebooks=ncodebooks, ncentroids=ncentroids, methods=[method])\n",
    "#     est_list.append(est3)\n"
   ]
  },
  {
   "cell_type": "code",
   "execution_count": 116,
   "metadata": {},
   "outputs": [],
   "source": [
    "y_split_out_matmul_list = []\n",
    "i_est_list = 0 # est_list的索引\n",
    "for i in range(n_split_Br):\n",
    "    for j in range(n_split_Bc):\n",
    "        x_test = np.load(data_to_fc_test_split_path_list[i])\n",
    "        w_test = np.load(weight_train_split_path_list[i*n_split_Bc + j])\n",
    "        if (i, j) in amm_ind_list: # 用近似矩阵乘法的分块\n",
    "            y_split_out_matmul = mm.eval_matmul(est_list[i_est_list], x_test, w_test)\n",
    "            i_est_list += 1\n",
    "        else:\n",
    "            y_split_out_matmul = np.matmul(x_test, w_test)\n",
    "        y_split_out_matmul_list.append(y_split_out_matmul)"
   ]
  },
  {
   "cell_type": "code",
   "execution_count": 117,
   "metadata": {},
   "outputs": [],
   "source": [
    "# split 的矩阵结果合成\n",
    "# 先纵向相加\n",
    "sum_col_list = []\n",
    "for j in range(n_split_Bc):\n",
    "    sum_col = np.zeros((y_split_out_matmul_list[0].shape[0], split_size_Bc[j]))\n",
    "    for i in range(n_split_Br):\n",
    "        sum_col += y_split_out_matmul_list[i * n_split_Bc + j]\n",
    "    sum_col_list.append(sum_col)\n",
    "\n",
    "#再横向拼接\n",
    "y_out_matmul = sum_col_list[0]\n",
    "if n_split_Bc > 1:\n",
    "    for j in range(1, n_split_Bc):\n",
    "        y_out_matmul = np.append(y_out_matmul, sum_col_list[j], axis=1)\n"
   ]
  },
  {
   "cell_type": "code",
   "execution_count": 118,
   "metadata": {},
   "outputs": [],
   "source": [
    "bias = np.load(dir_train+'/'+biaspath)\n",
    "y_out_last = y_out_matmul + bias.T # MADDNESS替换后当前层输出，即+bias并不需要激活函数后的结果"
   ]
  },
  {
   "cell_type": "code",
   "execution_count": 119,
   "metadata": {},
   "outputs": [],
   "source": [
    "amm_simple_ind_str= ''\n",
    "for ind in amm_simple_ind_list:\n",
    "    amm_simple_ind_str += str(ind)\n",
    "\n",
    "# print(amm_simple_ind_str)"
   ]
  },
  {
   "cell_type": "code",
   "execution_count": 120,
   "metadata": {},
   "outputs": [
    {
     "name": "stdout",
     "output_type": "stream",
     "text": [
      "[[ 3.55745658e-01  2.51000746e-01  4.53836128e-01 ...  9.72551443e-02\n",
      "  -1.39708735e-01 -3.83671639e-01]\n",
      " [ 3.24434504e-01  7.83290399e-01 -1.41075805e-01 ...  7.86100555e-01\n",
      "  -3.58886831e-01 -7.90716645e-01]\n",
      " [ 1.13229603e-02  1.57067283e-01  5.79080775e-01 ...  9.11345158e-01\n",
      "  -1.08397581e-01  5.55662992e-01]\n",
      " ...\n",
      " [ 2.61812195e-01  5.11510996e-04 -1.72386959e-01 ...  5.66922460e-01\n",
      "   1.05011513e+00 -5.08916256e-01]\n",
      " [-8.34078252e-01 -3.07996434e-02  1.54799670e-02 ... -2.78478708e-01\n",
      "   1.68470368e-02 -3.83671639e-01]\n",
      " [ 4.18367967e-01  6.31338048e-02 -1.41075806e-01 ... -7.16834869e-01\n",
      "  -4.52820279e-01  3.05173774e-01]]\n",
      "(32000, 64)\n"
     ]
    }
   ],
   "source": [
    "print(y_out_last)\n",
    "print(y_out_last.shape)\n",
    "# np.save(\"LDPC_decoder_NET_testdata/\" + snr + \"nomul_matmul_yout_matmul\", y_out_matmul)\n",
    "# np.save(dir_result+'/'+method+'fc1_fb256_cb%i_ct%i.npy' % (ncodebooks, ncentroids), y_out_matmul)\n",
    "\n",
    "np.save(dir_result+'/'+method+'fc1_sr%s_sc%s_amm%s_fb%i_cb%i_ct%i.npy' % (split_Br_frac_inv_str, split_Bc_frac_inv_str, amm_simple_ind_str, feedback_bits, ncodebooks, ncentroids), y_out_last.astype(np.float32))\n",
    "# io.savemat(dir_result+'\\\\fc1_256.mat', {\"NN_output_buffer\": y_out_last})"
   ]
  },
  {
   "cell_type": "code",
   "execution_count": null,
   "metadata": {},
   "outputs": [],
   "source": []
  }
 ],
 "metadata": {
  "kernelspec": {
   "display_name": "Python 3.8.13 ('pqhdr')",
   "language": "python",
   "name": "python3"
  },
  "language_info": {
   "codemirror_mode": {
    "name": "ipython",
    "version": 3
   },
   "file_extension": ".py",
   "mimetype": "text/x-python",
   "name": "python",
   "nbconvert_exporter": "python",
   "pygments_lexer": "ipython3",
   "version": "3.8.13"
  },
  "orig_nbformat": 4,
  "vscode": {
   "interpreter": {
    "hash": "ec04f7dc2b3ae4a422de9aaf96e8c62fe190a2869a08d14112cb2d7713497448"
   }
  }
 },
 "nbformat": 4,
 "nbformat_minor": 2
}
