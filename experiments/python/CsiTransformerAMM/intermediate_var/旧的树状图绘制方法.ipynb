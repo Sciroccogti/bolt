{
 "cells": [
  {
   "attachments": {},
   "cell_type": "markdown",
   "metadata": {},
   "source": [
    "这种方法只能绘制根节点数值处于子节点之间的二叉树"
   ]
  },
  {
   "cell_type": "code",
   "execution_count": null,
   "metadata": {},
   "outputs": [],
   "source": [
    "# demo1: 简单测试示例\n",
    " \n",
    "# 导入指定类和函数\n",
    "from pybst.bstree import BSTree\n",
    "from pybst.draw import plot_tree\n",
    " \n",
    "# 创建一个树\n",
    "tree=BSTree()\n",
    " \n",
    "tree.insert(10, '')\n",
    "\"\"\"\n",
    "insert()方法说明: 增加一个节点(key为10, value为a), key 必须是数值, value 看起来没什么用, 直接赋空字符串即可.\n",
    "因为没有指定 parent 参数, 而且是第一个没有指定 parent 的调用, 所以新节点为根节点.\n",
    "在根节点生成后, 如调用 insert() 时仍没有指定 parent 的话, bst 包将按照二叉查找树的规则, 自动在合适的节点上增加子节点.\n",
    "但注意该函数返回值为空, 而不是新生成的节点, 要获得新节点, 需要使用get_node()方法.\n",
    "\"\"\"\n",
    " \n",
    "# 获取key=10的节点\n",
    "parent_node=tree.get_node(10)\n",
    " \n",
    "# 在key=10的节点上增加子节点, 因为bst包是二叉查找树, 所以如果三次指定了同一个parent_node, \n",
    "# 第3次新增的节点将是parent_node的孙子节点, 而不是直接子节点\n",
    "tree.insert(11, '', parent_node)\n",
    " \n",
    "# 二叉查找树可视化, 该树共两个节点: 10 和 11\n",
    "plot_tree(tree)"
   ]
  },
  {
   "cell_type": "code",
   "execution_count": null,
   "metadata": {},
   "outputs": [],
   "source": [
    "# demo2: 一个稍微复杂的示例\n",
    " \n",
    "# 创建一个树\n",
    "tree=BSTree()\n",
    "tree.insert(90, (0,0))\n",
    " \n",
    "node_90=tree.get_node_by_value((0,0))\n",
    "tree.insert(50, (1,0), node_90)\n",
    "tree.insert(150, (1,1), node_90)\n",
    " \n",
    "node_50=tree.get_node_by_value((1,0))\n",
    "tree.insert(20, (2,0), node_50)\n",
    "tree.insert(75, (2,1), node_50)\n",
    " \n",
    "node_20=tree.get_node_by_value((2,0))\n",
    "tree.insert(5, (3,0), node_20)\n",
    "tree.insert(25, (3,1), node_20)\n",
    " \n",
    "node_75=tree.get_node_by_value((2,1))\n",
    "tree.insert(66, (3,2), node_75)\n",
    "tree.insert(88, (3,3), node_75)\n",
    "# tree.insert(98, '', node_75) # 注意98这个节点将自动会接在88节点下, 而不是75节点下.\n",
    " \n",
    "# 二叉查找树可视化\n",
    "plot_tree(tree)"
   ]
  },
  {
   "cell_type": "code",
   "execution_count": null,
   "metadata": {},
   "outputs": [],
   "source": [
    "# 创建一个树\n",
    "tree=BSTree()\n",
    "tree.insert(p[0].vals[0], (0,0))\n",
    "\n",
    "for i in range(1, len(p)-4):# 树的层索引\n",
    "    for j in range(0, len(p[i].vals)): # 树当前层的节点索引\n",
    "        node=tree.get_node_by_value((i-1,int(j/2) if is_even(j) else int((j-1)/2)))\n",
    "        if p[i].vals[j] in [77,90,104,119]:\n",
    "            print((i-1,int(j/2) if is_even(j) else int((j-1)/2)))\n",
    "            print((i,j))\n",
    "        tree.insert(p[i].vals[j], (i,j), node)\n",
    "\n",
    "plot_tree(tree)"
   ]
  }
 ],
 "metadata": {
  "language_info": {
   "name": "python"
  },
  "orig_nbformat": 4
 },
 "nbformat": 4,
 "nbformat_minor": 2
}
