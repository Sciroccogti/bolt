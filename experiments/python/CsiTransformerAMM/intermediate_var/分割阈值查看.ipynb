{
 "cells": [
  {
   "cell_type": "code",
   "execution_count": 76,
   "metadata": {},
   "outputs": [],
   "source": [
    "import numpy as np\n",
    "import matplotlib.pyplot as plt\n",
    "from matplotlib.legend_handler import HandlerRegularPolyCollection # for legend change color\n",
    "# from matplotlib import rcParams, matplotlib_fname\n",
    "# # set the font to support Chinese characters\n",
    "# rcParams['font.sans-serif'] = ['SimHei']\n",
    "# # set the font size\n",
    "# rcParams['font.size'] = 12\n",
    "# # avoid using unicode minus sign\n",
    "# rcParams['axes.unicode_minus'] = False\n",
    "\n",
    "import seaborn as sns\n",
    "import os\n",
    "import sys\n",
    "\n",
    "# 获取当前文件所在的文件夹路径\n",
    "if \"__file__\" in globals():\n",
    "    # 获取__file__变量的值\n",
    "    file_path = __file__\n",
    "    # 获取当前文件所在的文件夹路径\n",
    "    dir_now = os.path.dirname(file_path)\n",
    "else:\n",
    "    # 获取当前工作目录\n",
    "    dir_now = os.getcwd()\n",
    "sys.path.append(os.path.join(dir_now, '../../'))\n",
    "sys.path.append(os.path.join(dir_now, '../'))\n",
    "\n",
    "from NNutils import *\n",
    "from amm_methods import *\n",
    "import pickle\n",
    "\n",
    "marker_list = [\"s\", \"o\", \"v\", \"*\", \"1\", \"+\", \"x\", \"D\", \"|\", \"^\", \"2\", \"P\", \"X\", \"d\", \"3\", \"4\", \"8\", \"p\", \"h\", \"H\", \"<\", \">\", \"d\", \"1\", \"v\", \"o\", \"s\", \"*\", \"+\", \"x\", \"D\", \"|\", \"^\", \"2\", \"P\", \"X\", \"d\", \"3\", \"4\", \"8\", \"p\", \"h\", \"H\", \"<\", \">\", \"d\", \"1\", \"v\", \"o\", \"s\", \"*\", \"+\", \"x\", \"D\", \"|\", \"^\", \"2\", \"P\", \"X\", \"d\", \"3\", \"4\", \"8\", \"p\", \"h\", \"H\", \"<\", \">\", \"d\", \"1\", \"v\", \"o\", \"s\", \"*\", \"+\", \"x\", \"D\", \"|\", \"^\", \"2\", \"P\", \"X\", \"d\", \"3\", \"4\", \"8\", \"p\", \"h\", \"H\", \"<\", \">\", \"d\", \"1\", \"v\", \"o\", \"s\", \"*\", \"+\", \"x\", \"D\", \"|\", \"^\", \"2\", \"P\", \"X\", \"d\", \"3\", \"4\", \"8\", \"p\", \"h\", \"H\", \"<\", \">\", \"d\", \"1\", \"v\", \"o\", \"s\", \"*\", \"+\", \"x\", \"D\", \"|\", \"^\", \"2\", \"P\", \"X\", \"d\", \"3\", \"4\", \"8\", \"p\", \"h\", \"H\", \"<\", \">\", \"d\", \"1\", \"v\", \"o\", \"s\", \"*\", \"+\", \"x\", \"D\", \"|\", \"^\", \"2\", \"P\", \"X\", \"d\", \"3\", \"4\", \"8\", \"p\", \"h\", \"H\", \"<\", \">\", \"d\", \"1\", \"v\", \"o\", \"s\", \"*\", \"+\", \"x\", \"D\", \"|\", \"^\", \"2\", \"P\", \"X\", \"d\", \"3\", \"4\", \"8\", \"p\", \"h\", \"H\", \"<\", \">\", \"d\", \"1\", \"v\", \"o\", \"s\", \"*\", \"+\", \"x\", \"D\", \"|\", \"^\", \"2\", \"P\", \"X\", \"d\",]\n",
    "colors_list = ['#F27970', '#BB9727', '#54B345', '#32B897', '#05B9E2',\n",
    "              '#8983BF', '#C76DA2', '#FFBE7A', '#82B0D2', '#BEB8DC',\n",
    "              '#E7DAD2', '#999999']\n",
    "cmap_list = ['Blues', 'Reds', 'Greens', 'Purples', 'Greys', 'Oranges']\n",
    "cmap_max_list = [(0.05636293733179547, 0.34963475586312953, 0.6367550941945406, 1.0), \n",
    "                 (0.4725720876585929, 0.016608996539792385, 0.059838523644752006, 1.0), \n",
    "                 (0.034986543637062675, 0.45743944636678197, 0.19753940792003075, 1.0), \n",
    "                 (0.2703114186851211, 0.043183391003460206, 0.5101268742791234, 1.0), \n",
    "                    (0.4, 0.4, 0.4, 1.0),\n",
    "                 (0.5412226066897348, 0.16955017301038064, 0.014579008073817762, 1.0)]\n"
   ]
  },
  {
   "cell_type": "code",
   "execution_count": 77,
   "metadata": {},
   "outputs": [],
   "source": [
    "def is_even(num):\n",
    "    return True if num % 2 == 0 else False\n",
    "def is_odd(num):\n",
    "    return True if num % 2 == 1 else False"
   ]
  },
  {
   "attachments": {},
   "cell_type": "markdown",
   "metadata": {},
   "source": [
    "## 分割阈值"
   ]
  },
  {
   "cell_type": "code",
   "execution_count": 78,
   "metadata": {},
   "outputs": [],
   "source": [
    "linear_name = 'etl1'\n",
    "feedback_bits = 256\n",
    "linear_name_full = \"ex_linear1\"\n",
    "method = METHOD_MITHRAL\n",
    "ncodebooks = 64 # max:64\n",
    "ncentroids = [128, 256, 512, 1024, 2048]\n",
    "D = 64\n",
    "train_sam_num = 1000 # 训练集样本数\n",
    "test_sam_num = 1000\n",
    "i_cb = 0 # 选择第几个codebook\n",
    "i_ncentroids = -5 # 选择第几个ncentroids\n"
   ]
  },
  {
   "cell_type": "code",
   "execution_count": 79,
   "metadata": {},
   "outputs": [],
   "source": [
    "AMM_train_dirs = get_AMM_train_dirs(linear_name, linear_name_full, method, feedback_bits, train_sam_num, test_sam_num)\n",
    "train_data = np.load(os.path.join(AMM_train_dirs[\"dir_train\"],AMM_train_dirs[\"linearin_path_train\"]))"
   ]
  },
  {
   "cell_type": "code",
   "execution_count": 80,
   "metadata": {},
   "outputs": [
    {
     "name": "stdout",
     "output_type": "stream",
     "text": [
      "64\n",
      "7\n"
     ]
    }
   ],
   "source": [
    "# 读取split\n",
    "pkl_path = os.path.join(dir_now, 'CsiTransformerAMM/intermediate_var/pkl/%s/CKD(%i, %i, %i)_split.pkl' \n",
    "                        % (linear_name, ncodebooks, ncentroids[i_ncentroids], D))\n",
    "fr = open(pkl_path, 'rb')\n",
    "splits = pickle.load(fr)\n",
    "fr.close()\n",
    "print(len(splits)) # 码本数\n",
    "print(len(splits[0])) # 质心数以二为底的对数"
   ]
  },
  {
   "cell_type": "code",
   "execution_count": 81,
   "metadata": {},
   "outputs": [
    {
     "name": "stdout",
     "output_type": "stream",
     "text": [
      "64\n",
      "128\n"
     ]
    }
   ],
   "source": [
    "# 读取bucket\n",
    "pkl_path = os.path.join(dir_now, 'CsiTransformerAMM/intermediate_var/pkl/%s/CKD(%i, %i, %i)_bucket.pkl'\n",
    "                        % (linear_name, ncodebooks, ncentroids[i_ncentroids], D))\n",
    "fr = open(pkl_path, 'rb')\n",
    "buckets = pickle.load(fr)\n",
    "fr.close()\n",
    "print(len(buckets)) # 码本数\n",
    "print(len(buckets[0])) # 质心数"
   ]
  },
  {
   "cell_type": "code",
   "execution_count": 82,
   "metadata": {},
   "outputs": [
    {
     "name": "stdout",
     "output_type": "stream",
     "text": [
      "-0.014990349300205708 \n",
      "-0.11582066118717194 0.11464808881282806 \n",
      "-0.19504396617412567 -0.06223146617412567 0.04714353382587433 0.21511228382587433 \n",
      "-0.26414626836776733 -0.15086501836776733 -0.08836501836776733 -0.037583768367767334 0.017103731632232666 0.07569748163223267 0.16163498163223267 0.29835373163223267 \n",
      "-0.3202134221792221 -0.2264634221792221 -0.1717759221792221 -0.1327134221792221 -0.1014634221792221 -0.0741196721792221 -0.05068217217922211 -0.027244672179222107 0.004005327820777893 0.03525532782077789 0.0625990778207779 0.0938490778207779 0.1368178278207779 0.1875990778207779 0.2540053278207779 0.3672865778207779 \n",
      "-0.37317535281181335 -0.29114410281181335 -0.24426910281181335 -0.20911285281181335 -0.18567535281181335 -0.16223785281181335 -0.14270660281181335 -0.12317535281181335 -0.10755035281181335 -0.09583160281181335 -0.08020660281181335 -0.06848785281181335 -0.056769102811813354 -0.045050352811813354 -0.033331602811813354 -0.021612852811813354 -0.0059878528118133545 0.009637147188186646 0.025262147188186646 0.040887147188186646 0.056512147188186646 0.06823089718818665 0.08776214718818665 0.10729339718818665 0.12682464718818665 0.14635589718818665 0.17369964718818665 0.20104339718818665 0.23619964718818665 0.27526214718818665 0.32994964718818665 0.41979339718818665 \n",
      "-0.4143245965242386 -0.3440120965242386 -0.3049495965242386 -0.2776058465242386 -0.2541683465242386 -0.2346370965242386 -0.2190120965242386 -0.2033870965242386 -0.1916683465242386 -0.1799495965242386 -0.1682308465242386 -0.1565120965242386 -0.1486995965242386 -0.1369808465242386 -0.1291683465242386 -0.12135584652423859 -0.11354334652423859 -0.10573084652423859 -0.09791834652423859 -0.09010584652423859 -0.08619959652423859 -0.07838709652423859 -0.07057459652423859 -0.06666834652423859 -0.058855846524238586 -0.051043346524238586 -0.047137096524238586 -0.039324596524238586 -0.035418346524238586 -0.027605846524238586 -0.023699596524238586 -0.019793346524238586 -0.011980846524238586 -0.0002620965242385864 0.007550403475761414 0.015362903475761414 0.023175403475761414 0.030987903475761414 0.038800403475761414 0.042706653475761414 0.050519153475761414 0.058331653475761414 0.06614415347576141 0.07395665347576141 0.08176915347576141 0.08958165347576141 0.10130040347576141 0.10911290347576141 0.12083165347576141 0.1325504034757614 0.1403629034757614 0.1559879034757614 0.1677066534757614 0.1794254034757614 0.1950504034757614 0.2106754034757614 0.2263004034757614 0.2458316534757614 0.2653629034757614 0.2888004034757614 0.3161441534757614 0.3473941534757614 0.3903629034757614 0.4645816534757614 \n"
     ]
    }
   ],
   "source": [
    "# 查看第i_cb个码本splits的值\n",
    "p=splits[i_cb]\n",
    "for p_i in p:\n",
    "    for v in p_i.vals:\n",
    "        # 不带换行\n",
    "        v_real = v/p_i.scaleby+ p_i.offset\n",
    "        print(v_real, end=' ')\n",
    "    #换行\n",
    "    print()"
   ]
  },
  {
   "cell_type": "code",
   "execution_count": 83,
   "metadata": {},
   "outputs": [],
   "source": [
    "buckets_cb = buckets[i_cb] # 第i_cb个码本的buckets\n",
    "# for i, bucket in enumerate(buckets_cb):\n",
    "#     # if len(bucket.point_ids) < 1: # 查看空的bucket\n",
    "#     #     print(\"bucket %i\" % i)\n",
    "#     #     print(len(bucket.point_ids))\n",
    "#     # 打印K个bucket中的存在的点的具体值\n",
    "#     if len(bucket.point_ids) > 0:\n",
    "#         print(\"bucket %i\" % i)\n",
    "#         print(len(bucket.point_ids))\n",
    "# 保存K个bucket中的存在的点的具体值，至txt文件\n",
    "with open(\"bucket_point_(%i, %i, %i)_cb%i.txt\" % (ncodebooks, ncentroids[i_ncentroids], D, i_cb), \"w\") as f:\n",
    "    for i, bucket in enumerate(buckets_cb):\n",
    "        if len(bucket.point_ids) > 0:\n",
    "            f.write(\"bucket %i\" % i)\n",
    "            f.write(\"\\n\")\n",
    "            f.write(str(len(bucket.point_ids)))\n",
    "            f.write(\"\\n\")\n",
    "            for point_id in bucket.point_ids:\n",
    "                f.write(str(train_data[point_id, 0]))\n",
    "                f.write(\" \")\n",
    "            f.write(\"\\n\")\n",
    "        else:\n",
    "            print(\"bucket %i\" % i) # 打印空的bucket\n",
    "            print(len(bucket.point_ids)) # 打印空的bucket的长度\n",
    "            f.write(\"bucket %i\" % i)\n",
    "            f.write(\"\\n\")\n",
    "            f.write(str(len(bucket.point_ids)))\n",
    "            f.write(\"\\n\")\n",
    "            f.write(\"\\n\")\n",
    "\n",
    "        "
   ]
  },
  {
   "cell_type": "code",
   "execution_count": 84,
   "metadata": {},
   "outputs": [],
   "source": [
    "# # demo1: 简单测试示例\n",
    " \n",
    "# # 导入指定类和函数\n",
    "# from pybst.bstree import BSTree\n",
    "# from pybst.draw import plot_tree\n",
    " \n",
    "# # 创建一个树\n",
    "# tree=BSTree()\n",
    " \n",
    "# tree.insert(10, '')\n",
    "# \"\"\"\n",
    "# insert()方法说明: 增加一个节点(key为10, value为a), key 必须是数值, value 看起来没什么用, 直接赋空字符串即可.\n",
    "# 因为没有指定 parent 参数, 而且是第一个没有指定 parent 的调用, 所以新节点为根节点.\n",
    "# 在根节点生成后, 如调用 insert() 时仍没有指定 parent 的话, bst 包将按照二叉查找树的规则, 自动在合适的节点上增加子节点.\n",
    "# 但注意该函数返回值为空, 而不是新生成的节点, 要获得新节点, 需要使用get_node()方法.\n",
    "# \"\"\"\n",
    " \n",
    "# # 获取key=10的节点\n",
    "# parent_node=tree.get_node(10)\n",
    " \n",
    "# # 在key=10的节点上增加子节点, 因为bst包是二叉查找树, 所以如果三次指定了同一个parent_node, \n",
    "# # 第3次新增的节点将是parent_node的孙子节点, 而不是直接子节点\n",
    "# tree.insert(11, '', parent_node)\n",
    " \n",
    "# # 二叉查找树可视化, 该树共两个节点: 10 和 11\n",
    "# plot_tree(tree)"
   ]
  },
  {
   "cell_type": "code",
   "execution_count": 85,
   "metadata": {},
   "outputs": [],
   "source": [
    "# # demo2: 一个稍微复杂的示例\n",
    " \n",
    "# # 创建一个树\n",
    "# tree=BSTree()\n",
    "# tree.insert(90, (0,0))\n",
    " \n",
    "# node_90=tree.get_node_by_value((0,0))\n",
    "# tree.insert(50, (1,0), node_90)\n",
    "# tree.insert(150, (1,1), node_90)\n",
    " \n",
    "# node_50=tree.get_node_by_value((1,0))\n",
    "# tree.insert(20, (2,0), node_50)\n",
    "# tree.insert(75, (2,1), node_50)\n",
    " \n",
    "# node_20=tree.get_node_by_value((2,0))\n",
    "# tree.insert(5, (3,0), node_20)\n",
    "# tree.insert(25, (3,1), node_20)\n",
    " \n",
    "# node_75=tree.get_node_by_value((2,1))\n",
    "# tree.insert(66, (3,2), node_75)\n",
    "# tree.insert(88, (3,3), node_75)\n",
    "# # tree.insert(98, '', node_75) # 注意98这个节点将自动会接在88节点下, 而不是75节点下.\n",
    " \n",
    "# # 二叉查找树可视化\n",
    "# plot_tree(tree)"
   ]
  },
  {
   "cell_type": "code",
   "execution_count": 86,
   "metadata": {},
   "outputs": [],
   "source": [
    "# # demo2: 一个稍微复杂的示例\n",
    " \n",
    "# # 创建一个树\n",
    "# tree=BSTree()\n",
    "# tree.insert(90, (0,0))\n",
    " \n",
    "# node_90=tree.get_node_by_value((0,0))\n",
    "# tree.insert(50, (1,0), node_90)\n",
    "# tree.insert(150, (1,1), node_90)\n",
    " \n",
    "# node_50=tree.get_node_by_value((1,0))\n",
    "# tree.insert(20, (2,0), node_50)\n",
    "# tree.insert(75, (2,1), node_50)\n",
    " \n",
    "# node_20=tree.get_node_by_value((2,0))\n",
    "# tree.insert(5, (3,0), node_20)\n",
    "# tree.insert(25, (3,1), node_20)\n",
    " \n",
    "# node_75=tree.get_node_by_value((2,1))\n",
    "# tree.insert(66, (3,2), node_75)\n",
    "# tree.insert(88, (3,3), node_75)\n",
    "# # tree.insert(98, '', node_75) # 注意98这个节点将自动会接在88节点下, 而不是75节点下.\n",
    " \n",
    "# # 二叉查找树可视化\n",
    "# plot_tree(tree)\n"
   ]
  },
  {
   "cell_type": "code",
   "execution_count": 87,
   "metadata": {},
   "outputs": [
    {
     "name": "stdout",
     "output_type": "stream",
     "text": [
      "64\n",
      "[ 51 110]\n",
      "[ 41  75 103 146]\n",
      "[ 32  61  77  90 104 119 141 176]\n",
      "[ 25  49  63  73  81  88  94 100 108 116 123 131 142 155 172 201]\n",
      "[ 18  39  51  60  66  72  77  82  86  89  93  96  99 102 105 108 112 116\n",
      " 120 124 128 131 136 141 146 151 158 165 174 184 198 221]\n",
      "[ 13  31  41  48  54  59  63  67  70  73  76  79  81  84  86  88  90  92\n",
      "  94  96  97  99 101 102 104 106 107 109 110 112 113 114 116 119 121 123\n",
      " 125 127 129 130 132 134 136 138 140 142 145 147 150 153 155 159 162 165\n",
      " 169 173 177 182 187 193 200 208 219 238]\n"
     ]
    },
    {
     "ename": "IndexError",
     "evalue": "list index out of range",
     "output_type": "error",
     "traceback": [
      "\u001b[0;31m---------------------------------------------------------------------------\u001b[0m",
      "\u001b[0;31mIndexError\u001b[0m                                Traceback (most recent call last)",
      "Cell \u001b[0;32mIn[87], line 8\u001b[0m\n\u001b[1;32m      6\u001b[0m \u001b[39mprint\u001b[39m(p[\u001b[39m5\u001b[39m]\u001b[39m.\u001b[39mvals)\n\u001b[1;32m      7\u001b[0m \u001b[39mprint\u001b[39m(p[\u001b[39m6\u001b[39m]\u001b[39m.\u001b[39mvals)\n\u001b[0;32m----> 8\u001b[0m \u001b[39mprint\u001b[39m(p[\u001b[39m7\u001b[39;49m]\u001b[39m.\u001b[39mvals\u001b[39m*\u001b[39m\u001b[39m256\u001b[39m\u001b[39m/\u001b[39m p[\u001b[39m7\u001b[39m]\u001b[39m.\u001b[39mscaleby)\n",
      "\u001b[0;31mIndexError\u001b[0m: list index out of range"
     ]
    }
   ],
   "source": [
    "print(p[0].vals[0])\n",
    "print(p[1].vals)\n",
    "print(p[2].vals)\n",
    "print(p[3].vals)\n",
    "print(p[4].vals)\n",
    "print(p[5].vals)\n",
    "print(p[6].vals)\n",
    "print(p[7].vals*256/ p[7].scaleby)"
   ]
  },
  {
   "cell_type": "code",
   "execution_count": null,
   "metadata": {},
   "outputs": [
    {
     "name": "stdout",
     "output_type": "stream",
     "text": [
      "x: 0 , p_x.scaleby: 256.0\n",
      "x: 1 , p_x.scaleby: 256.0\n",
      "x: 2 , p_x.scaleby: 256.0\n",
      "x: 3 , p_x.scaleby: 256.0\n",
      "x: 4 , p_x.scaleby: 256.0\n",
      "x: 5 , p_x.scaleby: 256.0\n",
      "x: 6 , p_x.scaleby: 256.0\n",
      "x: 7 , p_x.scaleby: 128.0\n"
     ]
    }
   ],
   "source": [
    "i = 0\n",
    "for p_x in p:\n",
    "    # print(p_x.scaleby)\n",
    "    print(\"x:\", i, \", p_x.scaleby:\", p_x.scaleby)\n",
    "    i += 1"
   ]
  },
  {
   "cell_type": "code",
   "execution_count": null,
   "metadata": {},
   "outputs": [
    {
     "name": "stdout",
     "output_type": "stream",
     "text": [
      "当前显示分割阈值二叉树的第6层和它的子节点\n",
      "父节点：-0.414325, 子节点-0.449360,-0.394673\n",
      "父节点：-0.344012, 子节点-0.355610,-0.332173\n",
      "父节点：-0.304950, 子节点-0.316548,-0.300923\n",
      "父节点：-0.277606, 子节点-0.285298,-0.269673\n",
      "父节点：-0.254168, 子节点-0.261860,-0.254048\n",
      "父节点：-0.234637, 子节点-0.238423,-0.230610\n",
      "父节点：-0.219012, 子节点-0.222798,-0.214985\n",
      "父节点：-0.203387, 子节点-0.207173,-0.199360\n",
      "父节点：-0.191668, 子节点-0.191548,-0.191548\n",
      "父节点：-0.179950, 子节点-0.183735,-0.175923\n",
      "父节点：-0.168231, 子节点-0.175923,-0.168110\n",
      "父节点：-0.156512, 子节点-0.160298,-0.152485\n",
      "父节点：-0.148700, 子节点-0.152485,-0.144673\n",
      "父节点：-0.136981, 子节点-0.144673,-0.136860\n",
      "父节点：-0.129168, 子节点-0.136860,-0.129048\n",
      "父节点：-0.121356, 子节点-0.121235,-0.121235\n",
      "父节点：-0.113543, 子节点-0.113423,-0.113423\n",
      "父节点：-0.105731, 子节点-0.105610,-0.105610\n",
      "父节点：-0.097918, 子节点-0.097798,-0.097798\n",
      "父节点：-0.090106, 子节点-0.097798,-0.089985\n",
      "父节点：-0.086200, 子节点-0.089985,-0.082173\n",
      "父节点：-0.078387, 子节点-0.082173,-0.074360\n",
      "父节点：-0.070575, 子节点-0.074360,-0.074360\n",
      "父节点：-0.066668, 子节点-0.066548,-0.066548\n",
      "父节点：-0.058856, 子节点-0.058735,-0.058735\n",
      "父节点：-0.051043, 子节点-0.058735,-0.050923\n",
      "父节点：-0.047137, 子节点-0.050923,-0.043110\n",
      "父节点：-0.039325, 子节点-0.043110,-0.043110\n",
      "父节点：-0.035418, 子节点-0.035298,-0.035298\n",
      "父节点：-0.027606, 子节点-0.035298,-0.027485\n",
      "父节点：-0.023700, 子节点-0.027485,-0.027485\n",
      "父节点：-0.019793, 子节点-0.019673,-0.019673\n",
      "父节点：-0.011981, 子节点-0.011860,-0.011860\n",
      "父节点：-0.000262, 子节点-0.004048,-0.004048\n",
      "父节点：0.007550, 子节点0.003765,0.003765\n",
      "父节点：0.015363, 子节点0.011577,0.011577\n",
      "父节点：0.023175, 子节点0.019390,0.019390\n",
      "父节点：0.030988, 子节点0.027202,0.027202\n",
      "父节点：0.038800, 子节点0.035015,0.035015\n",
      "父节点：0.042707, 子节点0.042827,0.042827\n",
      "父节点：0.050519, 子节点0.050640,0.050640\n",
      "父节点：0.058332, 子节点0.058452,0.058452\n",
      "父节点：0.066144, 子节点0.058452,0.066265\n",
      "父节点：0.073957, 子节点0.066265,0.074077\n",
      "父节点：0.081769, 子节点0.074077,0.081890\n",
      "父节点：0.089582, 子节点0.089702,0.089702\n",
      "父节点：0.101300, 子节点0.097515,0.097515\n",
      "父节点：0.109113, 子节点0.105327,0.113140\n",
      "父节点：0.120832, 子节点0.113140,0.120952\n",
      "父节点：0.132550, 子节点0.128765,0.128765\n",
      "父节点：0.140363, 子节点0.136577,0.144390\n",
      "父节点：0.155988, 子节点0.152202,0.152202\n",
      "父节点：0.167707, 子节点0.160015,0.167827\n",
      "父节点：0.179425, 子节点0.175640,0.183452\n",
      "父节点：0.195050, 子节点0.191265,0.199077\n",
      "父节点：0.210675, 子节点0.206890,0.214702\n",
      "父节点：0.226300, 子节点0.222515,0.230327\n",
      "父节点：0.245832, 子节点0.238140,0.245952\n",
      "父节点：0.265363, 子节点0.253765,0.269390\n",
      "父节点：0.288800, 子节点0.277202,0.292827\n",
      "父节点：0.316144, 子节点0.308452,0.324077\n",
      "父节点：0.347394, 子节点0.339702,0.355327\n",
      "父节点：0.390363, 子节点0.378765,0.402202\n",
      "父节点：0.464582, 子节点0.441265,0.495952\n"
     ]
    }
   ],
   "source": [
    "base_i = 6 # 2^base_i个split\n",
    "print(f\"当前显示分割阈值二叉树的第{base_i}层和它的子节点\")\n",
    "p_base = p[base_i].vals/ p[base_i].scaleby + p[base_i].offset\n",
    "p_child = p[base_i+1].vals/ p[base_i+1].scaleby + p[base_i+1].offset\n",
    "for i, p_base_item in enumerate(p_base):\n",
    "    p_child_i = [2*i, 2*i+1]# p_base的每个split对应的孩子的index\n",
    "    print(\"父节点：%.6f, 子节点%.6f,%.6f\" % (p_base[i], p_child[p_child_i[0]], p_child[p_child_i[1]]))"
   ]
  },
  {
   "cell_type": "code",
   "execution_count": null,
   "metadata": {},
   "outputs": [],
   "source": [
    "# # 创建一个树\n",
    "# tree=BSTree()\n",
    "# tree.insert(p[0].vals[0], (0,0))\n",
    "\n",
    "# for i in range(1, len(p)-4):# 树的层索引\n",
    "#     for j in range(0, len(p[i].vals)): # 树当前层的节点索引\n",
    "#         node=tree.get_node_by_value((i-1,int(j/2) if is_even(j) else int((j-1)/2)))\n",
    "#         if p[i].vals[j] in [77,90,104,119]:\n",
    "#             print((i-1,int(j/2) if is_even(j) else int((j-1)/2)))\n",
    "#             print((i,j))\n",
    "#         tree.insert(p[i].vals[j], (i,j), node)\n",
    "\n",
    "# plot_tree(tree)"
   ]
  },
  {
   "cell_type": "code",
   "execution_count": null,
   "metadata": {},
   "outputs": [],
   "source": []
  }
 ],
 "metadata": {
  "kernelspec": {
   "display_name": "Python 3",
   "language": "python",
   "name": "python3"
  },
  "language_info": {
   "codemirror_mode": {
    "name": "ipython",
    "version": 3
   },
   "file_extension": ".py",
   "mimetype": "text/x-python",
   "name": "python",
   "nbconvert_exporter": "python",
   "pygments_lexer": "ipython3",
   "version": "3.10.9"
  },
  "orig_nbformat": 4,
  "vscode": {
   "interpreter": {
    "hash": "3862f9e4f9adfe471d0cfb8974c7ced68c0a2c741b0095dbf74fd3651c38c3e8"
   }
  }
 },
 "nbformat": 4,
 "nbformat_minor": 2
}
