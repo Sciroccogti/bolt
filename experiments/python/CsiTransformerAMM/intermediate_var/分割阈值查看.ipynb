{
 "cells": [
  {
   "cell_type": "code",
   "execution_count": 1,
   "metadata": {},
   "outputs": [
    {
     "name": "stderr",
     "output_type": "stream",
     "text": [
      "/shared/conda/envs/bolt/lib/python3.10/site-packages/tqdm/auto.py:22: TqdmWarning: IProgress not found. Please update jupyter and ipywidgets. See https://ipywidgets.readthedocs.io/en/stable/user_install.html\n",
      "  from .autonotebook import tqdm as notebook_tqdm\n"
     ]
    }
   ],
   "source": [
    "import numpy as np\n",
    "import matplotlib.pyplot as plt\n",
    "from matplotlib.legend_handler import HandlerRegularPolyCollection # for legend change color\n",
    "# from matplotlib import rcParams, matplotlib_fname\n",
    "# # set the font to support Chinese characters\n",
    "# rcParams['font.sans-serif'] = ['SimHei']\n",
    "# # set the font size\n",
    "# rcParams['font.size'] = 12\n",
    "# # avoid using unicode minus sign\n",
    "# rcParams['axes.unicode_minus'] = False\n",
    "\n",
    "import seaborn as sns\n",
    "import os\n",
    "import sys\n",
    "\n",
    "# 获取当前文件所在的文件夹路径\n",
    "if \"__file__\" in globals():\n",
    "    # 获取__file__变量的值\n",
    "    file_path = __file__\n",
    "    # 获取当前文件所在的文件夹路径\n",
    "    dir_now = os.path.dirname(file_path)\n",
    "else:\n",
    "    # 获取当前工作目录\n",
    "    dir_now = os.getcwd()\n",
    "sys.path.append(os.path.join(dir_now, '../../'))\n",
    "sys.path.append(os.path.join(dir_now, '../'))\n",
    "\n",
    "from NNutils import *\n",
    "from amm_methods import *\n",
    "import pickle\n",
    "\n",
    "marker_list = [\"s\", \"o\", \"v\", \"*\", \"1\", \"+\", \"x\", \"D\", \"|\", \"^\", \"2\", \"P\", \"X\", \"d\", \"3\", \"4\", \"8\", \"p\", \"h\", \"H\", \"<\", \">\", \"d\", \"1\", \"v\", \"o\", \"s\", \"*\", \"+\", \"x\", \"D\", \"|\", \"^\", \"2\", \"P\", \"X\", \"d\", \"3\", \"4\", \"8\", \"p\", \"h\", \"H\", \"<\", \">\", \"d\", \"1\", \"v\", \"o\", \"s\", \"*\", \"+\", \"x\", \"D\", \"|\", \"^\", \"2\", \"P\", \"X\", \"d\", \"3\", \"4\", \"8\", \"p\", \"h\", \"H\", \"<\", \">\", \"d\", \"1\", \"v\", \"o\", \"s\", \"*\", \"+\", \"x\", \"D\", \"|\", \"^\", \"2\", \"P\", \"X\", \"d\", \"3\", \"4\", \"8\", \"p\", \"h\", \"H\", \"<\", \">\", \"d\", \"1\", \"v\", \"o\", \"s\", \"*\", \"+\", \"x\", \"D\", \"|\", \"^\", \"2\", \"P\", \"X\", \"d\", \"3\", \"4\", \"8\", \"p\", \"h\", \"H\", \"<\", \">\", \"d\", \"1\", \"v\", \"o\", \"s\", \"*\", \"+\", \"x\", \"D\", \"|\", \"^\", \"2\", \"P\", \"X\", \"d\", \"3\", \"4\", \"8\", \"p\", \"h\", \"H\", \"<\", \">\", \"d\", \"1\", \"v\", \"o\", \"s\", \"*\", \"+\", \"x\", \"D\", \"|\", \"^\", \"2\", \"P\", \"X\", \"d\", \"3\", \"4\", \"8\", \"p\", \"h\", \"H\", \"<\", \">\", \"d\", \"1\", \"v\", \"o\", \"s\", \"*\", \"+\", \"x\", \"D\", \"|\", \"^\", \"2\", \"P\", \"X\", \"d\", \"3\", \"4\", \"8\", \"p\", \"h\", \"H\", \"<\", \">\", \"d\", \"1\", \"v\", \"o\", \"s\", \"*\", \"+\", \"x\", \"D\", \"|\", \"^\", \"2\", \"P\", \"X\", \"d\",]\n",
    "colors_list = ['#F27970', '#BB9727', '#54B345', '#32B897', '#05B9E2',\n",
    "              '#8983BF', '#C76DA2', '#FFBE7A', '#82B0D2', '#BEB8DC',\n",
    "              '#E7DAD2', '#999999']\n",
    "cmap_list = ['Blues', 'Reds', 'Greens', 'Purples', 'Greys', 'Oranges']\n",
    "cmap_max_list = [(0.05636293733179547, 0.34963475586312953, 0.6367550941945406, 1.0), \n",
    "                 (0.4725720876585929, 0.016608996539792385, 0.059838523644752006, 1.0), \n",
    "                 (0.034986543637062675, 0.45743944636678197, 0.19753940792003075, 1.0), \n",
    "                 (0.2703114186851211, 0.043183391003460206, 0.5101268742791234, 1.0), \n",
    "                    (0.4, 0.4, 0.4, 1.0),\n",
    "                 (0.5412226066897348, 0.16955017301038064, 0.014579008073817762, 1.0)]\n"
   ]
  },
  {
   "cell_type": "code",
   "execution_count": 2,
   "metadata": {},
   "outputs": [],
   "source": [
    "def is_even(num):\n",
    "    return True if num % 2 == 0 else False\n",
    "def is_odd(num):\n",
    "    return True if num % 2 == 1 else False"
   ]
  },
  {
   "attachments": {},
   "cell_type": "markdown",
   "metadata": {},
   "source": [
    "## 分割阈值"
   ]
  },
  {
   "cell_type": "code",
   "execution_count": 3,
   "metadata": {},
   "outputs": [],
   "source": [
    "linear_name = 'etl1'\n",
    "feedback_bits = 256\n",
    "linear_name_full = \"ex_linear1\"\n",
    "method = METHOD_MITHRAL\n",
    "ncodebooks = 64 # max:64\n",
    "ncentroids = [128, 256, 512, 1024, 2048]\n",
    "D = 64\n",
    "train_sam_num = 1000 # 训练集样本数\n",
    "test_sam_num = 1000\n",
    "i_cb = 53 # 选择第几个codebook\n",
    "i_ncentroids = 0 # 选择第几个ncentroids\n"
   ]
  },
  {
   "cell_type": "code",
   "execution_count": 4,
   "metadata": {},
   "outputs": [],
   "source": [
    "AMM_train_dirs = get_AMM_train_dirs(linear_name, linear_name_full, method, feedback_bits, train_sam_num, test_sam_num)\n",
    "train_data = np.load(os.path.join(AMM_train_dirs[\"dir_train\"],AMM_train_dirs[\"linearin_path_train\"]))"
   ]
  },
  {
   "cell_type": "code",
   "execution_count": 5,
   "metadata": {},
   "outputs": [
    {
     "name": "stdout",
     "output_type": "stream",
     "text": [
      "64\n",
      "7\n"
     ]
    }
   ],
   "source": [
    "# 读取split\n",
    "pkl_path = os.path.join(dir_now, 'CsiTransformerAMM/intermediate_var/pkl/%s/CKD(%i, %i, %i)_split_N%i.pkl' \n",
    "                        % (linear_name, ncodebooks, ncentroids[i_ncentroids], D, train_sam_num * batch_N_dict[linear_name]))\n",
    "fr = open(pkl_path, 'rb')\n",
    "splits = pickle.load(fr)\n",
    "fr.close()\n",
    "print(len(splits)) # 码本数\n",
    "print(len(splits[0])) # 质心数以二为底的对数"
   ]
  },
  {
   "cell_type": "code",
   "execution_count": 6,
   "metadata": {},
   "outputs": [
    {
     "name": "stdout",
     "output_type": "stream",
     "text": [
      "64\n",
      "128\n"
     ]
    }
   ],
   "source": [
    "# 读取bucket\n",
    "pkl_path = os.path.join(dir_now, 'CsiTransformerAMM/intermediate_var/pkl/%s/CKD(%i, %i, %i)_bucket_N%i.pkl'\n",
    "                        % (linear_name, ncodebooks, ncentroids[i_ncentroids], D, train_sam_num * batch_N_dict[linear_name]))\n",
    "fr = open(pkl_path, 'rb')\n",
    "buckets = pickle.load(fr)\n",
    "fr.close()\n",
    "print(len(buckets)) # 码本数\n",
    "print(len(buckets[0])) # 质心数"
   ]
  },
  {
   "cell_type": "code",
   "execution_count": 7,
   "metadata": {},
   "outputs": [
    {
     "name": "stdout",
     "output_type": "stream",
     "text": [
      "0.4521618187427521 \n",
      "0.23634111881256104 0.634778618812561 \n",
      "0.06226803734898567 0.33570553734898567 0.5544555373489857 0.6403930373489857 \n",
      "-0.1420036107301712 0.1548713892698288 0.2876838892698288 0.3970588892698288 0.5064338892698288 0.5923713892698288 -0.0013786107301712036 0.6392463892698288 \n",
      "-0.35766254365444183 -0.021725043654441833 0.11108745634555817 0.19702495634555817 0.25952495634555817 0.31421245634555817 0.36889995634555817 0.42358745634555817 0.47827495634555817 0.5329624563455582 0.5642124563455582 0.6345249563455582 -0.0061000436544418335 -0.0061000436544418335 -0.0061000436544418335 0.6345249563455582 \n",
      "-0.5455603301525116 -0.2408728301525116 -0.0768103301525116 0.024752169847488403 0.0872521698474884 0.1341271698474884 0.1810021698474884 0.2200646698474884 0.2513146698474884 0.2747521698474884 0.2981896698474884 0.3216271698474884 0.3528771698474884 0.3763146698474884 0.4075646698474884 0.4310021698474884 0.4622521698474884 0.4856896698474884 0.5169396698474884 0.5403771698474884 0.5560021698474884 0.5950646698474884 0.6341271698474884 0.6341271698474884 -0.006497830152511597 -0.006497830152511597 -0.006497830152511597 -0.006497830152511597 -0.006497830152511597 -0.006497830152511597 -0.006497830152511597 0.6341271698474884 \n",
      "-0.6988314390182495 -0.4410189390182495 -0.2925814390182495 -0.1910189390182495 -0.10508143901824951 -0.05039393901824951 0.004293560981750488 0.04335606098175049 0.07460606098175049 0.09804356098175049 0.12148106098175049 0.1449185609817505 0.1683560609817505 0.1917935609817505 0.2074185609817505 0.2230435609817505 0.2464810609817505 0.2542935609817505 0.2699185609817505 0.2777310609817505 0.2933560609817505 0.3089810609817505 0.3167935609817505 0.3324185609817505 0.3480435609817505 0.3558560609817505 0.3714810609817505 0.3871060609817505 0.4027310609817505 0.4105435609817505 0.4261685609817505 0.4417935609817505 0.4574185609817505 0.4730435609817505 0.4808560609817505 0.4964810609817505 0.5121060609817505 0.5199185609817505 0.5355435609817505 0.5433560609817505 0.5589810609817505 0.5589810609817505 0.5902310609817505 0.5902310609817505 0.6371060609817505 -0.0035189390182495117 0.6371060609817505 0.6371060609817505 -0.0035189390182495117 -0.0035189390182495117 -0.0035189390182495117 -0.0035189390182495117 -0.0035189390182495117 -0.0035189390182495117 -0.0035189390182495117 -0.0035189390182495117 -0.0035189390182495117 -0.0035189390182495117 -0.0035189390182495117 -0.0035189390182495117 -0.0035189390182495117 -0.0035189390182495117 -0.0035189390182495117 0.6371060609817505 \n"
     ]
    }
   ],
   "source": [
    "# 查看第i_cb个码本splits的值\n",
    "p=splits[i_cb]\n",
    "for p_i in p:\n",
    "    for v in p_i.vals:\n",
    "        # 不带换行\n",
    "        v_real = v/p_i.scaleby+ p_i.offset\n",
    "        print(v_real, end=' ')\n",
    "    #换行\n",
    "    print()"
   ]
  },
  {
   "cell_type": "code",
   "execution_count": 8,
   "metadata": {},
   "outputs": [
    {
     "name": "stdout",
     "output_type": "stream",
     "text": [
      "bucket 85\n",
      "0\n",
      "bucket 89\n",
      "0\n",
      "bucket 90\n",
      "0\n",
      "bucket 91\n",
      "0\n",
      "bucket 97\n",
      "0\n",
      "bucket 98\n",
      "0\n",
      "bucket 99\n",
      "0\n",
      "bucket 100\n",
      "0\n",
      "bucket 101\n",
      "0\n",
      "bucket 102\n",
      "0\n",
      "bucket 103\n",
      "0\n",
      "bucket 104\n",
      "0\n",
      "bucket 105\n",
      "0\n",
      "bucket 106\n",
      "0\n",
      "bucket 107\n",
      "0\n",
      "bucket 108\n",
      "0\n",
      "bucket 109\n",
      "0\n",
      "bucket 110\n",
      "0\n",
      "bucket 111\n",
      "0\n",
      "bucket 113\n",
      "0\n",
      "bucket 114\n",
      "0\n",
      "bucket 115\n",
      "0\n",
      "bucket 116\n",
      "0\n",
      "bucket 117\n",
      "0\n",
      "bucket 118\n",
      "0\n",
      "bucket 119\n",
      "0\n",
      "bucket 121\n",
      "0\n",
      "bucket 122\n",
      "0\n",
      "bucket 123\n",
      "0\n",
      "bucket 125\n",
      "0\n"
     ]
    }
   ],
   "source": [
    "buckets_cb = buckets[i_cb] # 第i_cb个码本的buckets\n",
    "# for i, bucket in enumerate(buckets_cb):\n",
    "#     # if len(bucket.point_ids) < 1: # 查看空的bucket\n",
    "#     #     print(\"bucket %i\" % i)\n",
    "#     #     print(len(bucket.point_ids))\n",
    "#     # 打印K个bucket中的存在的点的具体值\n",
    "#     if len(bucket.point_ids) > 0:\n",
    "#         print(\"bucket %i\" % i)\n",
    "#         print(len(bucket.point_ids))\n",
    "# 保存K个bucket中的存在的点的具体值，至txt文件\n",
    "last_max = -np.inf\n",
    "max_i = -1\n",
    "with open(\"bucket_point_(%i, %i, %i)_cb%i.txt\" % (ncodebooks, ncentroids[i_ncentroids], D, i_cb), \"w\") as f:\n",
    "    for i, bucket in enumerate(buckets_cb):\n",
    "        if len(bucket.point_ids) > 0:\n",
    "            f.write(\"bucket %i\" % i)\n",
    "            f.write(\"\\n\")\n",
    "            f.write(str(len(bucket.point_ids)))\n",
    "            f.write(\"\\n\")\n",
    "            buc_min = np.inf\n",
    "            buc_max = -np.inf\n",
    "            for point_id in bucket.point_ids:\n",
    "                point_val = train_data[point_id, i_cb]\n",
    "                f.write(str(point_val))\n",
    "                f.write(\" \")\n",
    "                if point_val < buc_min:\n",
    "                    buc_min = point_val\n",
    "                if point_val > buc_max:\n",
    "                    buc_max = point_val\n",
    "            f.write(\"\\n\")\n",
    "            f.write(\"min: %f, max: %f, max-min: %f\\n\" % (buc_min, buc_max, buc_max-buc_min))\n",
    "            if last_max > buc_min: # 如果之前的bucket有超过现在的bucket的值\n",
    "                raise ValueError(\"last_max > buc_min: %f > %f, index: %i, %i\" % (last_max, buc_min, max_i, i))\n",
    "            if buc_max > last_max:\n",
    "                last_max = buc_max # 前面所有bucket的最大值\n",
    "                max_i = i\n",
    "            f.write(\"col_sum_sqs:\\n\")\n",
    "            for sum_sqs in bucket.col_sum_sqs():\n",
    "                f.write(str(sum_sqs))\n",
    "                f.write(\" \")\n",
    "            f.write(\"\\n\")\n",
    "        else:\n",
    "            print(\"bucket %i\" % i) # 打印空的bucket\n",
    "            print(len(bucket.point_ids)) # 打印空的bucket的长度\n",
    "            f.write(\"bucket %i\" % i)\n",
    "            f.write(\"\\n\")\n",
    "            f.write(str(len(bucket.point_ids)))\n",
    "            f.write(\"\\n\")\n",
    "            f.write(\"\\n\")\n",
    "            f.write(\"\\n\")\n",
    "            f.write(\"\\n\")\n",
    "            f.write(\"\\n\")\n",
    "\n",
    "        "
   ]
  },
  {
   "cell_type": "code",
   "execution_count": 9,
   "metadata": {},
   "outputs": [],
   "source": [
    "# # demo1: 简单测试示例\n",
    " \n",
    "# # 导入指定类和函数\n",
    "# from pybst.bstree import BSTree\n",
    "# from pybst.draw import plot_tree\n",
    " \n",
    "# # 创建一个树\n",
    "# tree=BSTree()\n",
    " \n",
    "# tree.insert(10, '')\n",
    "# \"\"\"\n",
    "# insert()方法说明: 增加一个节点(key为10, value为a), key 必须是数值, value 看起来没什么用, 直接赋空字符串即可.\n",
    "# 因为没有指定 parent 参数, 而且是第一个没有指定 parent 的调用, 所以新节点为根节点.\n",
    "# 在根节点生成后, 如调用 insert() 时仍没有指定 parent 的话, bst 包将按照二叉查找树的规则, 自动在合适的节点上增加子节点.\n",
    "# 但注意该函数返回值为空, 而不是新生成的节点, 要获得新节点, 需要使用get_node()方法.\n",
    "# \"\"\"\n",
    " \n",
    "# # 获取key=10的节点\n",
    "# parent_node=tree.get_node(10)\n",
    " \n",
    "# # 在key=10的节点上增加子节点, 因为bst包是二叉查找树, 所以如果三次指定了同一个parent_node, \n",
    "# # 第3次新增的节点将是parent_node的孙子节点, 而不是直接子节点\n",
    "# tree.insert(11, '', parent_node)\n",
    " \n",
    "# # 二叉查找树可视化, 该树共两个节点: 10 和 11\n",
    "# plot_tree(tree)"
   ]
  },
  {
   "cell_type": "code",
   "execution_count": 10,
   "metadata": {},
   "outputs": [],
   "source": [
    "# # demo2: 一个稍微复杂的示例\n",
    " \n",
    "# # 创建一个树\n",
    "# tree=BSTree()\n",
    "# tree.insert(90, (0,0))\n",
    " \n",
    "# node_90=tree.get_node_by_value((0,0))\n",
    "# tree.insert(50, (1,0), node_90)\n",
    "# tree.insert(150, (1,1), node_90)\n",
    " \n",
    "# node_50=tree.get_node_by_value((1,0))\n",
    "# tree.insert(20, (2,0), node_50)\n",
    "# tree.insert(75, (2,1), node_50)\n",
    " \n",
    "# node_20=tree.get_node_by_value((2,0))\n",
    "# tree.insert(5, (3,0), node_20)\n",
    "# tree.insert(25, (3,1), node_20)\n",
    " \n",
    "# node_75=tree.get_node_by_value((2,1))\n",
    "# tree.insert(66, (3,2), node_75)\n",
    "# tree.insert(88, (3,3), node_75)\n",
    "# # tree.insert(98, '', node_75) # 注意98这个节点将自动会接在88节点下, 而不是75节点下.\n",
    " \n",
    "# # 二叉查找树可视化\n",
    "# plot_tree(tree)"
   ]
  },
  {
   "cell_type": "code",
   "execution_count": 11,
   "metadata": {},
   "outputs": [],
   "source": [
    "# # demo2: 一个稍微复杂的示例\n",
    " \n",
    "# # 创建一个树\n",
    "# tree=BSTree()\n",
    "# tree.insert(90, (0,0))\n",
    " \n",
    "# node_90=tree.get_node_by_value((0,0))\n",
    "# tree.insert(50, (1,0), node_90)\n",
    "# tree.insert(150, (1,1), node_90)\n",
    " \n",
    "# node_50=tree.get_node_by_value((1,0))\n",
    "# tree.insert(20, (2,0), node_50)\n",
    "# tree.insert(75, (2,1), node_50)\n",
    " \n",
    "# node_20=tree.get_node_by_value((2,0))\n",
    "# tree.insert(5, (3,0), node_20)\n",
    "# tree.insert(25, (3,1), node_20)\n",
    " \n",
    "# node_75=tree.get_node_by_value((2,1))\n",
    "# tree.insert(66, (3,2), node_75)\n",
    "# tree.insert(88, (3,3), node_75)\n",
    "# # tree.insert(98, '', node_75) # 注意98这个节点将自动会接在88节点下, 而不是75节点下.\n",
    " \n",
    "# # 二叉查找树可视化\n",
    "# plot_tree(tree)\n"
   ]
  },
  {
   "cell_type": "code",
   "execution_count": 12,
   "metadata": {},
   "outputs": [
    {
     "name": "stdout",
     "output_type": "stream",
     "text": [
      "x: 0 , p_x.vals: [178.]\n",
      "x: 1 , p_x.vals: [150. 252.]\n",
      "x: 2 , p_x.vals: [128. 198. 254. 276.]\n",
      "x: 3 , p_x.vals: [102. 178. 212. 240. 268. 290. 138. 302.]\n",
      "x: 4 , p_x.vals: [ 74. 160. 194. 216. 232. 246. 260. 274. 288. 302. 310. 328. 164. 164.\n",
      " 164. 328.]\n",
      "x: 5 , p_x.vals: [ 50. 128. 170. 196. 212. 224. 236. 246. 254. 260. 266. 272. 280. 286.\n",
      " 294. 300. 308. 314. 322. 328. 332. 342. 352. 352. 188. 188. 188. 188.\n",
      " 188. 188. 188. 352.]\n",
      "x: 6 , p_x.vals: [ 30.  96. 134. 160. 182. 196. 210. 220. 228. 234. 240. 246. 252. 258.\n",
      " 262. 266. 272. 274. 278. 280. 284. 288. 290. 294. 298. 300. 304. 308.\n",
      " 312. 314. 318. 322. 326. 330. 332. 336. 340. 342. 346. 348. 352. 352.\n",
      " 360. 360. 372. 208. 372. 372. 208. 208. 208. 208. 208. 208. 208. 208.\n",
      " 208. 208. 208. 208. 208. 208. 208. 372.]\n"
     ]
    }
   ],
   "source": [
    "i = 0\n",
    "for p_x in p:\n",
    "    # print(p_x.scaleby)\n",
    "    print(\"x:\", i, \", p_x.vals:\", p_x.vals*256/p_x.scaleby)\n",
    "    i += 1"
   ]
  },
  {
   "cell_type": "code",
   "execution_count": 13,
   "metadata": {},
   "outputs": [
    {
     "name": "stdout",
     "output_type": "stream",
     "text": [
      "x: 0 , p_x.scaleby: 128.0\n",
      "x: 1 , p_x.scaleby: 128.0\n",
      "x: 2 , p_x.scaleby: 128.0\n",
      "x: 3 , p_x.scaleby: 128.0\n",
      "x: 4 , p_x.scaleby: 128.0\n",
      "x: 5 , p_x.scaleby: 128.0\n",
      "x: 6 , p_x.scaleby: 128.0\n"
     ]
    }
   ],
   "source": [
    "i = 0\n",
    "for p_x in p:\n",
    "    # print(p_x.scaleby)\n",
    "    print(\"x:\", i, \", p_x.scaleby:\", p_x.scaleby)\n",
    "    i += 1"
   ]
  },
  {
   "cell_type": "code",
   "execution_count": 14,
   "metadata": {},
   "outputs": [
    {
     "name": "stdout",
     "output_type": "stream",
     "text": [
      "当前显示分割阈值二叉树的第5层和它的子节点\n",
      "父节点：-0.545560, 子节点-0.698831,-0.441019\n",
      "父节点：-0.240873, 子节点-0.292581,-0.191019\n",
      "父节点：-0.076810, 子节点-0.105081,-0.050394\n",
      "父节点：0.024752, 子节点0.004294,0.043356\n",
      "父节点：0.087252, 子节点0.074606,0.098044\n",
      "父节点：0.134127, 子节点0.121481,0.144919\n",
      "父节点：0.181002, 子节点0.168356,0.191794\n",
      "父节点：0.220065, 子节点0.207419,0.223044\n",
      "父节点：0.251315, 子节点0.246481,0.254294\n",
      "父节点：0.274752, 子节点0.269919,0.277731\n",
      "父节点：0.298190, 子节点0.293356,0.308981\n",
      "父节点：0.321627, 子节点0.316794,0.332419\n",
      "父节点：0.352877, 子节点0.348044,0.355856\n",
      "父节点：0.376315, 子节点0.371481,0.387106\n",
      "父节点：0.407565, 子节点0.402731,0.410544\n",
      "父节点：0.431002, 子节点0.426169,0.441794\n",
      "父节点：0.462252, 子节点0.457419,0.473044\n",
      "父节点：0.485690, 子节点0.480856,0.496481\n",
      "父节点：0.516940, 子节点0.512106,0.519919\n",
      "父节点：0.540377, 子节点0.535544,0.543356\n",
      "父节点：0.556002, 子节点0.558981,0.558981\n",
      "父节点：0.595065, 子节点0.590231,0.590231\n",
      "父节点：0.634127, 子节点0.637106,-0.003519\n",
      "父节点：0.634127, 子节点0.637106,0.637106\n",
      "父节点：-0.006498, 子节点-0.003519,-0.003519\n",
      "父节点：-0.006498, 子节点-0.003519,-0.003519\n",
      "父节点：-0.006498, 子节点-0.003519,-0.003519\n",
      "父节点：-0.006498, 子节点-0.003519,-0.003519\n",
      "父节点：-0.006498, 子节点-0.003519,-0.003519\n",
      "父节点：-0.006498, 子节点-0.003519,-0.003519\n",
      "父节点：-0.006498, 子节点-0.003519,-0.003519\n",
      "父节点：0.634127, 子节点-0.003519,0.637106\n"
     ]
    }
   ],
   "source": [
    "base_i = 5 if ncentroids[i_ncentroids] < 256 else 6 # 2^base_i个split\n",
    "print(f\"当前显示分割阈值二叉树的第{base_i}层和它的子节点\")\n",
    "p_base = p[base_i].vals/ p[base_i].scaleby + p[base_i].offset\n",
    "p_child = p[base_i+1].vals/ p[base_i+1].scaleby + p[base_i+1].offset\n",
    "for i, p_base_item in enumerate(p_base):\n",
    "    p_child_i = [2*i, 2*i+1]# p_base的每个split对应的孩子的index\n",
    "    print(\"父节点：%.6f, 子节点%.6f,%.6f\" % (p_base[i], p_child[p_child_i[0]], p_child[p_child_i[1]]))"
   ]
  },
  {
   "cell_type": "code",
   "execution_count": 15,
   "metadata": {},
   "outputs": [],
   "source": [
    "# # 创建一个树\n",
    "# tree=BSTree()\n",
    "# tree.insert(p[0].vals[0], (0,0))\n",
    "\n",
    "# for i in range(1, len(p)-4):# 树的层索引\n",
    "#     for j in range(0, len(p[i].vals)): # 树当前层的节点索引\n",
    "#         node=tree.get_node_by_value((i-1,int(j/2) if is_even(j) else int((j-1)/2)))\n",
    "#         if p[i].vals[j] in [77,90,104,119]:\n",
    "#             print((i-1,int(j/2) if is_even(j) else int((j-1)/2)))\n",
    "#             print((i,j))\n",
    "#         tree.insert(p[i].vals[j], (i,j), node)\n",
    "\n",
    "# plot_tree(tree)"
   ]
  },
  {
   "cell_type": "code",
   "execution_count": null,
   "metadata": {},
   "outputs": [],
   "source": []
  }
 ],
 "metadata": {
  "kernelspec": {
   "display_name": "Python 3",
   "language": "python",
   "name": "python3"
  },
  "language_info": {
   "codemirror_mode": {
    "name": "ipython",
    "version": 3
   },
   "file_extension": ".py",
   "mimetype": "text/x-python",
   "name": "python",
   "nbconvert_exporter": "python",
   "pygments_lexer": "ipython3",
   "version": "3.10.9"
  },
  "orig_nbformat": 4,
  "vscode": {
   "interpreter": {
    "hash": "3862f9e4f9adfe471d0cfb8974c7ced68c0a2c741b0095dbf74fd3651c38c3e8"
   }
  }
 },
 "nbformat": 4,
 "nbformat_minor": 2
}
