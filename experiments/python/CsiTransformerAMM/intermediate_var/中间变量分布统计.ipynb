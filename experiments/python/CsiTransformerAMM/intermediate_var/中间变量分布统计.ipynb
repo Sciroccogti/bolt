{
 "cells": [
  {
   "cell_type": "code",
   "execution_count": 8,
   "metadata": {},
   "outputs": [],
   "source": [
    "import numpy as np\n",
    "import matplotlib.pyplot as plt\n",
    "import seaborn as sns\n",
    "import os\n",
    "import sys\n",
    "# 获取当前文件所在的文件夹路径\n",
    "if \"__file__\" in globals():\n",
    "    # 获取__file__变量的值\n",
    "    file_path = __file__\n",
    "    # 获取当前文件所在的文件夹路径\n",
    "    dir_now = os.path.dirname(file_path)\n",
    "else:\n",
    "    # 获取当前工作目录\n",
    "    dir_now = os.getcwd()\n",
    "sys.path.append(os.path.join(dir_now, '../../'))\n",
    "sys.path.append(os.path.join(dir_now, '../'))\n",
    "from NNutils import *\n",
    "from amm_methods import *"
   ]
  },
  {
   "cell_type": "markdown",
   "metadata": {},
   "source": [
    "## 统计数据集"
   ]
  },
  {
   "cell_type": "code",
   "execution_count": 9,
   "metadata": {},
   "outputs": [],
   "source": [
    "linear_name = 'etl2'\n",
    "feedback_bits = 256\n",
    "linear_name_full = \"ex_linear2\"\n",
    "method = METHOD_MITHRAL\n",
    "ncodebooks = 256 # max:512\n",
    "ncentroids = 32\n",
    "train_sam_num = 1000 # 训练集样本数\n",
    "test_sam_num = 1000\n"
   ]
  },
  {
   "cell_type": "code",
   "execution_count": 10,
   "metadata": {},
   "outputs": [],
   "source": [
    "AMM_train_dirs = get_AMM_train_dirs(linear_name, linear_name_full, method, feedback_bits, train_sam_num, test_sam_num)\n",
    "train_data = np.load(os.path.join(AMM_train_dirs[\"dir_train\"],AMM_train_dirs[\"linearin_path_train\"]))\n",
    "test_data = np.load(os.path.join(AMM_train_dirs[\"dir_test\"],AMM_train_dirs[\"linearin_path_test\"]))"
   ]
  },
  {
   "cell_type": "code",
   "execution_count": 16,
   "metadata": {},
   "outputs": [],
   "source": [
    "D = train_data.shape[1]\n",
    "DC = int(D / ncodebooks)\n",
    "n = 0\n",
    "train_data_n_cb = train_data[:,n*DC:(n+1)*DC]\n"
   ]
  },
  {
   "cell_type": "code",
   "execution_count": 19,
   "metadata": {},
   "outputs": [
    {
     "name": "stdout",
     "output_type": "stream",
     "text": [
      "0.42258874\n",
      "0.0\n"
     ]
    }
   ],
   "source": [
    "# get the max and min values of the matrix\n",
    "max_value = train_data_n_cb.max()\n",
    "min_value = train_data_n_cb.min()\n",
    "print(max_value)\n",
    "print(min_value)"
   ]
  },
  {
   "cell_type": "code",
   "execution_count": 26,
   "metadata": {},
   "outputs": [],
   "source": [
    "# create a boolean mask by comparing with zero\n",
    "mask = train_data_n_cb != 0\n",
    "\n",
    "# apply the mask to filter out zero elements\n",
    "train_data_n_cb_no0 = train_data_n_cb[mask]\n"
   ]
  },
  {
   "cell_type": "code",
   "execution_count": 27,
   "metadata": {},
   "outputs": [
    {
     "data": {
      "image/png": "[encoded data removed]",
      "text/plain": [
       "<Figure size 640x480 with 1 Axes>"
      ]
     },
     "metadata": {},
     "output_type": "display_data"
    }
   ],
   "source": [
    "\n",
    "# plot a histogram of the matrix elements with 10 bins\n",
    "plt.hist(train_data_n_cb_no0.flatten(), bins=30, range=(min_value, max_value))\n",
    "plt.show()"
   ]
  },
  {
   "cell_type": "markdown",
   "metadata": {},
   "source": [
    "## 统计质心"
   ]
  },
  {
   "cell_type": "code",
   "execution_count": null,
   "metadata": {},
   "outputs": [
    {
     "ename": "TypeError",
     "evalue": "load() missing 1 required positional argument: 'file'",
     "output_type": "error",
     "traceback": [
      "\u001b[0;31m---------------------------------------------------------------------------\u001b[0m",
      "\u001b[0;31mTypeError\u001b[0m                                 Traceback (most recent call last)",
      "Cell \u001b[0;32mIn[6], line 1\u001b[0m\n\u001b[0;32m----> 1\u001b[0m centroid \u001b[39m=\u001b[39m np\u001b[39m.\u001b[39;49mload()\n",
      "\u001b[0;31mTypeError\u001b[0m: load() missing 1 required positional argument: 'file'"
     ]
    }
   ],
   "source": [
    "centroid = np.load()\n"
   ]
  }
 ],
 "metadata": {
  "kernelspec": {
   "display_name": "Python 3",
   "language": "python",
   "name": "python3"
  },
  "language_info": {
   "codemirror_mode": {
    "name": "ipython",
    "version": 3
   },
   "file_extension": ".py",
   "mimetype": "text/x-python",
   "name": "python",
   "nbconvert_exporter": "python",
   "pygments_lexer": "ipython3",
   "version": "3.10.9"
  },
  "orig_nbformat": 4
 },
 "nbformat": 4,
 "nbformat_minor": 2
}
