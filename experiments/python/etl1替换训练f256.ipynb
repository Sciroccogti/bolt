{
 "cells": [
  {
   "cell_type": "markdown",
   "metadata": {},
   "source": [
    "encoder transformer层的linear1层（etl1）替换为近似矩阵乘法"
   ]
  },
  {
   "cell_type": "code",
   "execution_count": 1,
   "metadata": {},
   "outputs": [],
   "source": [
    "import numpy as np\n",
    "import os\n",
    "import matmul as mm\n",
    "import math_util as mu\n",
    "from NNutils import *\n",
    "import scipy.io as io\n",
    "from amm_methods import *\n",
    "import socket # Obtain the current host name, which can be used to select different data directories and result saving directories"
   ]
  },
  {
   "cell_type": "code",
   "execution_count": 2,
   "metadata": {},
   "outputs": [],
   "source": [
    "method = METHOD_MITHRAL\n",
    "# method = METHOD_PQ\n",
    "# method = METHOD_EXACT\n",
    "# method = METHOD_SCALAR_QUANTIZE\n",
    "nbits = 4"
   ]
  },
  {
   "cell_type": "code",
   "execution_count": 3,
   "metadata": {},
   "outputs": [],
   "source": [
    "linear_name = \"etl1\"\n",
    "linear_name_full = \"ex_linear1\"\n",
    "feedback_bits = 256\n",
    "ncodebooks = 16 # max:64\n",
    "ncentroids = 256\n",
    "# if method == METHOD_MITHRAL:\n",
    "#     ncentroids = 16\n",
    "train_sam_num = 250 # 训练集样本数\n",
    "test_sam_num = 1000 # 测试集样本数\n",
    "batch_size = 32\n",
    "if method == METHOD_EXACT:\n",
    "    ncodebooks = 0\n",
    "    ncentroids = 0"
   ]
  },
  {
   "cell_type": "code",
   "execution_count": 4,
   "metadata": {},
   "outputs": [],
   "source": [
    "host_name = socket.gethostname()\n",
    "if host_name == 'DESKTOP-PLRL7TK':\n",
    "    dir_train = 'E:\\\\hdr\\\\研一\\\\华为-深度学习\\\\intermediate\\\\intermediate8dbfc1'\n",
    "    dir_result = ''\n",
    "elif host_name == 'DESKTOP-6FOH47P':\n",
    "    dir_train = 'F:\\\\Projects\\\\python\\\\PQ\\\\intermediate8dbfc1'\n",
    "    dir_result = 'F:\\\\Projects\\\\python\\\\PQ\\\\res'\n",
    "    linearin_path_train= ''\n",
    "    linearout_path_train= ''\n",
    "    linearin_path_test = ''\n",
    "    linearout_path_test = ''\n",
    "elif host_name == 'jm-System-Product-Name':\n",
    "    dir_joined = '/data/hdr/transformer_data/joined'\n",
    "    dir_train = os.path.join(dir_joined, 'train', 'f'+str(feedback_bits))\n",
    "    dir_test = os.path.join(dir_joined, 'test', 'f'+str(feedback_bits))\n",
    "    dir_result = '/data/hdr/pq/res'\n",
    "    linearin_path_train= '%sin_train_f%i_sam%i.npy' % (linear_name_full, feedback_bits, train_sam_num)\n",
    "    y_train = '%s_y_train_f%i_sam%i.npy' % (linear_name_full, feedback_bits, train_sam_num)\n",
    "    linearout_path_train= '%sout_train_f%i_sam%i.npy' % (linear_name_full, feedback_bits, train_sam_num)\n",
    "    linearin_path_test = '%sin_test_f%i_sam%i.npy' % (linear_name_full, feedback_bits, test_sam_num)\n",
    "    linearout_path_test = '%sout_test_f%i_sam%i.npy' % (linear_name_full, feedback_bits, test_sam_num)\n",
    "else:\n",
    "    raise NameError(\"You are running the script in a new computer %s, please define dirs\" % host_name)\n",
    "\n",
    "\n",
    "weightpath = '%s_w_f%i.npy' % (linear_name_full, feedback_bits)\n",
    "biaspath = '%s_b_f%i.npy' % (linear_name_full, feedback_bits)\n",
    "dir_result = os.path.join(dir_result, method, \"f%i\" % feedback_bits, linear_name)\n",
    "try:\n",
    "    os.mkdir(dir_result)\n",
    "except FileNotFoundError:\n",
    "    os.makedirs(dir_result)\n",
    "except FileExistsError:\n",
    "    pass \n"
   ]
  },
  {
   "cell_type": "code",
   "execution_count": 5,
   "metadata": {},
   "outputs": [],
   "source": [
    "dataset_prepare(dir_joined, linear_name_full, feedback_bits, [train_sam_num, test_sam_num], batch_size, S1 = S1)"
   ]
  },
  {
   "cell_type": "code",
   "execution_count": 6,
   "metadata": {},
   "outputs": [
    {
     "name": "stdout",
     "output_type": "stream",
     "text": [
      "==============================\n",
      "running method:  Mithral\n",
      "_learn_mithral_initialization heuristic pq\n",
      "================================\n",
      "learn_multisplits(): initial loss:    6575.721211212877\n",
      "learn_multisplits(): returning loss:  668.9090533033013\n",
      "================================\n",
      "learn_multisplits(): initial loss:    9961.621111606059\n",
      "learn_multisplits(): returning loss:  1161.2792363408953\n",
      "================================\n",
      "learn_multisplits(): initial loss:    35586.14871557069\n",
      "learn_multisplits(): returning loss:  3936.073377729709\n",
      "================================\n",
      "learn_multisplits(): initial loss:    39788.90234938542\n",
      "learn_multisplits(): returning loss:  3368.9217665083706\n",
      "================================\n",
      "learn_multisplits(): initial loss:    12005.640384041488\n",
      "learn_multisplits(): returning loss:  1209.5321292728186\n",
      "================================\n",
      "learn_multisplits(): initial loss:    4902.752618937343\n",
      "learn_multisplits(): returning loss:  638.4197876155376\n",
      "================================\n",
      "learn_multisplits(): initial loss:    3260.960031088978\n",
      "learn_multisplits(): returning loss:  407.60520566254854\n",
      "================================\n",
      "learn_multisplits(): initial loss:    3863.0107275768896\n",
      "learn_multisplits(): returning loss:  441.8834553062916\n",
      "================================\n",
      "learn_multisplits(): initial loss:    6503.020269755448\n",
      "learn_multisplits(): returning loss:  469.3003523796797\n",
      "================================\n",
      "learn_multisplits(): initial loss:    6232.482775999295\n",
      "learn_multisplits(): returning loss:  865.7337625864893\n",
      "================================\n",
      "learn_multisplits(): initial loss:    23009.26827222028\n",
      "learn_multisplits(): returning loss:  2743.1339851363523\n",
      "================================\n",
      "learn_multisplits(): initial loss:    41936.74451887797\n",
      "learn_multisplits(): returning loss:  3567.202263239197\n",
      "================================\n",
      "learn_multisplits(): initial loss:    18771.96006897013\n",
      "learn_multisplits(): returning loss:  1637.6856803148985\n",
      "================================\n",
      "learn_multisplits(): initial loss:    45841.91884335519\n",
      "learn_multisplits(): returning loss:  2050.6943466067314\n",
      "================================\n",
      "learn_multisplits(): initial loss:    19082.415144349863\n",
      "learn_multisplits(): returning loss:  874.7184014860541\n",
      "================================\n",
      "learn_multisplits(): initial loss:    12299.49686714883\n",
      "learn_multisplits(): returning loss:  612.8894899319857\n",
      "X_res mse / X mse:  0.025627887\n",
      "fitting dense lstsq to X_res\n",
      "  with X_enc:(256000, 16) Y:(256000, 64)\n",
      "fitted dense lstsq with W:(4096, 64)\n",
      "X_res mse / X mse after lstsq:  0.14838128\n"
     ]
    },
    {
     "name": "stderr",
     "output_type": "stream",
     "text": [
      "/data/hdr/pq/bolt/experiments/python/matmul.py:325: UserWarning: Persisting input arguments took 0.61s to run.\n",
      "If this happens often in your code, it can cause performance problems \n",
      "(results will be correct in all cases). \n",
      "The reason for this is probably some large input arguments for a wrapped\n",
      " function (e.g. large strings).\n",
      "THIS IS A JOBLIB ISSUE. If you can, kindly provide the joblib's team with an\n",
      " example so that they can fix the problem.\n",
      "  est = _fitted_est_for_hparams(\n"
     ]
    }
   ],
   "source": [
    "est3 = mm.estFactory(X_path=linearin_path_train, W_path=weightpath, Y_path=y_train, dir= dir_train, ncodebooks=ncodebooks, ncentroids=ncentroids, methods=[method], nbits=nbits)"
   ]
  },
  {
   "cell_type": "code",
   "execution_count": 7,
   "metadata": {},
   "outputs": [],
   "source": [
    "x_test = np.load(dir_test+'/'+linearin_path_test)\n",
    "w_test = np.load(dir_train+'/'+weightpath)\n",
    "bias = np.load(dir_train+'/'+biaspath)\n",
    "# print(type(est3))\n",
    "y_out_matmul = mm.eval_matmul(est3, x_test, w_test) # MADDNESS乘法的结果\n",
    "# y_out_last = mu.softmax(y_out_matmul + bias.T) # MADDNESS替换后当前层输出，即+bias并激活函数后的结果\n",
    "y_out_last = y_out_matmul + bias.T # MADDNESS替换后当前层输出，即+bias并不需要激活函数后的结果"
   ]
  },
  {
   "cell_type": "code",
   "execution_count": 8,
   "metadata": {},
   "outputs": [
    {
     "name": "stdout",
     "output_type": "stream",
     "text": [
      "[[-0.4266445  -0.44034454 -0.5346551  ... -0.31069577  1.1927899\n",
      "  -0.23415726]\n",
      " [-0.4266445  -0.44034454 -0.5346551  ... -0.31069577  1.1927899\n",
      "  -0.23415726]\n",
      " [-0.4266445  -0.44034454 -0.5346551  ... -0.31069577  1.1927899\n",
      "  -0.23415726]\n",
      " ...\n",
      " [-0.17615527 -0.1898553  -0.2841658  ... -0.31069577  0.9423007\n",
      "  -0.23415726]\n",
      " [-0.17615527 -0.1898553  -0.2841658  ... -0.06020654  0.9423007\n",
      "  -0.23415726]\n",
      " [-0.17615527 -0.1898553  -0.03367659 ... -0.06020654  0.69181144\n",
      "   0.01633197]]\n",
      "y_out_last.shape:  (1024000, 512)\n",
      "y_out_last_re.shape:  (1000, 32, 32, 512)\n"
     ]
    }
   ],
   "source": [
    "print(y_out_last)\n",
    "print(\"y_out_last.shape: \", y_out_last.shape)\n",
    "y_out_last_re = y_out_last.reshape(test_sam_num, batch_size, -1, y_out_last.shape[-1]) #AMM字典模式需要复原y大小\n",
    "print(\"y_out_last_re.shape: \", y_out_last_re.shape)\n",
    "if method == METHOD_EXACT:\n",
    "    train_sam_num = 0 # 训练集样本数\n",
    "if method == METHOD_SCALAR_QUANTIZE:\n",
    "    np.save(os.path.join(dir_result, '%s%s_trsam%i_tesam%i_fb%i_nbits%i.npy' % (method, linear_name, train_sam_num, test_sam_num, feedback_bits, nbits)), y_out_last_re.astype(np.float32))\n",
    "else:\n",
    "    np.save(os.path.join(dir_result, '%s%s_trsam%i_tesam%i_fb%i_cb%i_ct%i.npy' % (method, linear_name, train_sam_num, test_sam_num, feedback_bits, ncodebooks, ncentroids)), y_out_last_re)"
   ]
  },
  {
   "cell_type": "code",
   "execution_count": null,
   "metadata": {},
   "outputs": [],
   "source": []
  }
 ],
 "metadata": {
  "kernelspec": {
   "display_name": "Python 3.8.13 ('pqhdr')",
   "language": "python",
   "name": "python3"
  },
  "language_info": {
   "codemirror_mode": {
    "name": "ipython",
    "version": 3
   },
   "file_extension": ".py",
   "mimetype": "text/x-python",
   "name": "python",
   "nbconvert_exporter": "python",
   "pygments_lexer": "ipython3",
   "version": "3.8.13"
  },
  "orig_nbformat": 4,
  "vscode": {
   "interpreter": {
    "hash": "ec04f7dc2b3ae4a422de9aaf96e8c62fe190a2869a08d14112cb2d7713497448"
   }
  }
 },
 "nbformat": 4,
 "nbformat_minor": 2
}
