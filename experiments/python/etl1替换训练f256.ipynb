{
 "cells": [
  {
   "cell_type": "markdown",
   "metadata": {},
   "source": [
    "encoder transformer层的linear1层（etl1）替换为近似矩阵乘法"
   ]
  },
  {
   "cell_type": "code",
   "execution_count": 28,
   "metadata": {},
   "outputs": [],
   "source": [
    "import numpy as np\n",
    "import os\n",
    "import matmul as mm\n",
    "import math_util as mu\n",
    "import scipy.io as io\n",
    "from amm_methods import *\n",
    "import socket # Obtain the current host name, which can be used to select different data directories and result saving directories"
   ]
  },
  {
   "cell_type": "code",
   "execution_count": 29,
   "metadata": {},
   "outputs": [],
   "source": [
    "# root_path = '/data/hdr/csi_transformer/pic/'\n",
    "# print(root_path)\n",
    "# root_path2 = '/'.join(root_path.split(\"/\")[:-2])\n",
    "# # sys.path.append(root_path)\n",
    "# print(root_path2)"
   ]
  },
  {
   "cell_type": "code",
   "execution_count": 30,
   "metadata": {},
   "outputs": [],
   "source": [
    "# method = METHOD_MITHRAL\n",
    "method = METHOD_PQ\n",
    "# method = METHOD_EXACT\n",
    "# method = METHOD_SCALAR_QUANTIZE"
   ]
  },
  {
   "cell_type": "code",
   "execution_count": 31,
   "metadata": {},
   "outputs": [],
   "source": [
    "linear_name = 'etl1'\n",
    "feedback_bits = 256\n",
    "ncodebooks = 32 # max:64\n",
    "ncentroids = 256\n",
    "if method == METHOD_MITHRAL:\n",
    "    ncentroids = 16\n",
    "train_sam_num = 3000 # 训练集样本数\n",
    "test_sam_num = 1000 # 测试集样本数\n",
    "batch_size = 32"
   ]
  },
  {
   "cell_type": "code",
   "execution_count": 32,
   "metadata": {},
   "outputs": [],
   "source": [
    "host_name = socket.gethostname()\n",
    "if host_name == 'DESKTOP-PLRL7TK':\n",
    "    dir_train = 'E:\\\\hdr\\\\研一\\\\华为-深度学习\\\\intermediate\\\\intermediate8dbfc1'\n",
    "    dir_result = ''\n",
    "elif host_name == 'DESKTOP-6FOH47P':\n",
    "    dir_train = 'F:\\\\Projects\\\\python\\\\PQ\\\\intermediate8dbfc1'\n",
    "    dir_result = 'F:\\\\Projects\\\\python\\\\PQ\\\\res'\n",
    "    data_to_fcpath_train= ''\n",
    "    featurepath_train= ''\n",
    "    data_to_fcpath_test = ''\n",
    "    featurepath_test = ''\n",
    "elif host_name == 'jm-System-Product-Name':\n",
    "    dir_train = os.path.join('/data/hdr/transformer_data/joined', 'train', 'f'+str(feedback_bits))\n",
    "    dir_test = os.path.join('/data/hdr/transformer_data/joined', 'test', 'f'+str(feedback_bits))\n",
    "    dir_result = '/data/hdr/pq/res'\n",
    "    data_to_fcpath_train= 'ex_linear1in_train_f%i_sam%i.npy' % (feedback_bits, train_sam_num)\n",
    "    y_train = 'ex_linear1_y_train_f%i_sam%i.npy' % (feedback_bits, train_sam_num)\n",
    "    featurepath_train= 'ex_linear1out_train_f%i_sam%i.npy' % (feedback_bits, train_sam_num)\n",
    "    data_to_fcpath_test = 'ex_linear1in_test.npy'\n",
    "    featurepath_test = 'ex_linear1out_test.npy'\n",
    "    # y_test = 'y_test.npy'\n",
    "else:\n",
    "    raise NameError(\"You are running the script in a new computer, please define dir_train\")\n",
    "\n",
    "\n",
    "weightpath = 'ex_linear1_w_f256.npy'\n",
    "biaspath = 'ex_linear1_b_f256.npy'\n",
    "dir_result = os.path.join(dir_result, method, \"f%i\" % feedback_bits, linear_name)\n",
    "try:\n",
    "    os.mkdir(dir_result)\n",
    "except FileExistsError:\n",
    "    pass \n"
   ]
  },
  {
   "cell_type": "code",
   "execution_count": 33,
   "metadata": {},
   "outputs": [
    {
     "name": "stdout",
     "output_type": "stream",
     "text": [
      "==============================\n",
      "running method:  PQ\n",
      "running kmeans in subspace 1/32... mse / {var(X_subs), var(X)}: 0.0104, 0.00393\n",
      "running kmeans in subspace 2/32... mse / {var(X_subs), var(X)}: 0.00949, 0.00333\n",
      "running kmeans in subspace 3/32... mse / {var(X_subs), var(X)}: 0.0154, 0.00563\n",
      "running kmeans in subspace 4/32... mse / {var(X_subs), var(X)}: 0.0229, 0.0168\n",
      "running kmeans in subspace 5/32... mse / {var(X_subs), var(X)}: 0.0137, 0.0236\n",
      "running kmeans in subspace 6/32... mse / {var(X_subs), var(X)}: 0.0168, 0.0365\n",
      "running kmeans in subspace 7/32... mse / {var(X_subs), var(X)}: 0.00916, 0.0219\n",
      "running kmeans in subspace 8/32... mse / {var(X_subs), var(X)}: 0.0107, 0.0214\n",
      "running kmeans in subspace 9/32... mse / {var(X_subs), var(X)}: 0.0131, 0.0108\n",
      "running kmeans in subspace 10/32... mse / {var(X_subs), var(X)}: 0.0145, 0.00729\n",
      "running kmeans in subspace 11/32... mse / {var(X_subs), var(X)}: 0.0128, 0.00362\n",
      "running kmeans in subspace 12/32... mse / {var(X_subs), var(X)}: 0.0119, 0.00308\n",
      "running kmeans in subspace 13/32... mse / {var(X_subs), var(X)}: 0.0109, 0.00201\n",
      "running kmeans in subspace 14/32... mse / {var(X_subs), var(X)}: 0.0149, 0.00261\n",
      "running kmeans in subspace 15/32... mse / {var(X_subs), var(X)}: 0.0125, 0.00273\n",
      "running kmeans in subspace 16/32... mse / {var(X_subs), var(X)}: 0.0101, 0.00211\n",
      "running kmeans in subspace 17/32... mse / {var(X_subs), var(X)}: 0.00656, 0.00203\n",
      "running kmeans in subspace 18/32... mse / {var(X_subs), var(X)}: 0.00714, 0.00292\n",
      "running kmeans in subspace 19/32... mse / {var(X_subs), var(X)}: 0.0251, 0.00663\n",
      "running kmeans in subspace 20/32... mse / {var(X_subs), var(X)}: 0.0394, 0.0169\n",
      "running kmeans in subspace 21/32... mse / {var(X_subs), var(X)}: 0.0166, 0.0172\n",
      "running kmeans in subspace 22/32... mse / {var(X_subs), var(X)}: 0.0117, 0.0172\n",
      "running kmeans in subspace 23/32... mse / {var(X_subs), var(X)}: 0.0122, 0.0259\n",
      "running kmeans in subspace 24/32... mse / {var(X_subs), var(X)}: 0.00825, 0.0209\n",
      "running kmeans in subspace 25/32... mse / {var(X_subs), var(X)}: 0.0121, 0.0167\n",
      "running kmeans in subspace 26/32... mse / {var(X_subs), var(X)}: 0.0154, 0.0109\n",
      "running kmeans in subspace 27/32... mse / {var(X_subs), var(X)}: 0.0108, 0.0164\n",
      "running kmeans in subspace 28/32... mse / {var(X_subs), var(X)}: 0.00431, 0.0153\n",
      "running kmeans in subspace 29/32... mse / {var(X_subs), var(X)}: 0.00462, 0.00735\n",
      "running kmeans in subspace 30/32... mse / {var(X_subs), var(X)}: 0.00997, 0.00521\n",
      "running kmeans in subspace 31/32... mse / {var(X_subs), var(X)}: 0.00696, 0.008\n",
      "running kmeans in subspace 32/32... mse / {var(X_subs), var(X)}: 0.0148, 0.00316\n",
      "--- total mse / var(X): 0.0113\n",
      "learning quantization...\n"
     ]
    }
   ],
   "source": [
    "est3 = mm.estFactory(X_path=data_to_fcpath_train, W_path=weightpath, Y_path=y_train, dir= dir_train, ncodebooks=ncodebooks, ncentroids=ncentroids, methods=[method])\n"
   ]
  },
  {
   "cell_type": "code",
   "execution_count": 34,
   "metadata": {},
   "outputs": [],
   "source": [
    "# type(est3)"
   ]
  },
  {
   "cell_type": "code",
   "execution_count": 35,
   "metadata": {},
   "outputs": [],
   "source": [
    "x_test = np.load(dir_test+'/'+data_to_fcpath_test)\n",
    "w_test = np.load(dir_train+'/'+weightpath)\n",
    "bias = np.load(dir_train+'/'+biaspath)\n",
    "# print(type(est3))\n",
    "y_out_matmul = mm.eval_matmul(est3, x_test, w_test) # MADDNESS乘法的结果\n",
    "# y_out_last = mu.softmax(y_out_matmul + bias.T) # MADDNESS替换后当前层输出，即+bias并激活函数后的结果\n",
    "y_out_last = y_out_matmul + bias.T # MADDNESS替换后当前层输出，即+bias并不需要激活函数后的结果"
   ]
  },
  {
   "cell_type": "code",
   "execution_count": 36,
   "metadata": {},
   "outputs": [
    {
     "name": "stdout",
     "output_type": "stream",
     "text": [
      "[[-0.4879309  -0.45174497 -0.5377412  ... -0.35225588  0.9048168\n",
      "  -0.4253752 ]\n",
      " [-0.5087167  -0.46837363 -0.46291226 ... -0.29821277  0.8881882\n",
      "  -0.39627504]\n",
      " [-0.43388778 -0.43095917 -0.5127982  ... -0.33562723  0.9339169\n",
      "  -0.4253752 ]\n",
      " ...\n",
      " [-0.31333008 -0.30208716 -0.4254978  ... -0.30236995  0.72190166\n",
      "  -0.33391765]\n",
      " [-0.38400185 -0.37691608 -0.42134064 ... -0.13608345  0.76763046\n",
      "  -0.37133208]\n",
      " [-0.25097266 -0.31040147 -0.18853958 ... -0.12361197  0.5597724\n",
      "  -0.18841696]]\n",
      "y_out_last.shape:  (1024000, 512)\n",
      "y_out_last_re.shape:  (1000, 32, 32, 512)\n"
     ]
    }
   ],
   "source": [
    "print(y_out_last)\n",
    "print(\"y_out_last.shape: \", y_out_last.shape)\n",
    "y_out_last_re = y_out_last.reshape(test_sam_num, batch_size, -1, y_out_last.shape[-1])\n",
    "print(\"y_out_last_re.shape: \", y_out_last_re.shape)\n",
    "# np.save(\"LDPC_decoder_NET_testdata/\" + snr + \"nomul_matmul_yout_matmul\", y_out_matmul)\n",
    "# np.save(dir_result+'/'+method+'fc1_fb256_cb%i_ct%i.npy' % (ncodebooks, ncentroids), y_out_matmul)\n",
    "np.save(os.path.join(dir_result, '%s%s_trsam%i_tesam%i_fb%i_cb%i_ct%i.npy' % (method, linear_name, train_sam_num, test_sam_num, feedback_bits, ncodebooks, ncentroids)), y_out_last_re)\n",
    "# io.savemat(dir_result+'\\\\fc1_256.mat', {\"NN_output_buffer\": y_out_last})"
   ]
  },
  {
   "cell_type": "code",
   "execution_count": null,
   "metadata": {},
   "outputs": [],
   "source": []
  }
 ],
 "metadata": {
  "kernelspec": {
   "display_name": "Python 3.8.13 ('pqhdr')",
   "language": "python",
   "name": "python3"
  },
  "language_info": {
   "codemirror_mode": {
    "name": "ipython",
    "version": 3
   },
   "file_extension": ".py",
   "mimetype": "text/x-python",
   "name": "python",
   "nbconvert_exporter": "python",
   "pygments_lexer": "ipython3",
   "version": "3.8.13"
  },
  "orig_nbformat": 4,
  "vscode": {
   "interpreter": {
    "hash": "ec04f7dc2b3ae4a422de9aaf96e8c62fe190a2869a08d14112cb2d7713497448"
   }
  }
 },
 "nbformat": 4,
 "nbformat_minor": 2
}
