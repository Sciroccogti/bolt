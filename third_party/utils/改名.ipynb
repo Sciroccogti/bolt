{
 "cells": [
  {
   "cell_type": "code",
   "execution_count": 1,
   "metadata": {},
   "outputs": [],
   "source": [
    "import os\n",
    "import shutil\n"
   ]
  },
  {
   "cell_type": "code",
   "execution_count": 2,
   "metadata": {},
   "outputs": [
    {
     "name": "stdout",
     "output_type": "stream",
     "text": [
      "filename: Mithraletl2_trsam1000_tesam1000_fb256_cb32_ct16_ql0_nb0_uc-1.npy\n",
      "new_filename: Mithraletl2_trsam1000_tesam1000_fb256_cb32_ct16_ql0_nb0_uc-1_lwc-1.npy\n",
      "filename: Mithraletl2_trsam20_tesam1000_fb256_cb128_ct256_ql0_nb0_uc-1.npy\n",
      "new_filename: Mithraletl2_trsam20_tesam1000_fb256_cb128_ct256_ql0_nb0_uc-1_lwc-1.npy\n",
      "filename: Mithraletl2_trsam250_tesam1000_fb256_cb32_ct128_ql0_nb0_uc-1.npy\n",
      "new_filename: Mithraletl2_trsam250_tesam1000_fb256_cb32_ct128_ql0_nb0_uc-1_lwc-1.npy\n",
      "filename: Mithraletl2_trsam500_tesam1000_fb256_cb16_ct64_ql0_nb0_uc-1.npy\n",
      "new_filename: Mithraletl2_trsam500_tesam1000_fb256_cb16_ct64_ql0_nb0_uc-1_lwc-1.npy\n",
      "filename: Mithraletl2_trsam1000_tesam1000_fb256_cb16_ct16_ql0_nb0_uc-1.npy\n",
      "new_filename: Mithraletl2_trsam1000_tesam1000_fb256_cb16_ct16_ql0_nb0_uc-1_lwc-1.npy\n",
      "filename: Mithraletl2_trsam500_tesam1000_fb256_cb16_ct128_ql0_nb0_uc-1.npy\n",
      "new_filename: Mithraletl2_trsam500_tesam1000_fb256_cb16_ct128_ql0_nb0_uc-1_lwc-1.npy\n",
      "filename: Mithraletl2_trsam20_tesam1000_fb256_cb512_ct64_ql0_nb0_uc-1.npy\n",
      "new_filename: Mithraletl2_trsam20_tesam1000_fb256_cb512_ct64_ql0_nb0_uc-1_lwc-1.npy\n",
      "filename: Mithraletl2_trsam250_tesam1000_fb256_cb16_ct256_ql0_nb0_uc-1.npy\n",
      "new_filename: Mithraletl2_trsam250_tesam1000_fb256_cb16_ct256_ql0_nb0_uc-1_lwc-1.npy\n",
      "filename: Mithraletl2_trsam575_tesam1000_fb256_cb32_ct64_ql0_nb0_uc-1.npy\n",
      "new_filename: Mithraletl2_trsam575_tesam1000_fb256_cb32_ct64_ql0_nb0_uc-1_lwc-1.npy\n",
      "filename: Mithraletl2_trsam625_tesam1000_fb256_cb128_ct16_ql0_nb0_uc-1.npy\n",
      "new_filename: Mithraletl2_trsam625_tesam1000_fb256_cb128_ct16_ql0_nb0_uc-1_lwc-1.npy\n",
      "filename: Mithraletl2_trsam100_tesam1000_fb256_cb256_ct16_ql0_nb0_uc-1.npy\n",
      "new_filename: Mithraletl2_trsam100_tesam1000_fb256_cb256_ct16_ql0_nb0_uc-1_lwc-1.npy\n",
      "filename: Mithraletl2_trsam150_tesam1000_fb256_cb32_ct256_ql0_nb0_uc-1.npy\n",
      "new_filename: Mithraletl2_trsam150_tesam1000_fb256_cb32_ct256_ql0_nb0_uc-1_lwc-1.npy\n",
      "filename: Mithraletl2_trsam125_tesam1000_fb256_cb128_ct64_ql0_nb0_uc-1.npy\n",
      "new_filename: Mithraletl2_trsam125_tesam1000_fb256_cb128_ct64_ql0_nb0_uc-1_lwc-1.npy\n",
      "filename: Mithraletl2_trsam1000_tesam1000_fb256_cb64_ct16_ql0_nb0_uc-1.npy\n",
      "new_filename: Mithraletl2_trsam1000_tesam1000_fb256_cb64_ct16_ql0_nb0_uc-1_lwc-1.npy\n",
      "filename: Mithraletl2_trsam50_tesam1000_fb256_cb128_ct128_ql0_nb0_uc-1.npy\n",
      "new_filename: Mithraletl2_trsam50_tesam1000_fb256_cb128_ct128_ql0_nb0_uc-1_lwc-1.npy\n",
      "filename: Mithraletl2_trsam50_tesam1000_fb256_cb512_ct16_ql0_nb0_uc-1.npy\n",
      "new_filename: Mithraletl2_trsam50_tesam1000_fb256_cb512_ct16_ql0_nb0_uc-1_lwc-1.npy\n",
      "filename: Mithraletl2_trsam75_tesam1000_fb256_cb64_ct256_ql0_nb0_uc-1.npy\n",
      "new_filename: Mithraletl2_trsam75_tesam1000_fb256_cb64_ct256_ql0_nb0_uc-1_lwc-1.npy\n",
      "filename: Mithraletl2_trsam75_tesam1000_fb256_cb256_ct64_ql0_nb0_uc-1.npy\n",
      "new_filename: Mithraletl2_trsam75_tesam1000_fb256_cb256_ct64_ql0_nb0_uc-1_lwc-1.npy\n",
      "filename: Mithraletl2_trsam350_tesam1000_fb256_cb64_ct64_ql0_nb0_uc-1.npy\n",
      "new_filename: Mithraletl2_trsam350_tesam1000_fb256_cb64_ct64_ql0_nb0_uc-1_lwc-1.npy\n",
      "文件名修改完成！\n"
     ]
    }
   ],
   "source": [
    "\n",
    "# 指定要修改的文件夹路径\n",
    "folder_path = \"/data/hdr/pq/res/Mithral/f256/etl2\"\n",
    "\n",
    "# 指定要修改的字符串\n",
    "old_string = \"uc-1.npy\"\n",
    "new_string = \"uc-1_lwc-1.npy\"\n",
    "\n",
    "# 遍历文件夹中的所有文件\n",
    "for filename in os.listdir(folder_path):\n",
    "    # 获取文件的完整路径\n",
    "    file_path = os.path.join(folder_path, filename)\n",
    "    # 判断文件是否是普通文件\n",
    "    if os.path.isfile(file_path):\n",
    "        # 判断文件名是否包含需要修改的字符串\n",
    "        if old_string in filename:\n",
    "            # 获取文件扩展名\n",
    "            ext = os.path.splitext(filename)[1]\n",
    "            # 构建新文件名\n",
    "            new_filename = filename.replace(old_string, new_string)\n",
    "            print(\"filename:\",filename)\n",
    "            print(\"new_filename:\",new_filename)\n",
    "            # 构建新文件路径\n",
    "            new_file_path = os.path.join(folder_path, new_filename)\n",
    "            # 修改文件名\n",
    "            shutil.move(file_path, new_file_path)\n",
    "\n",
    "print(\"文件名修改完成！\")\n"
   ]
  }
 ],
 "metadata": {
  "kernelspec": {
   "display_name": "pqhdr",
   "language": "python",
   "name": "python3"
  },
  "language_info": {
   "codemirror_mode": {
    "name": "ipython",
    "version": 3
   },
   "file_extension": ".py",
   "mimetype": "text/x-python",
   "name": "python",
   "nbconvert_exporter": "python",
   "pygments_lexer": "ipython3",
   "version": "3.8.13"
  },
  "orig_nbformat": 4,
  "vscode": {
   "interpreter": {
    "hash": "ec04f7dc2b3ae4a422de9aaf96e8c62fe190a2869a08d14112cb2d7713497448"
   }
  }
 },
 "nbformat": 4,
 "nbformat_minor": 2
}
